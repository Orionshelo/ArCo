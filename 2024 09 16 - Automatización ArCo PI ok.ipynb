{
 "cells": [
  {
   "cell_type": "markdown",
   "id": "800c2b6e",
   "metadata": {},
   "source": [
    "# Automatización Base ArCo"
   ]
  },
  {
   "cell_type": "markdown",
   "id": "e96f56b6",
   "metadata": {},
   "source": [
    "## Importación de librerías y configuración de directorio"
   ]
  },
  {
   "cell_type": "code",
   "execution_count": 9,
   "id": "f22107d9",
   "metadata": {},
   "outputs": [
    {
     "name": "stdout",
     "output_type": "stream",
     "text": [
      "Collecting openpyxl\n",
      "  Downloading openpyxl-3.1.5-py2.py3-none-any.whl.metadata (2.5 kB)\n",
      "Collecting et-xmlfile (from openpyxl)\n",
      "  Downloading et_xmlfile-1.1.0-py3-none-any.whl.metadata (1.8 kB)\n",
      "Downloading openpyxl-3.1.5-py2.py3-none-any.whl (250 kB)\n",
      "   ---------------------------------------- 0.0/250.9 kB ? eta -:--:--\n",
      "   - -------------------------------------- 10.2/250.9 kB ? eta -:--:--\n",
      "   ---- ---------------------------------- 30.7/250.9 kB 435.7 kB/s eta 0:00:01\n",
      "   -------------- ------------------------ 92.2/250.9 kB 744.7 kB/s eta 0:00:01\n",
      "   -------------------------------- ------- 204.8/250.9 kB 1.2 MB/s eta 0:00:01\n",
      "   ---------------------------------------- 250.9/250.9 kB 1.3 MB/s eta 0:00:00\n",
      "Downloading et_xmlfile-1.1.0-py3-none-any.whl (4.7 kB)\n",
      "Installing collected packages: et-xmlfile, openpyxl\n",
      "Successfully installed et-xmlfile-1.1.0 openpyxl-3.1.5\n"
     ]
    },
    {
     "name": "stderr",
     "output_type": "stream",
     "text": [
      "\n",
      "[notice] A new release of pip is available: 24.0 -> 24.2\n",
      "[notice] To update, run: C:\\Users\\damatiz\\AppData\\Local\\Microsoft\\WindowsApps\\PythonSoftwareFoundation.Python.3.11_qbz5n2kfra8p0\\python.exe -m pip install --upgrade pip\n"
     ]
    }
   ],
   "source": [
    "!pip install openpyxl"
   ]
  },
  {
   "cell_type": "code",
   "execution_count": 9,
   "id": "134c2c2b",
   "metadata": {},
   "outputs": [],
   "source": [
    "###### ArCo ARMADO DE LA BASE#######\n",
    "import os\n",
    "from typing import List\n",
    "import pandas as pd\n",
    "from datetime import datetime\n",
    "# Establecer el directorio de trabajo\n",
    "os.chdir(\"C:/Backup - Archivos de trabajo/DNP/Automatización ArCo/Excel\")\n",
    "# Saca la lista de archivos del directorio de trabajo\n",
    "#os.listdir()\n",
    "# Obtener la fecha actual\n",
    "fecha_actual = datetime.now().strftime(\"%Y %m %d\")\n",
    "#print(fecha_actual)\n",
    "\n",
    "# Construir el nombre del archivo basado en la fecha actual\n",
    "#nombre_archivo = f\"{fecha_actual} Informe ArCo.xlsx\"\n",
    "\n",
    "# Construir el nombre del archivo cuando la fecha no es la actual. Aquí solo se modifica la fecha. \n",
    "nombre_archivo = \"2024 10 25 ArCo PI.xlsx\"\n"
   ]
  },
  {
   "cell_type": "code",
   "execution_count": 10,
   "id": "44c364ef",
   "metadata": {},
   "outputs": [
    {
     "name": "stdout",
     "output_type": "stream",
     "text": [
      "2024 10 25 ArCo PI.xlsx\n"
     ]
    }
   ],
   "source": [
    "print(nombre_archivo)"
   ]
  },
  {
   "cell_type": "markdown",
   "id": "69334a6c",
   "metadata": {},
   "source": [
    "## Selección de hojas de cálculo del Informe ArCo"
   ]
  },
  {
   "cell_type": "code",
   "execution_count": 11,
   "id": "ed9ca21e",
   "metadata": {},
   "outputs": [],
   "source": [
    "# Armado de la base -> Ruta de cada hoja, con los distintos tipos de información\n",
    "general = pd.read_excel(nombre_archivo, sheet_name=\"1. Informe General\")\n",
    "\n",
    "beneficios = pd.read_excel(nombre_archivo, sheet_name=\"3. Beneficios\")\n",
    "\n",
    "Cobertura = pd.read_excel(nombre_archivo, sheet_name=\"4. Cobertura\")\n",
    "\n",
    "OPP = pd.read_excel(nombre_archivo, sheet_name=\"6. OPP\")\n",
    "\n",
    "Basica = pd.read_excel(nombre_archivo, sheet_name=\"7, Informacion Basica\")\n",
    "\n",
    "Dirigido_ampliado = pd.read_excel(nombre_archivo, sheet_name=\"9, Dirigido a\")\n",
    "\n",
    "test = pd.read_excel(nombre_archivo, sheet_name=\"10, Test\")\n",
    "\n",
    "Dirigido = pd.read_excel(nombre_archivo, sheet_name=\"11, Dirigido segun req.\")\n",
    "\n",
    "Beneficios_requerimiento = pd.read_excel(nombre_archivo, sheet_name=\"12, Beneficios Req.\")\n",
    "\n",
    "Localización = pd.read_excel(nombre_archivo, sheet_name=\"14, Localizacion\")\n",
    "\n",
    "Financiacion = pd.read_excel(nombre_archivo, sheet_name=\"15, Financiamiento Req.\")\n",
    "\n",
    "Fechas = pd.read_excel(nombre_archivo, sheet_name=\"16, Fechas\")\n",
    "\n",
    "# descripciones_sep = pd.read_excel(\"2024 03 26 Informe ArCo.xlsx\", sheet_name=\"17, Descripciones separadas\")\n",
    "\n",
    "Dirigido_ampliado = Dirigido_ampliado.drop(Dirigido_ampliado.columns[[4]], axis=1)\n"
   ]
  },
  {
   "cell_type": "markdown",
   "id": "6a1bc917",
   "metadata": {},
   "source": [
    "## Unión de bases"
   ]
  },
  {
   "cell_type": "code",
   "execution_count": 12,
   "id": "c627d20e",
   "metadata": {},
   "outputs": [],
   "source": [
    "# Unión de las distintas bases de datos\n",
    "\"\"\"\n",
    "se unen por medio del ContentID/Código para encontrar la coincidencia en\n",
    "las distintas hojas del archivo de excel\n",
    "\"\"\"\n",
    "\n",
    "PR = pd.merge(general, Beneficios_requerimiento, on=[\"ContentID\", \"Entidad\", \"Nombre_Instrumento\"], how=\"outer\")\n",
    "PR = pd.merge(PR, beneficios, on=[\"ContentID\", \"Entidad\", \"Nombre_Instrumento\"], how=\"outer\")\n",
    "PR = pd.merge(PR, Dirigido, on=[\"ContentID\", \"Entidad\", \"Nombre_Instrumento\"], how=\"outer\")\n",
    "PR = pd.merge(PR, Basica, on=[\"ContentID\", \"Entidad\", \"Nombre_Instrumento\"], how=\"outer\")\n",
    "PR = pd.merge(PR, Cobertura, on=[\"ContentID\", \"Entidad\", \"Nombre_Instrumento\"], how=\"outer\")\n",
    "PR = pd.merge(PR, Localización, on=[\"ContentID\"], how=\"outer\")\n",
    "PR = pd.merge(PR, OPP, on=[\"ContentID\", \"Entidad\", \"Nombre_Instrumento\"], how=\"outer\")\n",
    "PR = pd.merge(PR, test, on=[\"ContentID\", \"Entidad\", \"Nombre_Instrumento\"], how=\"outer\")\n",
    "PR = pd.merge(PR, Dirigido_ampliado, on=[\"ContentID\", \"Entidad\", \"Nombre_Instrumento\"], how=\"outer\")\n",
    "PR = pd.merge(PR, Financiacion, on=[\"ContentID\", \"Entidad\", \"Nombre_Instrumento\"], how=\"outer\")\n",
    "PR = pd.merge(PR, Fechas, on=[\"ContentID\", \"Nombre_Instrumento\"], how=\"outer\")\n",
    "# PR = pd.merge(PR, descripciones_sep, on=[\"ContentID\", \"Nombre_Instrumento\"], how=\"outer\")"
   ]
  },
  {
   "cell_type": "code",
   "execution_count": 13,
   "id": "f9336fe0",
   "metadata": {},
   "outputs": [
    {
     "name": "stdout",
     "output_type": "stream",
     "text": [
      "0                           admin@admin.com\n",
      "1         sebastian.rueda@camaradirecta.com\n",
      "2                        jgarcia@ccm.org.co\n",
      "3          luis.henao@camaramedellin.com.co\n",
      "4          luis.henao@camaramedellin.com.co\n",
      "5          luis.henao@camaramedellin.com.co\n",
      "6                   obenavides@agrosavia.co\n",
      "7                   obenavides@agrosavia.co\n",
      "8                   obenavides@agrosavia.co\n",
      "9          paula.paez@derechodeautor.gov.co\n",
      "10     laura.villamil@derechodeautor.gov.co\n",
      "11     laura.villamil@derechodeautor.gov.co\n",
      "12     laura.villamil@derechodeautor.gov.co\n",
      "13     laura.villamil@derechodeautor.gov.co\n",
      "14     laura.villamil@derechodeautor.gov.co\n",
      "15                          admin@admin.com\n",
      "16     laura.villamil@derechodeautor.gov.co\n",
      "17         paula.paez@derechodeautor.gov.co\n",
      "18               jeimy.velasquez@ica.gov.co\n",
      "19               jeimy.velasquez@ica.gov.co\n",
      "20    yeinson.castano@minagricultura.gov.co\n",
      "21             cccepedab@minciencias.gov.co\n",
      "22             cccepedab@minciencias.gov.co\n",
      "23                                      NaN\n",
      "24                                      NaN\n",
      "25                                      NaN\n",
      "26                                      NaN\n",
      "27                                      NaN\n",
      "28                                      NaN\n",
      "29                mduenas@reddicolombia.com\n",
      "30                mduenas@reddicolombia.com\n",
      "31                mduenas@reddicolombia.com\n",
      "32                mduenas@reddicolombia.com\n",
      "33                mduenas@reddicolombia.com\n",
      "34                        lsilva@sic.gov.co\n",
      "35                        lsilva@sic.gov.co\n",
      "36                                      NaN\n",
      "37                                      NaN\n",
      "38                                      NaN\n",
      "39                mduenas@reddicolombia.com\n",
      "40                                      NaN\n",
      "41                                      NaN\n",
      "Name: Email, dtype: object\n"
     ]
    }
   ],
   "source": [
    "#print(PR)\n",
    "PR.columns.tolist()\n",
    "print(PR[\"Email\"])"
   ]
  },
  {
   "cell_type": "markdown",
   "id": "a73199e1",
   "metadata": {},
   "source": [
    "## Selección de columnas y renombramiento de variables"
   ]
  },
  {
   "cell_type": "code",
   "execution_count": 19,
   "id": "f936ef51",
   "metadata": {
    "scrolled": true
   },
   "outputs": [],
   "source": [
    "columnas_seleccionadas = [\n",
    "    \"ContentID\", \"ShortSector\", \"Entidad\", \"Nombre_Instrumento\", \"Email\", \"Descripcion\", \"EmbedURL\", \"Años Existencia_x\",\n",
    "    \"Iteracion\", \"Microempresa\", \"Pequeña Empresa\", \"Mediana Empresa\", \"Gobierno \", \"Academia_x\",\n",
    "    \"Personas naturales\", \"Formación de Talento Humano_x\", \"Tipo de Sistemas de Información\",\n",
    "    \"Asistencia técnica y Consultoría_x\", \"Tipo de Redes de Colaboración\", \"Apoyo Financiero_x\",\n",
    "    \"Incentivos Tributarios\", \"Eventos_y\", \"Compra Pública_x\", \"Bonos o Vouchers_x\", \"Premios y Reconocimientos_x\",\n",
    "    \"Instrumentos Regulatorios_x\", \"Tipo de instrumento\", \"Alcance\", \"Convocatoria\", \"Canal de Acceso\",\n",
    "    \"Temporalidad\", \"Ejecución_x\", \"¿El instrumento cuenta con enfoque de género?\", \"Fecha_Apertura\", \"Fecha_Cierre\",\n",
    "    \"Cobertura\", \"Departamentos\", \"Municipios\",\"Transferencia de Conocimiento y Tecnología\",\n",
    "    \"Propiedad intelectual\",\"Si el instrumento es de propiedad intelectual por favor marque aquí!_y\",\n",
    "    \"¿Qué tipos de derechos de propiedad intelectual contempla?\",\n",
    "    \"Recursos fuente PGN\", \"Recursos fuente SGR\",\n",
    "    \"Recursos fuente Cooperacion\", \"Recursos fuente Esfuerzo Fiscal\", \"Recursos fuente Parafiscales\",\n",
    "    \"Recursos fuente Otro\"\n",
    "]\n",
    "\n",
    "ARCO = PR[columnas_seleccionadas]\n",
    "\n",
    "# Diccionario con los nombres de columnas a reemplazar\n",
    "rename_columns = {\n",
    "    \"ContentID\": \"Código\",\n",
    "    \"ShortSector\": \"Sector\",\n",
    "    \"Nombre_Instrumento\": \"Nombre del Instrumento\",\n",
    "    \"Descripcion\" : \"Descripción\",\n",
    "    \"EmbedURL\": \"Página Web\",\n",
    "    \"Años Existencia\": \"Antigüedad\",\n",
    "    \"Iteracion\" : \"Iteración\",\n",
    "    \"Emprendedores_x\": \"Emprendedores\",\n",
    "    \"Grandes empresas_x\": \"Grandes empresas\",\n",
    "    \"Academia_x\": \"Academia\",\n",
    "    \"Formación de Talento Humano_x\": \"Formación de Talento Humano\",\n",
    "    \"Asistencia técnica y Consultoría_x\": \"Asistencia técnica y Consultoría\",\n",
    "    \"Apoyo Financiero_x\": \"Apoyo Financiero\",\n",
    "    \"Incentivos Tributarios_x\": \"Incentivos Tributarios\",\n",
    "    \"Eventos_y\": \"Eventos\",\n",
    "    \"Compra Pública_x\": \"Compra Pública\",\n",
    "    \"Bonos o Vouchers_x\": \"Bonos o Vouchers\",\n",
    "    \"Premios y Reconocimientos_x\": \"Premios y Reconocimientos\",\n",
    "    \"Instrumentos Regulatorios_x\": \"Instrumentos Regulatorios\",\n",
    "    \"Fecha_Apertura\": \"Fecha de Apertura\",\n",
    "    \"Fecha_Cierre\": \"Fecha de Cierre\",\n",
    "    \"X -Si el instrumento es de emprendimiento por favor marque aquí!_y\": \"X -Si el instrumento es de emprendimiento por favor marque aquí!\"\n",
    "}\n",
    "\n",
    "# Renombrar las columnas utilizando el diccionario\n",
    "ARCO = ARCO.rename(columns=rename_columns)\n",
    "\n",
    "\n"
   ]
  },
  {
   "cell_type": "code",
   "execution_count": 20,
   "id": "84d7e5a4",
   "metadata": {
    "scrolled": true
   },
   "outputs": [
    {
     "data": {
      "text/plain": [
       "['Código',\n",
       " 'Sector',\n",
       " 'Entidad',\n",
       " 'Nombre del Instrumento',\n",
       " 'Email',\n",
       " 'Descripción',\n",
       " 'Página Web',\n",
       " 'Años Existencia_x',\n",
       " 'Iteración',\n",
       " 'Microempresa',\n",
       " 'Pequeña Empresa',\n",
       " 'Mediana Empresa',\n",
       " 'Gobierno ',\n",
       " 'Academia',\n",
       " 'Personas naturales',\n",
       " 'Formación de Talento Humano',\n",
       " 'Tipo de Sistemas de Información',\n",
       " 'Asistencia técnica y Consultoría',\n",
       " 'Tipo de Redes de Colaboración',\n",
       " 'Apoyo Financiero',\n",
       " 'Incentivos Tributarios',\n",
       " 'Eventos',\n",
       " 'Compra Pública',\n",
       " 'Bonos o Vouchers',\n",
       " 'Premios y Reconocimientos',\n",
       " 'Instrumentos Regulatorios',\n",
       " 'Tipo de instrumento',\n",
       " 'Alcance',\n",
       " 'Convocatoria',\n",
       " 'Canal de Acceso',\n",
       " 'Temporalidad',\n",
       " 'Ejecución_x',\n",
       " '¿El instrumento cuenta con enfoque de género?',\n",
       " 'Fecha de Apertura',\n",
       " 'Fecha de Cierre',\n",
       " 'Cobertura',\n",
       " 'Departamentos',\n",
       " 'Municipios',\n",
       " 'Transferencia de Conocimiento y Tecnología',\n",
       " 'Propiedad intelectual',\n",
       " 'Si el instrumento es de propiedad intelectual por favor marque aquí!_y',\n",
       " '¿Qué tipos de derechos de propiedad intelectual contempla?',\n",
       " 'Recursos fuente PGN',\n",
       " 'Recursos fuente SGR',\n",
       " 'Recursos fuente Cooperacion',\n",
       " 'Recursos fuente Esfuerzo Fiscal',\n",
       " 'Recursos fuente Parafiscales',\n",
       " 'Recursos fuente Otro']"
      ]
     },
     "execution_count": 20,
     "metadata": {},
     "output_type": "execute_result"
    }
   ],
   "source": [
    "#print(PR)\n",
    "ARCO.columns.tolist()"
   ]
  },
  {
   "cell_type": "markdown",
   "id": "415df9ea",
   "metadata": {},
   "source": [
    "## Reemplazo de espacios en blanco con No"
   ]
  },
  {
   "cell_type": "code",
   "execution_count": 23,
   "id": "4511e775",
   "metadata": {},
   "outputs": [],
   "source": [
    "# Definir las columnas a modificar\n",
    "columnas_a_modificar = [\n",
    "    \"Microempresa\", \"Pequeña Empresa\", \"Gobierno \", \"Academia\", \"Personas naturales\",\n",
    "    \"Formación de Talento Humano\", \"Tipo de Sistemas de Información\", \"Asistencia técnica y Consultoría\",\n",
    "    \"Tipo de Redes de Colaboración\", \"Apoyo Financiero\", \"Incentivos Tributarios\", \"Eventos\", \"Compra Pública\",\n",
    "    \"Bonos o Vouchers\", \"Premios y Reconocimientos\", \"Instrumentos Regulatorios\", \"Transferencia de Conocimiento y Tecnología\",\n",
    "    \"Propiedad intelectual\", \"Si el instrumento es de propiedad intelectual por favor marque aquí!_y\", \n",
    "    \"¿Qué tipos de derechos de propiedad intelectual contempla?\"\n",
    "]\n",
    "\n",
    "# Reemplazar los espacios en blanco con \"No\" en las columnas especificadas\n",
    "ARCO[columnas_a_modificar] = ARCO[columnas_a_modificar].fillna(\"No\")"
   ]
  },
  {
   "cell_type": "code",
   "execution_count": 24,
   "id": "55a732fc",
   "metadata": {},
   "outputs": [],
   "source": [
    "ARCO[\"Tipo de Sistemas de Información\"] = ARCO[\"Tipo de Sistemas de Información\"].apply(lambda x: \"No\" if x == \"No\" else \"Si\")\n",
    "ARCO[\"Tipo de Redes de Colaboración\"] = ARCO[\"Tipo de Redes de Colaboración\"].apply(lambda x: \"No\" if x == \"No\" else \"Si\")\n",
    "#ARCO[\"¿Hacia qué etapa del emprendimiento le apunta el instrumento?\"] = ARCO[\"¿Hacia qué etapa del emprendimiento le apunta el instrumento?\"].apply(lambda x: \"No\" if x == \"No\" else \"Si\")\n",
    "#ARCO[\"¿Qué busca mejorar/consolidar en los emprendimientos?\"] = ARCO[\"¿Qué busca mejorar/consolidar en los emprendimientos?\"].apply(lambda x: \"No\" if x == \"No\" else \"Si\")\n",
    "#ARCO[\"1. Señale cuál o cuáles de las siguientes brechas\"] = ARCO[\"1. Señale cuál o cuáles de las siguientes brechas\"].apply(lambda x: \"No\" if x == \"No\" else \"Si\")"
   ]
  },
  {
   "cell_type": "markdown",
   "id": "2bdb3bbd",
   "metadata": {},
   "source": [
    "## Exportación de base"
   ]
  },
  {
   "cell_type": "code",
   "execution_count": 25,
   "id": "51ad09af",
   "metadata": {},
   "outputs": [],
   "source": [
    "# Exportar en formato excel\n",
    "ARCO.to_excel(\"2024 10 25 - Base Original_PI.xlsx\", index=False)"
   ]
  },
  {
   "cell_type": "markdown",
   "id": "3218a642",
   "metadata": {},
   "source": [
    "## Atomización"
   ]
  },
  {
   "cell_type": "code",
   "execution_count": 46,
   "id": "f356adbc",
   "metadata": {},
   "outputs": [],
   "source": [
    "# Importación de librerias\n",
    "import pandas as pd\n",
    "# Carga de Base Original\n",
    "# Cargar datos desde el archivo Excel\n",
    "base_original = pd.read_excel('D:/Metodologia ArCo/Excel/2024 08 21 - Base Original_prueba.xlsx')"
   ]
  },
  {
   "cell_type": "code",
   "execution_count": 47,
   "id": "abebc79f",
   "metadata": {},
   "outputs": [],
   "source": [
    "#atomizacion = ARCO\n",
    "# Lista de nombres de columnas de interés\n",
    "columnas_interes = [\"Recursos fuente PGN\", \"Recursos fuente SGR\",\n",
    "                   \"Recursos fuente Cooperacion\", \"Recursos fuente Esfuerzo Fiscal\",\n",
    "                   \"Recursos fuente Parafiscales\", \"Recursos fuente Otro\"]\n",
    "\n",
    "# Encuentra los índices de las columnas de interés\n",
    "indices_columnas = [base_original.columns.get_loc(col) for col in columnas_interes]\n",
    "\n",
    "#print(\"Los índices de las columnas de interés son:\", indices_columnas)\n",
    "\n",
    "# Copia base_original a atomizacion\n",
    "atomizacion = base_original.copy()\n",
    "\n",
    "# Convierte las columnas 63 a 69 a tipo numérico\n",
    "#atomizacion.iloc[:, 64:69] = atomizacion.iloc[:, 64:69].apply(pd.to_numeric, errors='coerce')\n",
    "\n",
    "# Verifica si las filas de las columnas 63 a 69 son numéricas\n",
    "#atomizacion.apply(lambda row: row.iloc[64:69].dtype == 'float64', axis=1)\n",
    "atomizacion.iloc[:, 63:70] = atomizacion.iloc[:, 63:70].apply(pd.to_numeric, errors='coerce', axis=0)\n",
    "\n",
    "#print(atomizacion.dtypes)\n",
    "# Calcula la columna 'total'\n",
    "atomizacion['total'] = atomizacion['Recursos fuente PGN'] + atomizacion['Recursos fuente Esfuerzo Fiscal'] + atomizacion['Recursos fuente SGR'] + atomizacion['Recursos fuente Cooperacion'] + atomizacion['Recursos fuente Otro'] + atomizacion[\"Recursos fuente Parafiscales\"]\n",
    "\n",
    "# Selecciona las columnas necesarias\n",
    "atomizacion = atomizacion[['Código', 'Nombre del Instrumento', 'Sector', 'total']]\n",
    "\n",
    "# Calcula las columnas adicionales según las condiciones dadas\n",
    "atomizacion['Menor_1000'] = (atomizacion['total'] <= 1000000000).astype(int)\n",
    "atomizacion['entre1y5'] = ((atomizacion['total'] > 1000000000) & (atomizacion['total'] <= 5000000000)).astype(int)\n",
    "atomizacion['entre5y10'] = ((atomizacion['total'] > 5000000000) & (atomizacion['total'] <= 10000000000)).astype(int)\n",
    "atomizacion['mayor_10'] = (atomizacion['total'] > 10000000000).astype(int)\n",
    "\n",
    "# Calcula la columna 'Rango'\n",
    "\"\"\"\n",
    "Se utiliza la función pd.cut() de pandas para dividir los valores en intervalos (bins) definidos por la lista [0, 1000000000, 5000000000, 10000000000, float('inf')]. Cada intervalo define un rango específico de montos de recursos. Luego, se asignan etiquetas a estos intervalos utilizando la lista proporcionada en el parámetro labels. Por ejemplo, si el valor total está entre 0 y 1.000 millones, se asignará la etiqueta 'Menor a $1.000 millones'.\n",
    "\"\"\"\n",
    "atomizacion['Rango'] = pd.cut(atomizacion['total'], bins=[0, 1000000000, 5000000000, 10000000000, float('inf')], labels=['Menor a $1.000 millones', 'Entre $1.000 y $5.000 millones', 'Entre $5.000 y $10.000 millones', 'Mayor a $10.000 millones'])\n",
    "\n",
    "# Calcula la columna 'nivel'\n",
    "atomizacion['nivel'] = pd.cut(atomizacion['total'], bins=[0, 1000000000, 5000000000, 10000000000, float('inf')], labels=[1, 2, 3, 4])\n",
    "\n",
    "# Asignar el primer rango y nivel cuando el valor total es cero\n",
    "atomizacion.loc[atomizacion['total'] == 0, ['Rango', 'nivel']] = ['Menor a $1.000 millones', 1]\n",
    "\n",
    "#print(atomizacion[['total', 'Rango', 'nivel']])\n",
    "\n",
    "# Guarda el DataFrame en un archivo Excel\n",
    "atomizacion.to_excel(\"D:/Metodologia ArCo/Excel/atomizacion/Atomización prueba 2.xlsx\", index=False, sheet_name=\"Atomización\")"
   ]
  },
  {
   "cell_type": "markdown",
   "id": "c03bfde8",
   "metadata": {},
   "source": [
    "# Combinación"
   ]
  },
  {
   "cell_type": "code",
   "execution_count": null,
   "id": "f27d9d8b",
   "metadata": {},
   "outputs": [],
   "source": [
    "import pandas as pd\n",
    "\n",
    "# Cargar datos desde el archivo Excel\n",
    "base_original = pd.read_excel(\"C:/Backup - Archivos de trabajo/DNP/Tareas/2024/Marzo/2024 03 26 - Power BI/Power BI/Insumos Power BI/Excel/Base Original.xlsx\")\n",
    "\n",
    "# Definir las variables y valores a conservar\n",
    "valores_a_conservar = ['Código', 'Sector',\n",
    "                        'Entidad',\n",
    "                        'Nombre del Instrumento',\n",
    "                        'Descripción', 'Página Web', 'Fecha de Cierre', 'Recursos fuente PGN',         \n",
    "                        'Recursos fuente SGR', 'Recursos fuente Cooperacion', 'Recursos fuente Esfuerzo Fiscal',\n",
    "                        'Recursos fuente Parafiscales', 'Recursos fuente Otro']\n",
    "\n",
    "tipos_usuario = [\"Emprendedores\",\n",
    "                 \"Mipymes\",\n",
    "                 \"Grandes empresas\",\n",
    "                 \"Gobierno\",\n",
    "                 \"Academia\",\n",
    "                 \"Entidades de soporte\",\n",
    "                 \"Personas naturales\"]\n",
    "\n",
    "tipos_apoyo = ['Formación de Talento Humano',\n",
    "               'Tipo de Sistemas de Información',\n",
    "               'Asistencia técnica y Consultoría',\n",
    "               'Tipo de Redes de Colaboración',\n",
    "               'Apoyo Financiero',\n",
    "               'Incentivos Tributarios',\n",
    "               'Eventos',\n",
    "               'Compra Pública',\n",
    "               'Bonos o Vouchers',\n",
    "               'Premios y Reconocimientos',\n",
    "               'Instrumentos Regulatorios']\n",
    "\n",
    "objetivos_politica = [\"Innovación\", \"Emprendimiento\", \"Economía Popular\",\n",
    "                      \"Transferencia de Conocimiento y Tecnología\", \"Investigación\",\n",
    "                      \"Formación de Capital Humano\", \"Propiedad intelectual\", \"Calidad\",\n",
    "                      \"Clúster o encadenamientos\", \"Financiación\", \"Comercialización\",\n",
    "                      \"Formalización\", \"Crecimiento Sostenible\", \"Inclusión Financiera\",\n",
    "                      \"Comercio Electrónico\", \"Educación económica y financiera\", \"Competencias Digitales\"]\n",
    "\n",
    "# Función para despivotear y filtrar \"Si\" únicamente\n",
    "def despivotear_y_filtrar_si(base, criterio):\n",
    "    criterio_desp = pd.melt(base, id_vars=valores_a_conservar, value_vars=criterio, var_name=f\"{criterio}\", value_name=\"Valor\")\n",
    "    criterio_desp = criterio_desp[criterio_desp[\"Valor\"] == \"Si\"]\n",
    "    return criterio_desp\n",
    "\n",
    "# Despivoteo y filtrado para cada criterio\n",
    "tipos_usuario_desp = despivotear_y_filtrar_si(base_original, tipos_usuario)\n",
    "tipos_apoyo_desp = despivotear_y_filtrar_si(base_original, tipos_apoyo)\n",
    "objetivos_politica_desp = despivotear_y_filtrar_si(base_original, objetivos_politica)\n",
    "\n",
    "# Fusionar los DataFrames por la columna 'clave' usando un left join\n",
    "union_criterios = pd.merge(tipos_usuario_desp, tipos_apoyo_desp, on=['Código', 'Sector'], how='outer')\n",
    "union_criterios = pd.merge(union_criterios, objetivos_politica_desp, on=['Código', 'Sector'], how='outer')\n",
    "\n",
    "# Exportar el resultado a un archivo Excel\n",
    "union_criterios.to_excel(\"C:/Backup - Archivos de trabajo/DNP/Tareas/2024/Marzo/2024 03 26 - Power BI/Power BI/Insumos Power BI/Excel/combinacion_1.xlsx\", index=False)"
   ]
  }
 ],
 "metadata": {
  "kernelspec": {
   "display_name": "prueba",
   "language": "python",
   "name": "python3"
  },
  "language_info": {
   "codemirror_mode": {
    "name": "ipython",
    "version": 3
   },
   "file_extension": ".py",
   "mimetype": "text/x-python",
   "name": "python",
   "nbconvert_exporter": "python",
   "pygments_lexer": "ipython3",
   "version": "3.9.12"
  }
 },
 "nbformat": 4,
 "nbformat_minor": 5
}

{
 "cells": [
  {
   "cell_type": "markdown",
   "id": "64d88681",
   "metadata": {},
   "source": [
    "# Carga del archivo y preprocesamiento"
   ]
  },
  {
   "cell_type": "code",
   "execution_count": 9,
   "id": "ebb1581c",
   "metadata": {},
   "outputs": [],
   "source": [
    "import pandas as pd\n",
    "\n",
    "# Cargar el archivo con las palabras clave\n",
    "archivo_palabras_clave = \"C:/Backup - Archivos de trabajo/DNP/Automatización ArCo/Excel/2024 03 26 - Base Original con desc completa.xlsx\"\n",
    "df_palabras_clave = pd.read_excel(archivo_palabras_clave)\n",
    "\n",
    "\n",
    "descripcion = df_palabras_clave['R']\n",
    "df_palabras_clave['R'] = df_palabras_clave['R'].astype(str)\n"
   ]
  },
  {
   "cell_type": "markdown",
   "id": "16e4a103",
   "metadata": {},
   "source": [
    "# Validación y exportación del resultado"
   ]
  },
  {
   "cell_type": "code",
   "execution_count": 10,
   "id": "f457a25e",
   "metadata": {},
   "outputs": [
    {
     "name": "stdout",
     "output_type": "stream",
     "text": [
      "Validaciones exportadas a C:/Backup - Archivos de trabajo/DNP/Automatización ArCo/Excel/2024 04 09 - validaciones_regiones_01.xlsx\n"
     ]
    }
   ],
   "source": [
    "import pandas as pd\n",
    "import spacy\n",
    "\n",
    "# Cargar el modelo de lenguaje de spaCy\n",
    "nlp = spacy.load(\"es_core_news_sm\")\n",
    "\n",
    "\n",
    "criterios = {\n",
    "    \"Bolívar\": [\"bolivar\", \"bolivarense\", \"bolivarenses\", \"cartagena de indias\",\"achí\",\"altos del rosario\",\"arenal\",\"arjona\",\"arroyohondo\",\"barranco de loba\",\"calamar\",\"cantagallo\",\"cicuco\",\"córdoba\",\"clemencia\",\"el carmen de bolívar\",\"el guamo\",\"el peñón\",\"hatillo de loba\",\"magangué\",\"mahates\",\"margarita\",\"maría la baja\",\"montecristo\",\"santa cruz de mompox\",\"morales\",\"norosí\",\"pinillos\",\"regidor\",\"río viejo\",\"san cristóbal\",\"san estanislao\",\"san fernando\",\"san jacinto\",\"san jacinto del cauca\",\"san juan nepomuceno\",\"san martín de loba\",\"san pablo\",\"santa catalina\",\"santa rosa\",\"santa rosa del sur\",\"simití\",\"soplaviento\",\"talaigua nuevo\",\"tiquisio\",\"turbaco\",\"turbaná\",\"villanueva\",\"zambrano\"],\n",
    "    \"Cauca\": [\"cauca\", \"caucano\", \"caucanos\", \"guapi\",\"popayán\",\"almaguer\",\"argelia\",\"balboa\",\"bolívar\",\"buenos aires\",\"cajibío\",\"caldono\",\"caloto\",\"corinto\",\"el tambo\",\"florencia\",\"guachené\",\"inzá\",\"jambaló\",\"la sierra\",\"la vega\",\"lópez de micay\",\"mercaderes\",\"miranda\",\"morales\",\"padilla\",\"páez\",\"patía\",\"piamonte\",\"piendamó - tunía\",\"puerto tejada\",\"puracé\",\"rosas\",\"san sebastián\",\"santander de quilichao\",\"santa rosa\",\"silvia\",\"sotará paispamba\",\"suárez\",\"sucre\",\"timbío\",\"timbiquí\",\"toribío\",\"totoró\",\"villa rica\"],\n",
    "    \"César\": [\"césar\", \"cesarense\", \"cesarense\", \"valledupar\",\"aguachica\",\"agustín codazzi\",\"astrea\",\"becerril\",\"bosconia\",\"chimichagua\",\"chiriguaná\",\"curumaní\",\"el copey\",\"el paso\",\"gamarra\",\"gonzález\",\"la gloria\",\"la jagua de ibirico\",\"manaure balcón del cesar\",\"pailitas\",\"pelaya\",\"pueblo bello\",\"río de oro\",\"la paz\",\"san alberto\",\"san diego\",\"san martín\",\"tamalameque\"],\n",
    "    \"Magdalena\": [\"santa marta\",\"algarrobo\",\"aracataca\",\"ariguaní\",\"cerro de san antonio\",\"chivolo\",\"ciénaga\",\"concordia\",\"el banco\",\"el piñón\",\"el retén\",\"fundación\",\"guamal\",\"nueva granada\",\"pedraza\",\"pijiño del carmen\",\"pivijay\",\"plato\",\"puebloviejo\",\"remolino\",\"sabanas de san ángel\",\"salamina\",\"san sebastián de buenavista\",\"san zenón\",\"santa ana\",\"santa bárbara de pinto\",\"sitionuevo\",\"tenerife\",\"zapayán\",\"zona bananera\"]\n",
    "    #\"Emprendimiento\": [\"emprendimiento\", \"emprendetón\", \"microempresas\", \"medianas empresas\", \"emprendedores\", \"emprendedoras\", \"emprender\"],\n",
    "    #\"Emprendimiento\": [\"emprendimiento\", \"emprendedores\", \"emprendedoras\", \"emprender\", \"ebct\", \"emprendedurismo\", \"nuevos negocios\", \"iniciativa empresarial\", \"startups\", \"creación de empresas\", \"plan de negocios\", \"capital de riesgo\", \"desarrollo de negocios\", \"empresa emergente\", \"oportunidad de negocio\", \"modelo de negocio\", \"incubadora de empresas\", \"gestión empresarial\", \"mentoría\", \"sostenibilidad empresarial\", \"emprendimiento social\", \"spin-off universitario\", \"habilidades gerenciales\", \"capacidades gerenciales\", \"startup\", \"entrepreneurship\", \"business model\"],\n",
    "    #\"Economía Popular\": [\"Reconocimiento, visilización y fortalecimiento de las unidades productivas\",\"microempresas\", \"producción, distribución y comercialización de bienes y servicios\", \"unidades económicas de baja escala\"],\n",
    "    #\"Reconocimiento e impulso a la Economía Popular\": [\"reconocimiento\", \"impulso a economía popular\"],\n",
    "    #\"Transferencia de Conocimiento y Tecnología\": [\"transferencia de conocimiento\", \"transferencia de tecnología\", \"compartir ideas\", \"conocimientos\", \"tecnologías\", \"adquisición de ideas, conocimientos, tecnologías y capacidades\",  \"creación y fortalecimiento de empresas de base científico-tecnológica\", \"licenciamiento\", \"extensionismo\", \"cooperación tecnológica\"],\n",
    "    # Aquí van los demás criterios que considere el equipo describen mejor el objetivo de política. \n",
    "}\n",
    "\n",
    "\n",
    "# Crear un DataFrame vacío con las columnas de criterios\n",
    "df_validaciones = pd.DataFrame(columns=criterios.keys())\n",
    "\n",
    "# Función para verificar si una descripción contiene un criterio\n",
    "def contiene_criterio(descripcion, criterio):\n",
    "    doc = nlp(descripcion.lower())\n",
    "    #return criterio.lower() in [token.text for token in doc]\n",
    "    return any(keyword.strip().lower() in doc.text for keyword in criterios[criterio])\n",
    "\n",
    "\n",
    "# Iterar a través de las descripciones y los criterios y agregar las validaciones a df_validaciones\n",
    "for index, row in df_palabras_clave.iterrows():\n",
    "    descripcion = row['R']\n",
    "    validaciones = {}\n",
    "    for criterio in criterios:\n",
    "        validaciones[criterio] = 'Sí' if contiene_criterio(descripcion, criterio) else 'No'\n",
    "    #df_validaciones = df_validaciones.append(validaciones, ignore_index=True)#\n",
    "    df_validaciones = pd.concat([df_validaciones, pd.DataFrame(validaciones, index=[0])], ignore_index=True)\n",
    "\n",
    "\n",
    "\n",
    "# Concatenar las descripciones originales con el DataFrame de validaciones\n",
    "df_resultado = pd.concat([df_palabras_clave, df_validaciones], axis=1)\n",
    "\n",
    "# Nombre del archivo Excel de salida\n",
    "archivo_salida = \"C:/Backup - Archivos de trabajo/DNP/Automatización ArCo/Excel/2024 04 09 - validaciones_regiones_01.xlsx\"\n",
    "\n",
    "# Exportar el DataFrame con las validaciones a un archivo Excel\n",
    "df_resultado.to_excel(archivo_salida, index=False)\n",
    "\n",
    "print(f\"Validaciones exportadas a {archivo_salida}\")\n"
   ]
  }
 ],
 "metadata": {
  "kernelspec": {
   "display_name": "Python 3 (ipykernel)",
   "language": "python",
   "name": "python3"
  },
  "language_info": {
   "codemirror_mode": {
    "name": "ipython",
    "version": 3
   },
   "file_extension": ".py",
   "mimetype": "text/x-python",
   "name": "python",
   "nbconvert_exporter": "python",
   "pygments_lexer": "ipython3",
   "version": "3.11.4"
  }
 },
 "nbformat": 4,
 "nbformat_minor": 5
}

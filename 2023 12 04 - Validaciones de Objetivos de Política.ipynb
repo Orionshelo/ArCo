{
 "cells": [
  {
   "cell_type": "markdown",
   "id": "64d88681",
   "metadata": {},
   "source": [
    "# Carga del archivo y preprocesamiento"
   ]
  },
  {
   "cell_type": "code",
   "execution_count": 1,
   "id": "ebb1581c",
   "metadata": {},
   "outputs": [],
   "source": [
    "import pandas as pd\n",
    "\n",
    "# Cargar el archivo con las palabras clave\n",
    "archivo_palabras_clave = \"C:/Backup - Archivos de trabajo/DNP/Automatización ArCo/Excel/2024 03 26 - Base Original.xlsx\"\n",
    "df_palabras_clave = pd.read_excel(archivo_palabras_clave)\n",
    "#df_palabras_clave\n",
    "\n",
    "descripcion = df_palabras_clave['Descripcion']\n",
    "#descripcion\n",
    "df_palabras_clave['Descripcion'] = df_palabras_clave['Descripcion'].astype(str)\n"
   ]
  },
  {
   "cell_type": "code",
   "execution_count": 2,
   "id": "715fd832",
   "metadata": {},
   "outputs": [
    {
     "name": "stdout",
     "output_type": "stream",
     "text": [
      "Requirement already satisfied: spacy in c:\\entornos virtuales\\prueba\\lib\\site-packages (3.1.7)\n",
      "Collecting spacy\n",
      "  Using cached spacy-3.7.4-cp39-cp39-win_amd64.whl.metadata (27 kB)\n",
      "Requirement already satisfied: spacy-legacy<3.1.0,>=3.0.11 in c:\\entornos virtuales\\prueba\\lib\\site-packages (from spacy) (3.0.12)\n",
      "Requirement already satisfied: spacy-loggers<2.0.0,>=1.0.0 in c:\\entornos virtuales\\prueba\\lib\\site-packages (from spacy) (1.0.5)\n",
      "Requirement already satisfied: murmurhash<1.1.0,>=0.28.0 in c:\\entornos virtuales\\prueba\\lib\\site-packages (from spacy) (1.0.10)\n",
      "Requirement already satisfied: cymem<2.1.0,>=2.0.2 in c:\\entornos virtuales\\prueba\\lib\\site-packages (from spacy) (2.0.8)\n",
      "Requirement already satisfied: preshed<3.1.0,>=3.0.2 in c:\\entornos virtuales\\prueba\\lib\\site-packages (from spacy) (3.0.9)\n",
      "Requirement already satisfied: thinc<8.3.0,>=8.2.2 in c:\\entornos virtuales\\prueba\\lib\\site-packages (from spacy) (8.2.3)\n",
      "Requirement already satisfied: wasabi<1.2.0,>=0.9.1 in c:\\entornos virtuales\\prueba\\lib\\site-packages (from spacy) (0.10.1)\n",
      "Requirement already satisfied: srsly<3.0.0,>=2.4.3 in c:\\entornos virtuales\\prueba\\lib\\site-packages (from spacy) (2.4.8)\n",
      "Requirement already satisfied: catalogue<2.1.0,>=2.0.6 in c:\\entornos virtuales\\prueba\\lib\\site-packages (from spacy) (2.0.10)\n",
      "Requirement already satisfied: weasel<0.4.0,>=0.1.0 in c:\\entornos virtuales\\prueba\\lib\\site-packages (from spacy) (0.3.4)\n",
      "Requirement already satisfied: typer<0.10.0,>=0.3.0 in c:\\entornos virtuales\\prueba\\lib\\site-packages (from spacy) (0.4.2)\n",
      "Requirement already satisfied: smart-open<7.0.0,>=5.2.1 in c:\\entornos virtuales\\prueba\\lib\\site-packages (from spacy) (6.4.0)\n",
      "Requirement already satisfied: tqdm<5.0.0,>=4.38.0 in c:\\entornos virtuales\\prueba\\lib\\site-packages (from spacy) (4.66.2)\n",
      "Requirement already satisfied: requests<3.0.0,>=2.13.0 in c:\\entornos virtuales\\prueba\\lib\\site-packages (from spacy) (2.31.0)\n",
      "Requirement already satisfied: pydantic!=1.8,!=1.8.1,<3.0.0,>=1.7.4 in c:\\entornos virtuales\\prueba\\lib\\site-packages (from spacy) (1.8.2)\n",
      "Requirement already satisfied: jinja2 in c:\\entornos virtuales\\prueba\\lib\\site-packages (from spacy) (3.1.3)\n",
      "Requirement already satisfied: setuptools in c:\\entornos virtuales\\prueba\\lib\\site-packages (from spacy) (69.1.0)\n",
      "Requirement already satisfied: packaging>=20.0 in c:\\entornos virtuales\\prueba\\lib\\site-packages (from spacy) (23.2)\n",
      "Requirement already satisfied: langcodes<4.0.0,>=3.2.0 in c:\\entornos virtuales\\prueba\\lib\\site-packages (from spacy) (3.3.0)\n",
      "Requirement already satisfied: numpy>=1.19.0 in c:\\entornos virtuales\\prueba\\lib\\site-packages (from spacy) (1.26.4)\n",
      "Requirement already satisfied: typing-extensions>=3.7.4.3 in c:\\entornos virtuales\\prueba\\lib\\site-packages (from pydantic!=1.8,!=1.8.1,<3.0.0,>=1.7.4->spacy) (4.10.0)\n",
      "Requirement already satisfied: charset-normalizer<4,>=2 in c:\\entornos virtuales\\prueba\\lib\\site-packages (from requests<3.0.0,>=2.13.0->spacy) (3.3.2)\n",
      "Requirement already satisfied: idna<4,>=2.5 in c:\\entornos virtuales\\prueba\\lib\\site-packages (from requests<3.0.0,>=2.13.0->spacy) (3.6)\n",
      "Requirement already satisfied: urllib3<3,>=1.21.1 in c:\\entornos virtuales\\prueba\\lib\\site-packages (from requests<3.0.0,>=2.13.0->spacy) (2.2.1)\n",
      "Requirement already satisfied: certifi>=2017.4.17 in c:\\entornos virtuales\\prueba\\lib\\site-packages (from requests<3.0.0,>=2.13.0->spacy) (2024.2.2)\n",
      "Requirement already satisfied: blis<0.8.0,>=0.7.8 in c:\\entornos virtuales\\prueba\\lib\\site-packages (from thinc<8.3.0,>=8.2.2->spacy) (0.7.11)\n",
      "Requirement already satisfied: confection<1.0.0,>=0.0.1 in c:\\entornos virtuales\\prueba\\lib\\site-packages (from thinc<8.3.0,>=8.2.2->spacy) (0.1.4)\n",
      "Requirement already satisfied: colorama in c:\\entornos virtuales\\prueba\\lib\\site-packages (from tqdm<5.0.0,>=4.38.0->spacy) (0.4.6)\n",
      "Requirement already satisfied: click<9.0.0,>=7.1.1 in c:\\entornos virtuales\\prueba\\lib\\site-packages (from typer<0.10.0,>=0.3.0->spacy) (8.1.7)\n",
      "Requirement already satisfied: cloudpathlib<0.17.0,>=0.7.0 in c:\\entornos virtuales\\prueba\\lib\\site-packages (from weasel<0.4.0,>=0.1.0->spacy) (0.16.0)\n",
      "Requirement already satisfied: MarkupSafe>=2.0 in c:\\entornos virtuales\\prueba\\lib\\site-packages (from jinja2->spacy) (2.1.5)\n",
      "Using cached spacy-3.7.4-cp39-cp39-win_amd64.whl (12.2 MB)\n",
      "Installing collected packages: spacy\n",
      "  Attempting uninstall: spacy\n",
      "    Found existing installation: spacy 3.1.7\n",
      "    Uninstalling spacy-3.1.7:\n",
      "      Successfully uninstalled spacy-3.1.7\n",
      "Successfully installed spacy-3.7.4\n",
      "Note: you may need to restart the kernel to use updated packages.\n"
     ]
    },
    {
     "name": "stderr",
     "output_type": "stream",
     "text": [
      "ERROR: pip's dependency resolver does not currently take into account all the packages that are installed. This behaviour is the source of the following dependency conflicts.\n",
      "es-core-news-sm 3.1.0 requires spacy<3.2.0,>=3.1.0, but you have spacy 3.7.4 which is incompatible.\n"
     ]
    }
   ],
   "source": [
    "pip install --upgrade spacy"
   ]
  },
  {
   "cell_type": "markdown",
   "id": "16e4a103",
   "metadata": {},
   "source": [
    "# Validación y exportación del resultado"
   ]
  },
  {
   "cell_type": "code",
   "execution_count": 2,
   "id": "f457a25e",
   "metadata": {},
   "outputs": [
    {
     "name": "stdout",
     "output_type": "stream",
     "text": [
      "WARNING:tensorflow:From c:\\Users\\sebas\\anaconda3\\Lib\\site-packages\\keras\\src\\losses.py:2976: The name tf.losses.sparse_softmax_cross_entropy is deprecated. Please use tf.compat.v1.losses.sparse_softmax_cross_entropy instead.\n",
      "\n",
      "Validaciones exportadas a C:/Backup - Archivos de trabajo/DNP/Automatización ArCo/Excel/2024 03 26 - validaciones_resultado.xlsx\n"
     ]
    }
   ],
   "source": [
    "import pandas as pd\n",
    "import spacy\n",
    "\n",
    "# Cargar el modelo de lenguaje de spaCy\n",
    "nlp = spacy.load(\"es_core_news_sm\")\n",
    "\n",
    "\n",
    "criterios = {\n",
    "    \"Validación Calidad\": [\"certificaciones\", \"acreditaciones\"],\n",
    "    \"Validación Clúster o encadenamientos\": [\"encadenamientos productivos\", \"rutas competitivas\"],\n",
    "    \"Validación de Comercialización\": [\"facilitación del comercio\", \"rutas competitivas\"],\n",
    "    \"Validación Comercio Electrónico\": [\"página web\", \"tienda virtual\", \"acceso a marketplace\", \"cursos\", \"formación técnica\", \"charlas\", \"acceso a pasarelas de pagos\", \"sistemas de pago electrónicos\", \"programas de inclusión financiera\", \"bancarización\", \"acceso a servicios de logística\", \"cursos\", \"capacitación\", \"charlas\", \"informativos\"],\n",
    "    \"Validación Competencias Digitales\": [\"uso de tecnologías\", \"uso de Internet\", \"uso efectivo de datos\", \"uso de dispositivos digitales\", \"uso de tecnologías digitales\", \"uso de servicios digitales\"],\n",
    "    \"Validación Crecimiento Sostenible\": [\"bioeconomía\", \"energías renovables\", \"eficiencia energética\", \"movilidad eléctrica\", \"agricultura sostenible\", \"economía circular\"],\n",
    "    \"Validación Economía Popular\": [\"unidades productivas\", \"economía popular\", \"ocupaciones mercantiles\",\"unidades económicas\",\"micronegocios\", \"microempresas\"],\n",
    "    \"Validación Educación Económica y Financiera\": [\"conceptos de economía\", \"planear\", \"ahorrar\", \"etapas de la vida\", \"inversiones\", \"crédito\", \"fraude\", \"pagos digitales\", \"pagos electrónicos\", \"productos financieros\", \"temas tributarios\", \"planeación empresarial\", \"consumidor financiero\", \"gestionar riesgos\"],\n",
    "    \"Validación Emprendimiento\": [\"emprendimiento\", \"emprendedores\", \"emprendedoras\", \"emprender\", \"ebct\", \"emprendedurismo\", \"nuevos negocios\", \"iniciativa empresarial\", \"startups\", \"creación de empresas\", \"plan de negocios\", \"capital de riesgo\", \"desarrollo de negocios\", \"empresa emergente\", \"oportunidad de negocio\", \"modelo de negocio\", \"incubadora de empresas\", \"gestión empresarial\", \"mentoría\", \"sostenibilidad empresarial\", \"emprendimiento social\", \"spin-off universitario\", \"habilidades gerenciales\", \"capacidades gerenciales\", \"startup\", \"entrepreneurship\", \"business model\"],\n",
    "    \"Validación Financiación\": [\"desarrollo de instrumentos financieros\", \"fomento de instrumentos financieros\"],\n",
    "    \"Validación Formación de Capital Humano\": [\"cursos\", \"actividades académicas cortas\", \"talleres\", \"entrenamientos\", \"capacitaciones específicas\", \"charlas\", \"conferencias\", \"pasantías\", \"estancias\", \"acompañamiento práctico\", \"ejercicio profesional\", \"preescolar\", \"primaria\", \"secundaria\", \"técnica\", \"tecnológica\", \"profesional\", \"formación Universitaria\", \"posgrado\", \"especialización\", \"maestría\", \"doctorado\"],\n",
    "    \"Validación Formalización\": [\"registro empresarial\", \"registro empresas\", \"requisitos legales empresas\", \"actividades laborales\"],\n",
    "    \"Validación Inclusión Financiera\": [\"acceso a productos financieros\", \"uso de productos financieros\", \"productos financieros\"],\n",
    "    \"Validación Innovación\": [\"productos nuevos\", \"procesos mejorados\",\"producto nuevo\", \"proceso mejorado\"],\n",
    "    \"Validación Investigación\": [\"ampliación del conocimiento\", \"teorico\", \"practico\", \"conocimiento\"],\n",
    "    \"Validación Propiedad Intelectual\": [\"conocimiento tradicional\", \"conocimientos tradicionales\",\"propiedad industrial\", \"invención\", \"modelo de utilidad\", \"signos distintivos\", \"obtentor\", \"propiedad intelectual\", \"patentes\", \"diseños industriales\", \"marcas\", \"registros de software\", \"derechos de autor\", \"derechos conexos\", \"variedades vegetales\", \"licenciamiento\", \"arbitraje\"],\n",
    "    \"Validación Transferencia de Conocimiento y Tecnología\": [\"transferencia de conocimiento\", \"transferencia de tecnología\", \"compartir ideas\", \"conocimientos\", \"tecnologías\", \"adquisición de ideas, conocimientos, tecnologías y capacidades\",  \"creación y fortalecimiento de empresas de base científico-tecnológica\", \"licenciamiento\", \"extensionismo\", \"cooperación tecnológica\"],\n",
    "}\n",
    "\n",
    "\n",
    "# Crear un DataFrame vacío con las columnas de criterios\n",
    "df_validaciones = pd.DataFrame(columns=criterios.keys())\n",
    "\n",
    "# Función para verificar si una descripción contiene un criterio\n",
    "def contiene_criterio(descripcion, criterio):\n",
    "    doc = nlp(descripcion.lower())\n",
    "    #return criterio.lower() in [token.text for token in doc]\n",
    "    return any(keyword.strip().lower() in doc.text for keyword in criterios[criterio])\n",
    "\n",
    "\n",
    "# Iterar a través de las descripciones y los criterios y agregar las validaciones a df_validaciones\n",
    "for index, row in df_palabras_clave.iterrows():\n",
    "    descripcion = row['Descripcion']\n",
    "    validaciones = {}\n",
    "    for criterio in criterios:\n",
    "        validaciones[criterio] = 'Sí' if contiene_criterio(descripcion, criterio) else 'No'\n",
    "    #df_validaciones = df_validaciones.append(validaciones, ignore_index=True)#\n",
    "    df_validaciones = pd.concat([df_validaciones, pd.DataFrame(validaciones, index=[0])], ignore_index=True)\n",
    "\n",
    "\n",
    "\n",
    "# Concatenar las descripciones originales con el DataFrame de validaciones\n",
    "df_resultado = pd.concat([df_palabras_clave, df_validaciones], axis=1)\n",
    "\n",
    "# Nombre del archivo Excel de salida\n",
    "archivo_salida = \"C:/Backup - Archivos de trabajo/DNP/Automatización ArCo/Excel/2024 03 26 - validaciones_resultado.xlsx\"\n",
    "\n",
    "# Exportar el DataFrame con las validaciones a un archivo Excel\n",
    "df_resultado.to_excel(archivo_salida, index=False)\n",
    "\n",
    "print(f\"Validaciones exportadas a {archivo_salida}\")\n"
   ]
  },
  {
   "cell_type": "markdown",
   "id": "7a78d91f",
   "metadata": {},
   "source": [
    "# Validaciones a partir de las Palabras Clave "
   ]
  },
  {
   "cell_type": "markdown",
   "id": "74ee9d52",
   "metadata": {},
   "source": [
    "## Carga del archivo y preprocesamiento"
   ]
  },
  {
   "cell_type": "code",
   "execution_count": 3,
   "id": "a6ad14af",
   "metadata": {},
   "outputs": [],
   "source": [
    "import pandas as pd\n",
    "\n",
    "# Cargar el archivo con las palabras clave\n",
    "archivo_palabras_clave = \"C:/Backup - Archivos de trabajo/DNP/Automatización ArCo/Excel/Base_ArCo_PGN_2024_con_Palabras_Clave.xlsx\"\n",
    "df_palabras_clave = pd.read_excel(archivo_palabras_clave)\n",
    "#df_palabras_clave\n",
    "\n",
    "descripcion = df_palabras_clave['Palabras Clave']\n",
    "#Palabras Clave\n",
    "df_palabras_clave['Palabras Clave'] = df_palabras_clave['Palabras Clave'].astype(str)"
   ]
  },
  {
   "cell_type": "code",
   "execution_count": 5,
   "id": "0a600f90",
   "metadata": {},
   "outputs": [
    {
     "name": "stdout",
     "output_type": "stream",
     "text": [
      "Validaciones exportadas a C:/Backup - Archivos de trabajo/DNP/Automatización ArCo/Excel/2024 04 16 - validaciones_resultado_palabras_clave.xlsx\n"
     ]
    }
   ],
   "source": [
    "import pandas as pd\n",
    "import spacy\n",
    "\n",
    "# Cargar el modelo de lenguaje de spaCy\n",
    "nlp = spacy.load(\"es_core_news_sm\")\n",
    "\n",
    "\n",
    "criterios = {\n",
    "    \"Validación Calidad\": [\"certificaciones\", \"acreditaciones\"],\n",
    "    \"Validación Clúster o encadenamientos\": [\"encadenamientos productivos\", \"rutas competitivas\"],\n",
    "    \"Validación de Comercialización\": [\"facilitación del comercio\", \"rutas competitivas\"],\n",
    "    \"Validación Comercio Electrónico\": [\"página web\", \"tienda virtual\", \"acceso a marketplace\", \"cursos\", \"formación técnica\", \"charlas\", \"acceso a pasarelas de pagos\", \"sistemas de pago electrónicos\", \"programas de inclusión financiera\", \"bancarización\", \"acceso a servicios de logística\", \"cursos\", \"capacitación\", \"charlas\", \"informativos\"],\n",
    "    \"Validación Competencias Digitales\": [\"uso de tecnologías\", \"uso de Internet\", \"uso efectivo de datos\", \"uso de dispositivos digitales\", \"uso de tecnologías digitales\", \"uso de servicios digitales\"],\n",
    "    \"Validación Crecimiento Sostenible\": [\"bioeconomía\", \"energías renovables\", \"eficiencia energética\", \"movilidad eléctrica\", \"agricultura sostenible\", \"economía circular\"],\n",
    "    \"Validación Economía Popular\": [\"unidades productivas\", \"economía popular\", \"ocupaciones mercantiles\",\"unidades económicas\",\"micronegocios\", \"microempresas\"],\n",
    "    \"Validación Educación Económica y Financiera\": [\"conceptos de economía\", \"planear\", \"ahorrar\", \"etapas de la vida\", \"inversiones\", \"crédito\", \"fraude\", \"pagos digitales\", \"pagos electrónicos\", \"productos financieros\", \"temas tributarios\", \"planeación empresarial\", \"consumidor financiero\", \"gestionar riesgos\"],\n",
    "    \"Validación Emprendimiento\": [\"emprendimiento\", \"emprendedores\", \"emprendedoras\", \"emprender\", \"ebct\", \"emprendedurismo\", \"nuevos negocios\", \"iniciativa empresarial\", \"startups\", \"creación de empresas\", \"plan de negocios\", \"capital de riesgo\", \"desarrollo de negocios\", \"empresa emergente\", \"oportunidad de negocio\", \"modelo de negocio\", \"incubadora de empresas\", \"gestión empresarial\", \"mentoría\", \"sostenibilidad empresarial\", \"emprendimiento social\", \"spin-off universitario\", \"habilidades gerenciales\", \"capacidades gerenciales\", \"startup\", \"entrepreneurship\", \"business model\"],\n",
    "    \"Validación Financiación\": [\"desarrollo de instrumentos financieros\", \"fomento de instrumentos financieros\"],\n",
    "    \"Validación Formación de Capital Humano\": [\"cursos\", \"actividades académicas cortas\", \"talleres\", \"entrenamientos\", \"capacitaciones específicas\", \"charlas\", \"conferencias\", \"pasantías\", \"estancias\", \"acompañamiento práctico\", \"ejercicio profesional\", \"preescolar\", \"primaria\", \"secundaria\", \"técnica\", \"tecnológica\", \"profesional\", \"formación Universitaria\", \"posgrado\", \"especialización\", \"maestría\", \"doctorado\"],\n",
    "    \"Validación Formalización\": [\"registro empresarial\", \"registro empresas\", \"requisitos legales empresas\", \"actividades laborales\"],\n",
    "    \"Validación Inclusión Financiera\": [\"acceso a productos financieros\", \"uso de productos financieros\", \"productos financieros\"],\n",
    "    \"Validación Innovación\": [\"productos nuevos\", \"procesos mejorados\",\"producto nuevo\", \"proceso mejorado\"],\n",
    "    \"Validación Investigación\": [\"ampliación del conocimiento\", \"teorico\", \"practico\", \"conocimiento\"],\n",
    "    \"Validación Propiedad Intelectual\": [\"conocimiento tradicional\", \"conocimientos tradicionales\",\"propiedad industrial\", \"invención\", \"modelo de utilidad\", \"signos distintivos\", \"obtentor\", \"propiedad intelectual\", \"patentes\", \"diseños industriales\", \"marcas\", \"registros de software\", \"derechos de autor\", \"derechos conexos\", \"variedades vegetales\", \"licenciamiento\", \"arbitraje\"],\n",
    "    \"Validación Transferencia de Conocimiento y Tecnología\": [\"transferencia de conocimiento\", \"transferencia de tecnología\", \"compartir ideas\", \"conocimientos\", \"tecnologías\", \"adquisición de ideas, conocimientos, tecnologías y capacidades\",  \"creación y fortalecimiento de empresas de base científico-tecnológica\", \"licenciamiento\", \"extensionismo\", \"cooperación tecnológica\"],\n",
    "}\n",
    "\n",
    "\n",
    "# Crear un DataFrame vacío con las columnas de criterios\n",
    "df_validaciones = pd.DataFrame(columns=criterios.keys())\n",
    "\n",
    "# Función para verificar si una descripción contiene un criterio\n",
    "def contiene_criterio(descripcion, criterio):\n",
    "    doc = nlp(descripcion.lower())\n",
    "    #return criterio.lower() in [token.text for token in doc]\n",
    "    return any(keyword.strip().lower() in doc.text for keyword in criterios[criterio])\n",
    "\n",
    "\n",
    "# Iterar a través de las descripciones y los criterios y agregar las validaciones a df_validaciones\n",
    "for index, row in df_palabras_clave.iterrows():\n",
    "    descripcion = row['Palabras Clave']\n",
    "    validaciones = {}\n",
    "    for criterio in criterios:\n",
    "        validaciones[criterio] = 'Sí' if contiene_criterio(descripcion, criterio) else 'No'\n",
    "    #df_validaciones = df_validaciones.append(validaciones, ignore_index=True)#\n",
    "    df_validaciones = pd.concat([df_validaciones, pd.DataFrame(validaciones, index=[0])], ignore_index=True)\n",
    "\n",
    "\n",
    "\n",
    "# Concatenar las descripciones originales con el DataFrame de validaciones\n",
    "df_resultado = pd.concat([df_palabras_clave, df_validaciones], axis=1)\n",
    "\n",
    "# Nombre del archivo Excel de salida\n",
    "archivo_salida = \"C:/Backup - Archivos de trabajo/DNP/Automatización ArCo/Excel/2024 04 16 - validaciones_resultado_palabras_clave.xlsx\"\n",
    "\n",
    "# Exportar el DataFrame con las validaciones a un archivo Excel\n",
    "df_resultado.to_excel(archivo_salida, index=False)\n",
    "\n",
    "print(f\"Validaciones exportadas a {archivo_salida}\")"
   ]
  }
 ],
 "metadata": {
  "kernelspec": {
   "display_name": "Python 3 (ipykernel)",
   "language": "python",
   "name": "python3"
  },
  "language_info": {
   "codemirror_mode": {
    "name": "ipython",
    "version": 3
   },
   "file_extension": ".py",
   "mimetype": "text/x-python",
   "name": "python",
   "nbconvert_exporter": "python",
   "pygments_lexer": "ipython3",
   "version": "3.11.4"
  }
 },
 "nbformat": 4,
 "nbformat_minor": 5
}

{
 "cells": [
  {
   "cell_type": "code",
   "execution_count": 1,
   "id": "fa50a179",
   "metadata": {},
   "outputs": [
    {
     "name": "stdout",
     "output_type": "stream",
     "text": [
      "Collecting praw\n",
      "  Obtaining dependency information for praw from https://files.pythonhosted.org/packages/73/ca/60ec131c3b43bff58261167045778b2509b83922ce8f935ac89d871bd3ea/praw-7.8.1-py3-none-any.whl.metadata\n",
      "  Downloading praw-7.8.1-py3-none-any.whl.metadata (9.4 kB)\n",
      "Collecting prawcore<3,>=2.4 (from praw)\n",
      "  Obtaining dependency information for prawcore<3,>=2.4 from https://files.pythonhosted.org/packages/96/5c/8af904314e42d5401afcfaff69940dc448e974f80f7aa39b241a4fbf0cf1/prawcore-2.4.0-py3-none-any.whl.metadata\n",
      "  Downloading prawcore-2.4.0-py3-none-any.whl.metadata (5.0 kB)\n",
      "Collecting update_checker>=0.18 (from praw)\n",
      "  Obtaining dependency information for update_checker>=0.18 from https://files.pythonhosted.org/packages/0c/ba/8dd7fa5f0b1c6a8ac62f8f57f7e794160c1f86f31c6d0fb00f582372a3e4/update_checker-0.18.0-py3-none-any.whl.metadata\n",
      "  Downloading update_checker-0.18.0-py3-none-any.whl.metadata (2.3 kB)\n",
      "Collecting websocket-client>=0.54.0 (from praw)\n",
      "  Obtaining dependency information for websocket-client>=0.54.0 from https://files.pythonhosted.org/packages/5a/84/44687a29792a70e111c5c477230a72c4b957d88d16141199bf9acb7537a3/websocket_client-1.8.0-py3-none-any.whl.metadata\n",
      "  Downloading websocket_client-1.8.0-py3-none-any.whl.metadata (8.0 kB)\n",
      "Requirement already satisfied: requests<3.0,>=2.6.0 in c:\\users\\sebas\\anaconda3\\envs\\reflex_apps\\lib\\site-packages (from prawcore<3,>=2.4->praw) (2.31.0)\n",
      "Requirement already satisfied: charset-normalizer<4,>=2 in c:\\users\\sebas\\anaconda3\\envs\\reflex_apps\\lib\\site-packages (from requests<3.0,>=2.6.0->prawcore<3,>=2.4->praw) (3.2.0)\n",
      "Requirement already satisfied: idna<4,>=2.5 in c:\\users\\sebas\\anaconda3\\envs\\reflex_apps\\lib\\site-packages (from requests<3.0,>=2.6.0->prawcore<3,>=2.4->praw) (3.4)\n",
      "Requirement already satisfied: urllib3<3,>=1.21.1 in c:\\users\\sebas\\anaconda3\\envs\\reflex_apps\\lib\\site-packages (from requests<3.0,>=2.6.0->prawcore<3,>=2.4->praw) (2.0.4)\n",
      "Requirement already satisfied: certifi>=2017.4.17 in c:\\users\\sebas\\anaconda3\\envs\\reflex_apps\\lib\\site-packages (from requests<3.0,>=2.6.0->prawcore<3,>=2.4->praw) (2023.7.22)\n",
      "Downloading praw-7.8.1-py3-none-any.whl (189 kB)\n",
      "   ---------------------------------------- 0.0/189.3 kB ? eta -:--:--\n",
      "   -- ------------------------------------- 10.2/189.3 kB ? eta -:--:--\n",
      "   ------ -------------------------------- 30.7/189.3 kB 435.7 kB/s eta 0:00:01\n",
      "   ------------ -------------------------- 61.4/189.3 kB 469.7 kB/s eta 0:00:01\n",
      "   ------------------ -------------------- 92.2/189.3 kB 525.1 kB/s eta 0:00:01\n",
      "   -------------------- ----------------- 102.4/189.3 kB 492.8 kB/s eta 0:00:01\n",
      "   ------------------------ ------------- 122.9/189.3 kB 481.4 kB/s eta 0:00:01\n",
      "   ------------------------------ ------- 153.6/189.3 kB 541.0 kB/s eta 0:00:01\n",
      "   ---------------------------------- --- 174.1/189.3 kB 525.1 kB/s eta 0:00:01\n",
      "   -------------------------------------- 189.3/189.3 kB 520.6 kB/s eta 0:00:00\n",
      "Downloading prawcore-2.4.0-py3-none-any.whl (17 kB)\n",
      "Downloading update_checker-0.18.0-py3-none-any.whl (7.0 kB)\n",
      "Using cached websocket_client-1.8.0-py3-none-any.whl (58 kB)\n",
      "Installing collected packages: websocket-client, update_checker, prawcore, praw\n",
      "Successfully installed praw-7.8.1 prawcore-2.4.0 update_checker-0.18.0 websocket-client-1.8.0\n"
     ]
    }
   ],
   "source": [
    "!pip install praw"
   ]
  },
  {
   "cell_type": "code",
   "execution_count": 3,
   "id": "9fb5c80e",
   "metadata": {},
   "outputs": [
    {
     "name": "stdout",
     "output_type": "stream",
     "text": [
      "Posted to Reddit: Jessica se come los mocos\n"
     ]
    }
   ],
   "source": [
    "import praw\n",
    "# Reddit API credentials\n",
    "reddit = praw.Reddit(\n",
    "    client_id='my9Oc-Hd1OpqHNjniYkf_w',\n",
    "    client_secret='iwKz1gvKqPRH4bsd7ENri4kuhEDcPQ',\n",
    "    user_agent='prueba',\n",
    "    username='FenixAscending',\n",
    "    password='Orion-0797'\n",
    ")\n",
    "# Subreddit to post to\n",
    "subreddit_name = \"test\"  # Change to your desired subreddit\n",
    "# Title and content of the post\n",
    "title = \"Jessica se come los mocos\"\n",
    "selftext = \"Hello Reddit! This post was made using a Python script.\"\n",
    "# Submit the post\n",
    "subreddit = reddit.subreddit(subreddit_name)\n",
    "subreddit.submit(title=title, selftext=selftext)\n",
    "print(f\"Posted to Reddit: {title}\")"
   ]
  },
  {
   "cell_type": "code",
   "execution_count": 7,
   "id": "e09a97d1",
   "metadata": {},
   "outputs": [
    {
     "ename": "TypeError",
     "evalue": "'NoneType' object is not callable",
     "output_type": "error",
     "traceback": [
      "\u001b[1;31m---------------------------------------------------------------------------\u001b[0m",
      "\u001b[1;31mTypeError\u001b[0m                                 Traceback (most recent call last)",
      "Cell \u001b[1;32mIn[7], line 65\u001b[0m\n\u001b[0;32m     62\u001b[0m         \u001b[38;5;28;01mreturn\u001b[39;00m \u001b[38;5;28;01mFalse\u001b[39;00m\n\u001b[0;32m     64\u001b[0m \u001b[38;5;66;03m# Call the function with error handling\u001b[39;00m\n\u001b[1;32m---> 65\u001b[0m success \u001b[38;5;241m=\u001b[39m \u001b[43msubmit_post_with_image\u001b[49m\u001b[43m(\u001b[49m\u001b[43mreddit\u001b[49m\u001b[43m,\u001b[49m\u001b[43m \u001b[49m\u001b[43msubreddit_name\u001b[49m\u001b[43m,\u001b[49m\u001b[43m \u001b[49m\u001b[43mtitle\u001b[49m\u001b[43m,\u001b[49m\u001b[43m \u001b[49m\u001b[43mselftext\u001b[49m\u001b[43m,\u001b[49m\u001b[43m \u001b[49m\u001b[43mimage_path\u001b[49m\u001b[43m)\u001b[49m\n\u001b[0;32m     67\u001b[0m \u001b[38;5;28;01mif\u001b[39;00m success:\n\u001b[0;32m     68\u001b[0m     \u001b[38;5;28mprint\u001b[39m(\u001b[38;5;124m\"\u001b[39m\u001b[38;5;124mImage upload successful!\u001b[39m\u001b[38;5;124m\"\u001b[39m)\n",
      "Cell \u001b[1;32mIn[7], line 50\u001b[0m, in \u001b[0;36msubmit_post_with_image\u001b[1;34m(reddit, subreddit_name, title, selftext, image_path)\u001b[0m\n\u001b[0;32m     44\u001b[0m submission \u001b[38;5;241m=\u001b[39m subreddit\u001b[38;5;241m.\u001b[39msubmit(\n\u001b[0;32m     45\u001b[0m     title\u001b[38;5;241m=\u001b[39mtitle,\n\u001b[0;32m     46\u001b[0m     selftext\u001b[38;5;241m=\u001b[39mselftext\n\u001b[0;32m     47\u001b[0m )\n\u001b[0;32m     49\u001b[0m \u001b[38;5;28;01mif\u001b[39;00m submission \u001b[38;5;129;01mis\u001b[39;00m \u001b[38;5;129;01mnot\u001b[39;00m \u001b[38;5;28;01mNone\u001b[39;00m:\n\u001b[1;32m---> 50\u001b[0m     \u001b[43msubmission\u001b[49m\u001b[38;5;241;43m.\u001b[39;49m\u001b[43mmedia\u001b[49m\u001b[43m(\u001b[49m\u001b[38;5;124;43m\"\u001b[39;49m\u001b[38;5;124;43mimage\u001b[39;49m\u001b[38;5;124;43m\"\u001b[39;49m\u001b[43m,\u001b[49m\u001b[43m \u001b[49m\u001b[43mfile\u001b[49m\u001b[38;5;241;43m=\u001b[39;49m\u001b[38;5;28;43mopen\u001b[39;49m\u001b[43m(\u001b[49m\u001b[43mimage_path\u001b[49m\u001b[43m,\u001b[49m\u001b[43m \u001b[49m\u001b[38;5;124;43m\"\u001b[39;49m\u001b[38;5;124;43mrb\u001b[39;49m\u001b[38;5;124;43m\"\u001b[39;49m\u001b[43m)\u001b[49m\u001b[43m)\u001b[49m\n\u001b[0;32m     51\u001b[0m     \u001b[38;5;28mprint\u001b[39m(\u001b[38;5;124mf\u001b[39m\u001b[38;5;124m\"\u001b[39m\u001b[38;5;124mPosted to Reddit: \u001b[39m\u001b[38;5;132;01m{\u001b[39;00mtitle\u001b[38;5;132;01m}\u001b[39;00m\u001b[38;5;124m\"\u001b[39m)\n\u001b[0;32m     52\u001b[0m     \u001b[38;5;28;01mreturn\u001b[39;00m \u001b[38;5;28;01mTrue\u001b[39;00m\n",
      "\u001b[1;31mTypeError\u001b[0m: 'NoneType' object is not callable"
     ]
    }
   ],
   "source": [
    "import praw\n",
    "import os\n",
    "\n",
    "# Reddit API credentials\n",
    "reddit = praw.Reddit(\n",
    "    client_id='my9Oc-Hd1OpqHNjniYkf_w',\n",
    "    client_secret='iwKz1gvKqPRH4bsd7ENri4kuhEDcPQ',\n",
    "    user_agent='prueba',\n",
    "    username='FenixAscending',\n",
    "    password='Orion-0797'\n",
    ")\n",
    "\n",
    "# Subreddit to post to\n",
    "subreddit_name = \"test\"  # Change to your desired subreddit\n",
    "\n",
    "# Title and content of the post\n",
    "title = \"Jessica se come los mocos\"\n",
    "selftext = \"Hello Reddit! This post was made using a Python script.\"\n",
    "\n",
    "# Path to the image file (replace with the actual path)\n",
    "image_path = \"C:/Users/sebas/OneDrive/Imágenes/Presentación2.png\"  # Example path\n",
    "\n",
    "def submit_post_with_image(reddit, subreddit_name, title, selftext, image_path):\n",
    "    \"\"\"\n",
    "    Submits a post with an image to the specified subreddit.\n",
    "\n",
    "    Args:\n",
    "        reddit (praw.Reddit): The Reddit instance.\n",
    "        subreddit_name (str): The name of the subreddit to post to.\n",
    "        title (str): The title of the post.\n",
    "        selftext (str): The selftext (content) of the post.\n",
    "        image_path (str): The path to the image file to upload.\n",
    "\n",
    "    Returns:\n",
    "        bool: True if the post was submitted successfully, False otherwise.\n",
    "\n",
    "    Raises:\n",
    "        praw.exceptions.RedditAPIException: If there's an issue with Reddit's API.\n",
    "        OSError: If there's a problem opening the image file.\n",
    "    \"\"\"\n",
    "\n",
    "    try:\n",
    "        subreddit = reddit.subreddit(subreddit_name)\n",
    "        submission = subreddit.submit(\n",
    "            title=title,\n",
    "            selftext=selftext\n",
    "        )\n",
    "\n",
    "        if submission is not None:\n",
    "            submission.media(\"image\", file=open(image_path, \"rb\"))\n",
    "            print(f\"Posted to Reddit: {title}\")\n",
    "            return True\n",
    "        else:\n",
    "            print(\"Failed to submit post (empty submission).\")\n",
    "            return False\n",
    "\n",
    "    except praw.exceptions.RedditAPIException as e:\n",
    "        print(f\"Reddit API error: {e}\")\n",
    "        return False\n",
    "    except OSError as e:\n",
    "        print(f\"Error opening image file: {e}\")\n",
    "        return False\n",
    "\n",
    "# Call the function with error handling\n",
    "success = submit_post_with_image(reddit, subreddit_name, title, selftext, image_path)\n",
    "\n",
    "if success:\n",
    "    print(\"Image upload successful!\")\n",
    "else:\n",
    "    print(\"Image upload failed. Check credentials, image path, or Reddit API errors.\")"
   ]
  }
 ],
 "metadata": {
  "kernelspec": {
   "display_name": "reflex_apps",
   "language": "python",
   "name": "python3"
  },
  "language_info": {
   "codemirror_mode": {
    "name": "ipython",
    "version": 3
   },
   "file_extension": ".py",
   "mimetype": "text/x-python",
   "name": "python",
   "nbconvert_exporter": "python",
   "pygments_lexer": "ipython3",
   "version": "3.11.4"
  }
 },
 "nbformat": 4,
 "nbformat_minor": 5
}

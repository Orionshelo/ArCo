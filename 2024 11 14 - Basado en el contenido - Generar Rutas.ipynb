{
 "cells": [
  {
   "cell_type": "markdown",
   "metadata": {},
   "source": [
    "## Análisis para Generar Rutas"
   ]
  },
  {
   "cell_type": "markdown",
   "metadata": {},
   "source": [
    "### Preprocesamiento"
   ]
  },
  {
   "cell_type": "code",
   "execution_count": 1,
   "metadata": {},
   "outputs": [],
   "source": [
    "import pandas as pd\n",
    "from sklearn.metrics.pairwise import cosine_similarity\n",
    "#import numpy as np\n",
    "import difflib\n",
    "from sklearn.feature_extraction.text import TfidfVectorizer\n",
    "\n",
    "\n",
    "###### ArCo ARMADO DE LA BASE#######\n",
    "import os\n",
    "from typing import List\n",
    "from datetime import datetime\n",
    "\n",
    "# Establecer el directorio de trabajo - DNP\n",
    "#os.chdir(\"C:/Users/supegui/Documents/Metodología ArCo/Python/Excel\")\n",
    "\n",
    "# Establecer el directorio de trabajo - Remoto\n",
    "#os.chdir(\"C:/Backup - Archivos de trabajo/DNP/Automatización ArCo/Excel\")\n",
    "\n",
    "# Establecer el directorio de trabajo - Remoto\n",
    "ruta = \"Bases/2024 11 01 - Base Original.xlsx\"\n",
    "\n",
    "\n",
    "# Saca la lista de archivos del directorio de trabajo\n",
    "#os.listdir()\n",
    "# Obtener la fecha actual\n",
    "fecha_actual = datetime.now().strftime(\"%Y %m %d\")\n",
    "#print(fecha_actual)\n",
    "\n",
    "# Construir el nombre del archivo basado en la fecha actual\n",
    "#nombre_archivo = f\"{fecha_actual} Informe ArCo.xlsx\"\n",
    "\n",
    "# Construir el nombre del archivo cuando la fecha no es la actual. Aquí solo se modifica la fecha. ArCo Nal\n",
    "#nombre_archivo = \"2024 11 01 - Base Original Desc Completa.xlsx\"\n",
    "\n",
    "\n",
    "data_arco = pd.read_excel(ruta)"
   ]
  },
  {
   "cell_type": "code",
   "execution_count": 2,
   "metadata": {},
   "outputs": [
    {
     "data": {
      "text/html": [
       "<div>\n",
       "<style scoped>\n",
       "    .dataframe tbody tr th:only-of-type {\n",
       "        vertical-align: middle;\n",
       "    }\n",
       "\n",
       "    .dataframe tbody tr th {\n",
       "        vertical-align: top;\n",
       "    }\n",
       "\n",
       "    .dataframe thead th {\n",
       "        text-align: right;\n",
       "    }\n",
       "</style>\n",
       "<table border=\"1\" class=\"dataframe\">\n",
       "  <thead>\n",
       "    <tr style=\"text-align: right;\">\n",
       "      <th></th>\n",
       "      <th>Código</th>\n",
       "      <th>Sector</th>\n",
       "      <th>Entidad</th>\n",
       "      <th>Nombre del Instrumento</th>\n",
       "      <th>Descripción</th>\n",
       "      <th>Página Web</th>\n",
       "      <th>Antigüedad</th>\n",
       "      <th>Iteración</th>\n",
       "      <th>Emprendedores</th>\n",
       "      <th>Mipymes</th>\n",
       "      <th>...</th>\n",
       "      <th>1. Señale cuál o cuáles de las siguientes brechas</th>\n",
       "      <th>2. ¿En el diseño del instrumento se analizó el posible impacto diferenciado?</th>\n",
       "      <th>3. ¿El instrumento incorpora un enfoque interseccional?</th>\n",
       "      <th>Recursos fuente PGN</th>\n",
       "      <th>Recursos fuente SGR</th>\n",
       "      <th>Recursos fuente Cooperacion</th>\n",
       "      <th>Recursos fuente Esfuerzo Fiscal</th>\n",
       "      <th>Recursos fuente Parafiscales</th>\n",
       "      <th>Recursos fuente Otro</th>\n",
       "      <th>Estado</th>\n",
       "    </tr>\n",
       "  </thead>\n",
       "  <tbody>\n",
       "    <tr>\n",
       "      <th>0</th>\n",
       "      <td>300</td>\n",
       "      <td>Trabajo</td>\n",
       "      <td>SERVICIO NACIONAL DE APRENDIZAJE - SENA</td>\n",
       "      <td>Programa de Formación Continua Especializada (...</td>\n",
       "      <td>El Programa de Formación Continua Especializad...</td>\n",
       "      <td>https://www.sena.edu.co/es-co/Empresarios/Pagi...</td>\n",
       "      <td>25.0</td>\n",
       "      <td>Primera iteración 2025 – Mes de reporte: Septi...</td>\n",
       "      <td>No</td>\n",
       "      <td>No</td>\n",
       "      <td>...</td>\n",
       "      <td>No</td>\n",
       "      <td>No</td>\n",
       "      <td>No</td>\n",
       "      <td>0</td>\n",
       "      <td>0</td>\n",
       "      <td>0</td>\n",
       "      <td>0</td>\n",
       "      <td>59708000000</td>\n",
       "      <td>0</td>\n",
       "      <td>Actualizado</td>\n",
       "    </tr>\n",
       "    <tr>\n",
       "      <th>1</th>\n",
       "      <td>301</td>\n",
       "      <td>Transporte</td>\n",
       "      <td>CORPORACION AUTONOMA REGIONAL DEL RIO GRANDE D...</td>\n",
       "      <td>Mantenimiento del Canal Navegable del Río Gran...</td>\n",
       "      <td>Cormagdalena adelantará d ragados y obras de d...</td>\n",
       "      <td>https://cormagdalena.gov.co/</td>\n",
       "      <td>28.0</td>\n",
       "      <td>Segunda iteración 2024 - Mes de reporte: Febre...</td>\n",
       "      <td>No</td>\n",
       "      <td>No</td>\n",
       "      <td>...</td>\n",
       "      <td>No</td>\n",
       "      <td>No</td>\n",
       "      <td>No</td>\n",
       "      <td>0</td>\n",
       "      <td>0</td>\n",
       "      <td>0</td>\n",
       "      <td>0</td>\n",
       "      <td>0</td>\n",
       "      <td>0</td>\n",
       "      <td>Desactualizado</td>\n",
       "    </tr>\n",
       "    <tr>\n",
       "      <th>2</th>\n",
       "      <td>310</td>\n",
       "      <td>Estadística</td>\n",
       "      <td>DEPARTAMENTO ADMINISTRATIVO NACIONAL DE ESTADI...</td>\n",
       "      <td>Información estadística de la temática económica</td>\n",
       "      <td>El DANE ofrece diferentes investigaciones, vis...</td>\n",
       "      <td>https://www.dane.gov.co/index.php/estadisticas...</td>\n",
       "      <td>29.0</td>\n",
       "      <td>Primera iteración 2025 – Mes de reporte: Septi...</td>\n",
       "      <td>No</td>\n",
       "      <td>Si</td>\n",
       "      <td>...</td>\n",
       "      <td>No</td>\n",
       "      <td>No</td>\n",
       "      <td>No</td>\n",
       "      <td>40000000000</td>\n",
       "      <td>0</td>\n",
       "      <td>0</td>\n",
       "      <td>0</td>\n",
       "      <td>0</td>\n",
       "      <td>0</td>\n",
       "      <td>Actualizado</td>\n",
       "    </tr>\n",
       "    <tr>\n",
       "      <th>3</th>\n",
       "      <td>324</td>\n",
       "      <td>Hacienda</td>\n",
       "      <td>MINISTERIO DE HACIENDA Y CREDITO PUBLICO</td>\n",
       "      <td>Sistema Integrado de Información Financiera - ...</td>\n",
       "      <td>El Sistema Integrado de Información Financiera...</td>\n",
       "      <td>https://www.minhacienda.gov.co/webcenter/porta...</td>\n",
       "      <td>5.0</td>\n",
       "      <td>Primera iteración 2025 – Mes de reporte: Septi...</td>\n",
       "      <td>No</td>\n",
       "      <td>No</td>\n",
       "      <td>...</td>\n",
       "      <td>No</td>\n",
       "      <td>No</td>\n",
       "      <td>No</td>\n",
       "      <td>20713350446</td>\n",
       "      <td>0</td>\n",
       "      <td>0</td>\n",
       "      <td>0</td>\n",
       "      <td>0</td>\n",
       "      <td>0</td>\n",
       "      <td>Actualizado</td>\n",
       "    </tr>\n",
       "    <tr>\n",
       "      <th>4</th>\n",
       "      <td>343</td>\n",
       "      <td>Presidencia</td>\n",
       "      <td>AGENCIA PARA LA REINCORPORACION Y LA NORMALIZA...</td>\n",
       "      <td>Información del proceso de Reintegración y Rei...</td>\n",
       "      <td>Brindar información de manera oportuna, veraz ...</td>\n",
       "      <td>http://www.reincorporacion.gov.co/es/la-reinte...</td>\n",
       "      <td>10.0</td>\n",
       "      <td>Primera iteración 2025 – Mes de reporte: Septi...</td>\n",
       "      <td>No</td>\n",
       "      <td>No</td>\n",
       "      <td>...</td>\n",
       "      <td>No</td>\n",
       "      <td>No</td>\n",
       "      <td>No</td>\n",
       "      <td>12525971945</td>\n",
       "      <td>0</td>\n",
       "      <td>0</td>\n",
       "      <td>0</td>\n",
       "      <td>0</td>\n",
       "      <td>0</td>\n",
       "      <td>Actualizado</td>\n",
       "    </tr>\n",
       "  </tbody>\n",
       "</table>\n",
       "<p>5 rows × 71 columns</p>\n",
       "</div>"
      ],
      "text/plain": [
       "   Código       Sector                                            Entidad  \\\n",
       "0     300      Trabajo            SERVICIO NACIONAL DE APRENDIZAJE - SENA   \n",
       "1     301   Transporte  CORPORACION AUTONOMA REGIONAL DEL RIO GRANDE D...   \n",
       "2     310  Estadística  DEPARTAMENTO ADMINISTRATIVO NACIONAL DE ESTADI...   \n",
       "3     324     Hacienda           MINISTERIO DE HACIENDA Y CREDITO PUBLICO   \n",
       "4     343  Presidencia  AGENCIA PARA LA REINCORPORACION Y LA NORMALIZA...   \n",
       "\n",
       "                              Nombre del Instrumento  \\\n",
       "0  Programa de Formación Continua Especializada (...   \n",
       "1  Mantenimiento del Canal Navegable del Río Gran...   \n",
       "2   Información estadística de la temática económica   \n",
       "3  Sistema Integrado de Información Financiera - ...   \n",
       "4  Información del proceso de Reintegración y Rei...   \n",
       "\n",
       "                                         Descripción  \\\n",
       "0  El Programa de Formación Continua Especializad...   \n",
       "1  Cormagdalena adelantará d ragados y obras de d...   \n",
       "2  El DANE ofrece diferentes investigaciones, vis...   \n",
       "3  El Sistema Integrado de Información Financiera...   \n",
       "4  Brindar información de manera oportuna, veraz ...   \n",
       "\n",
       "                                          Página Web  Antigüedad  \\\n",
       "0  https://www.sena.edu.co/es-co/Empresarios/Pagi...        25.0   \n",
       "1                       https://cormagdalena.gov.co/        28.0   \n",
       "2  https://www.dane.gov.co/index.php/estadisticas...        29.0   \n",
       "3  https://www.minhacienda.gov.co/webcenter/porta...         5.0   \n",
       "4  http://www.reincorporacion.gov.co/es/la-reinte...        10.0   \n",
       "\n",
       "                                           Iteración Emprendedores Mipymes  \\\n",
       "0  Primera iteración 2025 – Mes de reporte: Septi...            No      No   \n",
       "1  Segunda iteración 2024 - Mes de reporte: Febre...            No      No   \n",
       "2  Primera iteración 2025 – Mes de reporte: Septi...            No      Si   \n",
       "3  Primera iteración 2025 – Mes de reporte: Septi...            No      No   \n",
       "4  Primera iteración 2025 – Mes de reporte: Septi...            No      No   \n",
       "\n",
       "   ... 1. Señale cuál o cuáles de las siguientes brechas  \\\n",
       "0  ...                                                No   \n",
       "1  ...                                                No   \n",
       "2  ...                                                No   \n",
       "3  ...                                                No   \n",
       "4  ...                                                No   \n",
       "\n",
       "  2. ¿En el diseño del instrumento se analizó el posible impacto diferenciado?  \\\n",
       "0                                                 No                             \n",
       "1                                                 No                             \n",
       "2                                                 No                             \n",
       "3                                                 No                             \n",
       "4                                                 No                             \n",
       "\n",
       "  3. ¿El instrumento incorpora un enfoque interseccional? Recursos fuente PGN  \\\n",
       "0                                                 No                        0   \n",
       "1                                                 No                        0   \n",
       "2                                                 No              40000000000   \n",
       "3                                                 No              20713350446   \n",
       "4                                                 No              12525971945   \n",
       "\n",
       "  Recursos fuente SGR Recursos fuente Cooperacion  \\\n",
       "0                   0                           0   \n",
       "1                   0                           0   \n",
       "2                   0                           0   \n",
       "3                   0                           0   \n",
       "4                   0                           0   \n",
       "\n",
       "  Recursos fuente Esfuerzo Fiscal Recursos fuente Parafiscales  \\\n",
       "0                               0                  59708000000   \n",
       "1                               0                            0   \n",
       "2                               0                            0   \n",
       "3                               0                            0   \n",
       "4                               0                            0   \n",
       "\n",
       "  Recursos fuente Otro          Estado  \n",
       "0                    0     Actualizado  \n",
       "1                    0  Desactualizado  \n",
       "2                    0     Actualizado  \n",
       "3                    0     Actualizado  \n",
       "4                    0     Actualizado  \n",
       "\n",
       "[5 rows x 71 columns]"
      ]
     },
     "execution_count": 2,
     "metadata": {},
     "output_type": "execute_result"
    }
   ],
   "source": [
    "data_arco.head()"
   ]
  },
  {
   "cell_type": "code",
   "execution_count": 3,
   "metadata": {},
   "outputs": [
    {
     "name": "stdout",
     "output_type": "stream",
     "text": [
      "<class 'pandas.core.frame.DataFrame'>\n",
      "RangeIndex: 419 entries, 0 to 418\n",
      "Data columns (total 71 columns):\n",
      " #   Column                                                                        Non-Null Count  Dtype         \n",
      "---  ------                                                                        --------------  -----         \n",
      " 0   Código                                                                        419 non-null    int64         \n",
      " 1   Sector                                                                        418 non-null    object        \n",
      " 2   Entidad                                                                       419 non-null    object        \n",
      " 3   Nombre del Instrumento                                                        419 non-null    object        \n",
      " 4   Descripción                                                                   419 non-null    object        \n",
      " 5   Página Web                                                                    419 non-null    object        \n",
      " 6   Antigüedad                                                                    418 non-null    float64       \n",
      " 7   Iteración                                                                     419 non-null    object        \n",
      " 8   Emprendedores                                                                 419 non-null    object        \n",
      " 9   Mipymes                                                                       419 non-null    object        \n",
      " 10  Grandes empresas                                                              419 non-null    object        \n",
      " 11  Gobierno                                                                      419 non-null    object        \n",
      " 12  Academia                                                                      419 non-null    object        \n",
      " 13  Entidades de soporte                                                          419 non-null    object        \n",
      " 14  Personas naturales                                                            419 non-null    object        \n",
      " 15  Formación de Talento Humano                                                   419 non-null    object        \n",
      " 16  Tipo de Sistemas de Información                                               419 non-null    object        \n",
      " 17  Asistencia técnica y Consultoría                                              419 non-null    object        \n",
      " 18  Tipo de Redes de Colaboración                                                 419 non-null    object        \n",
      " 19  Apoyo Financiero                                                              419 non-null    object        \n",
      " 20  Incentivos Tributarios                                                        419 non-null    object        \n",
      " 21  Eventos                                                                       419 non-null    object        \n",
      " 22  Compra Pública                                                                419 non-null    object        \n",
      " 23  Bonos o Vouchers                                                              419 non-null    object        \n",
      " 24  Premios y Reconocimientos                                                     419 non-null    object        \n",
      " 25  Instrumentos Regulatorios                                                     419 non-null    object        \n",
      " 26  Tipo de instrumento                                                           419 non-null    object        \n",
      " 27  Alcance                                                                       419 non-null    object        \n",
      " 28  Convocatoria                                                                  419 non-null    object        \n",
      " 29  Canal de Acceso                                                               419 non-null    object        \n",
      " 30  Temporalidad                                                                  419 non-null    object        \n",
      " 31  Ejecución                                                                     419 non-null    object        \n",
      " 32  ¿El instrumento cuenta con enfoque de género?                                 419 non-null    object        \n",
      " 33  Fecha de Apertura                                                             409 non-null    object        \n",
      " 34  Fecha de Cierre                                                               411 non-null    datetime64[ns]\n",
      " 35  Cobertura                                                                     419 non-null    object        \n",
      " 36  Departamentos                                                                 11 non-null     object        \n",
      " 37  Municipios                                                                    6 non-null      object        \n",
      " 38  Innovación                                                                    419 non-null    object        \n",
      " 39  Emprendimiento                                                                419 non-null    object        \n",
      " 40  Economía Popular                                                              419 non-null    object        \n",
      " 41  Transferencia de Conocimiento y Tecnología                                    419 non-null    object        \n",
      " 42  Investigación                                                                 419 non-null    object        \n",
      " 43  Formación de Capital Humano                                                   419 non-null    object        \n",
      " 44  Propiedad intelectual                                                         419 non-null    object        \n",
      " 45  Calidad                                                                       419 non-null    object        \n",
      " 46  Clúster o encadenamientos                                                     419 non-null    object        \n",
      " 47  Financiación                                                                  419 non-null    object        \n",
      " 48  Comercialización                                                              419 non-null    object        \n",
      " 49  Formalización                                                                 419 non-null    object        \n",
      " 50  Crecimiento Sostenible                                                        419 non-null    object        \n",
      " 51  Inclusión Financiera                                                          419 non-null    object        \n",
      " 52  Comercio Electrónico                                                          419 non-null    object        \n",
      " 53  Educación económica y financiera                                              419 non-null    object        \n",
      " 54  Competencias Digitales                                                        419 non-null    object        \n",
      " 55  X -Si el instrumento es de propiedad intelectual                              419 non-null    object        \n",
      " 56  ¿Qué tipos de derechos de propiedad intelectual contempla?                    419 non-null    object        \n",
      " 57  X -Si el instrumento es de emprendimiento por favor marque aquí!              419 non-null    object        \n",
      " 58  ¿Hacia qué etapa del emprendimiento le apunta el instrumento?                 419 non-null    object        \n",
      " 59  ¿Qué busca mejorar/consolidar en los emprendimientos?                         419 non-null    object        \n",
      " 60  X - Si el instrumento cuenta con Enfoque de Género por favor marque aquí!_y   419 non-null    object        \n",
      " 61  1. Señale cuál o cuáles de las siguientes brechas                             419 non-null    object        \n",
      " 62  2. ¿En el diseño del instrumento se analizó el posible impacto diferenciado?  419 non-null    object        \n",
      " 63  3. ¿El instrumento incorpora un enfoque interseccional?                       419 non-null    object        \n",
      " 64  Recursos fuente PGN                                                           419 non-null    int64         \n",
      " 65  Recursos fuente SGR                                                           419 non-null    int64         \n",
      " 66  Recursos fuente Cooperacion                                                   419 non-null    int64         \n",
      " 67  Recursos fuente Esfuerzo Fiscal                                               419 non-null    int64         \n",
      " 68  Recursos fuente Parafiscales                                                  419 non-null    int64         \n",
      " 69  Recursos fuente Otro                                                          419 non-null    int64         \n",
      " 70  Estado                                                                        419 non-null    object        \n",
      "dtypes: datetime64[ns](1), float64(1), int64(7), object(62)\n",
      "memory usage: 232.5+ KB\n"
     ]
    }
   ],
   "source": [
    "# Get data information\n",
    "data_arco.info()"
   ]
  },
  {
   "cell_type": "code",
   "execution_count": 5,
   "metadata": {},
   "outputs": [
    {
     "name": "stdout",
     "output_type": "stream",
     "text": [
      "['Emprendedores', 'Mipymes', 'Grandes empresas', 'Gobierno ', 'Academia', 'Entidades de soporte', 'Personas naturales']\n"
     ]
    },
    {
     "data": {
      "text/plain": [
       "\"\\n# Selecting the relevant features for recommendation\\nselected_features = [\\n                 #'Emprendedores',\\n                 'Mipymes',\\n                 'Grandes empresas',\\n                 #'Gobierno ',\\n                 #'Academia',\\n                 #'Entidades de soporte',\\n                 #'Personas naturales'\\n                 ]\\nprint(selected_features)\\n\""
      ]
     },
     "execution_count": 5,
     "metadata": {},
     "output_type": "execute_result"
    }
   ],
   "source": [
    "# Selecting the relevant features for recommendation - Usuarios completos\n",
    "selected_features = [\n",
    "                 'Emprendedores',\n",
    "                 #'Microempresa',\n",
    "                 #'Pequeña Empresa',\n",
    "                 #'Mediana Empresa',   \n",
    "                 'Mipymes',\n",
    "                 'Grandes empresas',\n",
    "                 'Gobierno ',\n",
    "                 'Academia',\n",
    "                 'Entidades de soporte',\n",
    "                 'Personas naturales',\n",
    "                 ]\n",
    "\n",
    "print(selected_features)\n",
    "\n",
    "\"\"\"\n",
    "# Selecting the relevant features for recommendation\n",
    "selected_features = [\n",
    "                 #'Emprendedores',\n",
    "                 'Mipymes',\n",
    "                 'Grandes empresas',\n",
    "                 #'Gobierno ',\n",
    "                 #'Academia',\n",
    "                 #'Entidades de soporte',\n",
    "                 #'Personas naturales'\n",
    "                 ]\n",
    "print(selected_features)\n",
    "\"\"\""
   ]
  },
  {
   "cell_type": "code",
   "execution_count": 6,
   "metadata": {},
   "outputs": [],
   "source": [
    "# Replacing the null valuess with null string\n",
    "for feature in selected_features:\n",
    "    data_arco[feature] = data_arco[feature].fillna('')"
   ]
  },
  {
   "cell_type": "code",
   "execution_count": 8,
   "metadata": {},
   "outputs": [
    {
     "data": {
      "text/plain": [
       "0      No Si No No No No No\n",
       "1      No Si No Si No No No\n",
       "2      No Si Si Si Si Si Si\n",
       "3      No No No No Si No No\n",
       "4      No Si No No Si Si Si\n",
       "               ...         \n",
       "414    No No No No No No Si\n",
       "415    No Si Si No Si Si Si\n",
       "416    No Si Si No Si Si Si\n",
       "417    No No No No No No Si\n",
       "418    Si Si Si Si Si No Si\n",
       "Length: 419, dtype: object"
      ]
     },
     "execution_count": 8,
     "metadata": {},
     "output_type": "execute_result"
    }
   ],
   "source": [
    "# combining all the 5 selected features - Con todos los tipos de usuarios\n",
    "combined_features = data_arco['Emprendedores'] + ' ' + data_arco['Entidades de soporte'] + ' ' + data_arco['Mipymes'] + ' ' + data_arco['Grandes empresas'] + ' ' + data_arco['Gobierno '] + ' ' + data_arco['Academia'] + ' ' + data_arco['Personas naturales'] \n",
    "\n",
    "combined_features\n",
    "\n"
   ]
  },
  {
   "cell_type": "markdown",
   "metadata": {},
   "source": [
    "### Construyendo el sistema de recomendación con el nombre del instrumento"
   ]
  },
  {
   "cell_type": "code",
   "execution_count": 9,
   "metadata": {},
   "outputs": [],
   "source": [
    "# converting the text data to feature vectors\n",
    "vectorizer = TfidfVectorizer()\n",
    "\n",
    "feature_vectors = vectorizer.fit_transform(combined_features)"
   ]
  },
  {
   "cell_type": "code",
   "execution_count": 10,
   "metadata": {},
   "outputs": [
    {
     "name": "stdout",
     "output_type": "stream",
     "text": [
      "<Compressed Sparse Row sparse matrix of dtype 'float64'\n",
      "\twith 818 stored elements and shape (419, 2)>\n",
      "  Coords\tValues\n",
      "  (0, 0)\t0.9867697053239923\n",
      "  (0, 1)\t0.1621281858740218\n",
      "  (1, 0)\t0.9302861121586437\n",
      "  (1, 1)\t0.3668347714227148\n",
      "  (2, 0)\t0.16669980365444861\n",
      "  (2, 1)\t0.9860076954372965\n",
      "  (3, 0)\t0.9867697053239923\n",
      "  (3, 1)\t0.1621281858740218\n",
      "  (4, 0)\t0.6054839362044375\n",
      "  (4, 1)\t0.795857526821466\n",
      "  (5, 0)\t0.8040883716653723\n",
      "  (5, 1)\t0.5945097901233671\n",
      "  (6, 0)\t0.9867697053239923\n",
      "  (6, 1)\t0.1621281858740218\n",
      "  (7, 0)\t0.9867697053239923\n",
      "  (7, 1)\t0.1621281858740218\n",
      "  (8, 0)\t0.9867697053239923\n",
      "  (8, 1)\t0.1621281858740218\n",
      "  (9, 0)\t0.9867697053239923\n",
      "  (9, 1)\t0.1621281858740218\n",
      "  (10, 0)\t0.8040883716653723\n",
      "  (10, 1)\t0.5945097901233671\n",
      "  (11, 0)\t0.6054839362044375\n",
      "  (11, 1)\t0.795857526821466\n",
      "  (12, 0)\t0.9867697053239923\n",
      "  :\t:\n",
      "  (406, 1)\t0.795857526821466\n",
      "  (407, 0)\t0.6054839362044375\n",
      "  (407, 1)\t0.795857526821466\n",
      "  (408, 0)\t0.9302861121586437\n",
      "  (408, 1)\t0.3668347714227148\n",
      "  (409, 0)\t0.6054839362044375\n",
      "  (409, 1)\t0.795857526821466\n",
      "  (410, 0)\t0.9867697053239923\n",
      "  (410, 1)\t0.1621281858740218\n",
      "  (411, 0)\t0.9867697053239923\n",
      "  (411, 1)\t0.1621281858740218\n",
      "  (412, 0)\t0.9867697053239923\n",
      "  (412, 1)\t0.1621281858740218\n",
      "  (413, 0)\t0.9867697053239923\n",
      "  (413, 1)\t0.1621281858740218\n",
      "  (414, 0)\t0.9867697053239923\n",
      "  (414, 1)\t0.1621281858740218\n",
      "  (415, 0)\t0.37598490409453983\n",
      "  (415, 1)\t0.9266257884890856\n",
      "  (416, 0)\t0.37598490409453983\n",
      "  (416, 1)\t0.9266257884890856\n",
      "  (417, 0)\t0.9867697053239923\n",
      "  (417, 1)\t0.1621281858740218\n",
      "  (418, 0)\t0.16669980365444861\n",
      "  (418, 1)\t0.9860076954372965\n"
     ]
    }
   ],
   "source": [
    "print(feature_vectors)"
   ]
  },
  {
   "cell_type": "code",
   "execution_count": 11,
   "metadata": {},
   "outputs": [],
   "source": [
    "# getting the similarity scores using cosine similarity\n",
    "similarity = cosine_similarity(feature_vectors, feature_vectors)"
   ]
  },
  {
   "cell_type": "code",
   "execution_count": 12,
   "metadata": {},
   "outputs": [
    {
     "name": "stdout",
     "output_type": "stream",
     "text": [
      "[[1.         0.97745241 0.32435396 ... 0.52124267 1.         0.32435396]\n",
      " [0.97745241 1.         0.51678042 ... 0.68969209 0.97745241 0.51678042]\n",
      " [0.32435396 0.51678042 1.         ... 0.97633677 0.32435396 1.        ]\n",
      " ...\n",
      " [0.52124267 0.68969209 0.97633677 ... 1.         0.52124267 0.97633677]\n",
      " [1.         0.97745241 0.32435396 ... 0.52124267 1.         0.32435396]\n",
      " [0.32435396 0.51678042 1.         ... 0.97633677 0.32435396 1.        ]]\n"
     ]
    }
   ],
   "source": [
    "print(similarity)"
   ]
  },
  {
   "cell_type": "code",
   "execution_count": 13,
   "metadata": {},
   "outputs": [
    {
     "name": "stdout",
     "output_type": "stream",
     "text": [
      "['Programa de Formación Continua Especializada (PFCE)', 'Mantenimiento del Canal Navegable del Río Grande de la Magdalena', 'Información estadística de la temática económica', 'Sistema Integrado de Información Financiera - SIIF', 'Información del proceso de Reintegración y Reincorporación', 'Fomento de Innovación y Desarrollo Tecnológico en las Empresas', 'Servicio de asistencia jurídica y técnica para adelantar los procedimientos especiales agrarios', 'Servicio de Titulación colectiva Comunidades Negras- Constitución Resguardos Indígenas', 'Asesoría y capacitación:Plan Vial; inventario vial; categorización vial; presentación proyectos al SGR, FSSG, OxI; movilidad urbana sost, segur y salu', 'eKOGUI', 'Adecuación y asesoría para empresas colombianas del sector turismo', 'Colombia Investment Summit  - Macrorrueda Inversión Extranjera Directa', 'Servicio de ampliación R. Indígenas', 'Kit de Servicios para inversionistas extranjeros nuevos e instalados.', 'Servicio apoyo financiero iniciativas comunitarias CI y CN', 'Servicio de adquisición de tierras y/o mejoras Comunidades Indígenas y Negras', 'Servicio de formalización de la propiedad privada rural.', 'Servicio de caracterización de los territorios ocupados o poseídos ancestralmente Comunidades Indígenas', 'Servicio de delimitación del territorio Comunidades Indígenas y Negras', 'Servicio de saneamiento de resguardos Indígenas', 'Sistemas Inteligentes de Transporte (ITS)', 'Servicio de apoyo financiero para la adquisición de tierras', 'Orientación técnica en el manejo y aplicación de herramientas e instrumentos de inspección y vigilancia.', 'Supervisión y Educación Financiera', 'ProColombia Pitch Session para fondos de capital extranjeros en busca de proyectos colombianos listos para recibir inversión extranjera directa.', 'Beneficios Tributarios por la Vinculación de Doctores a las empresas', 'CAPACITACION', 'Personas en reincorporación que acceden a la oferta social en Educación', 'Personas en reintegración que acceden a la oferta social en Educación', 'Emprendimiento- SENA', 'Guía de Atención en Habitabilidad y Vivienda para Personas en Reincorporación', 'Geoportal DANE', 'Encuesta de Micronegocios', 'Valor de créditos garantizados', 'Sistema Estadístico Nacional-SEN', 'Educación formal', 'Promoción de los derechos y deberes en salud, y de la participación ciudadana en control social.', 'Cuenta Satélite de Cultura y Economía Creativa', 'Servicio de administración sobre limitaciones a la propiedad', 'Orientación y atención al usuario de salud de manera presencial en el Territorio Nacional', 'Censo Económico', 'Servicio de administración de tierras de la Nación', 'Estrategia ASG FINAGRO', 'Justicia en territorio para la paz total', 'Beneficios de Inserción Económica del proceso de Reintegración', 'Proyectos productivos colectivos e individuales del proceso de Reincorporación', 'Fondo Emprender', 'Diplomado de Gobernanza y Gestión Cultural', 'Documentos de política pública en materia criminal y penitenciaria', 'Hábitos y Estilos de Vida Saludable', 'Campaña de Sensibilización y Concientización Ciudadana en materia de Política Criminal', 'Generación de ingresos Rural, Urbano y Semiurbano', 'Cofinanciación en Calidad para la Internacionalización', 'Registro Unico Nacional de Transito', 'Red Tecnoparque Colombia', 'ASISTENCIA TÉCNICA EN LA FORMULACIÓN Y ESTRUCTURACIÓN DE PROYECTOS DE INFRAESTRUCTURA DEPORTIVA Y RECREATIVA', 'Comercialización de activos', 'Acreditación de laboratorios del sector ambiental en Colombia', 'Colecciones Biológicas del Instituto Humboldt', 'Sistema de información sanitaria para importación y exportación de productos agrícolas y pecuarios - SISPAP', 'Estudios técnicos sobre la situación de las mujeres rurales en Colombia', 'Plataforma Siembra', 'Categorías de ruralidad', 'Sistema de Información sobre Biodiversidad de Colombia - SiB Colombia', 'Linkata', 'Infraestructura ecoturística construida', 'Servicio de adjudicación de bienes fiscales patrimoniales', 'Obras por Impuestos', 'Biblioteca Agropecuaria de Colombia - BAC', 'Fábricas de Internacionalización', 'Herramienta para la valoración del riesgo y las necesidades de las personas en conflicto con la ley', 'Formulación de lineamientos de política pública e instrumentos que beneficien a las mujeres rurales', 'Servicio de adjudicación de baldíos', 'Servicio de control a la movilización de animales', 'Servicio de acompañamiento para la elaboración de planes de desarrollo sostenible', 'Infraestructura ecoturística mejorada', 'Promoción de las exportaciones y actividades comerciales para la generación de oportunidades y negocios', 'Generación de ingresos para Sujetos de Reparación Colectiva - víctimas del conflicto armado', 'Capacitación a personas y empresas colombianas del sector turismo - Programa de Formación Exportadora de Turismo', 'Servicios Tecnológicos', 'Herramienta virtual para conocer la oferta turística colombiana - Colombia.Travel', 'Promoción del turismo internacional y actividades comerciales para la generación de oportunidades', 'Curso OTGA (Ocean Teacher Academy Global)', 'Cursos REDCAM (Red de Vigilancia para la Conservación y Protección de las Aguas Marinas y Costeras de Colombia)', 'Sistema de Información Ambiental Marina  - SIAM', 'Fortalecimiento de capacidades en consumo de Sustancias Psicoactivas -SPA', 'Programa de justicia juvenil terapéutica', 'Tarjeta Joven Colombia', 'Red Turística de Pueblos Patrimonio', 'Educación Financiera - Finagro Educa 2.0', 'Programa Nacional de Escuelas Taller', 'Políticas públicas en materia de simplificación, depuración y armonización del ordenamiento jurídico', 'BioModelos', 'Auditorias y Certificaciones', 'Fortalecimiento de Políticas, Metodologías e Instrumentos de IVC en el Sector Salud', 'Juegos Intercolegiados Nacionales', 'BioTablero', 'Sistema de Reporte en Línea - SIREL', 'Boletín jurídico Ventana al Derecho', 'SECTOR AEREO INNOVADOR', 'Ventanilla Única de Comercio Exterior VUCE', 'Comunidad Jurídica del Conocimiento', 'Asistencia Técnica en Calidad para MiPymes', 'Aula Virtual CRC', 'Juegos y Eventos de Deporte Social Comunitario', 'Centro de Monitoreo del Estado de Recursos Naturales - ANLA', 'Servicio de ecoturismo en las áreas protegidas', 'SERVICIO DE ANALISIS Y DIAGNOSTICO SANITARIO FITOSANITARIO E INOCUIDAD', 'CE-FORTALECIMIENTO COOPERATIVO Y ASOCIATIVO DE LA ACFC, AUMENTO DE LA PRODUCTIVIDAD NACIONAL, TRANSFORMACIÓN PRODUCTIVA Y AGROINDUSTRIALIZACIÓN PARA', 'Programa Nacional de Estímulos', 'Programa de Entrenamiento Multidimensional - PEM / Capacitación para el Sistema Nacional ALA/CFT', 'Formación en gestión cultural y áreas artísticas', 'Jornada Deportiva Escolar Complementaria', 'Proyectos Turísticos Especiales - PTE', 'Inspección, Control y Vigilancia a Centros de Conciliación, arbitraje y amigable.', 'Diplomado en Método de Resolución de Conflictos', 'Observatorio del Sistema de Ciudades', 'Implementación de la Conciliación en Equidad a través del MICE (Marco para la Implementación de la Conciliación en Equidad)', 'Promoción de Encadenamientos Productivos a través del Desarrollo de Proveedores', 'Servicio de registro a laboratorios externos', 'Núcleo E capítulo Fondo Mujer Emprende', 'Política Hídrica Distrito Buenaventura', 'Gestión de destinos turísticos', 'SERVICIOS Y PRODUCTOS DE LABORATORIOS', 'Colegio Amigos del Turismo - CAT', 'Calidad Turística', 'Plan Maestro Fluvial', 'Asesorías en la formulación de proyectos de infraestructura turística para las regiones', 'MegaiNN Innovación Abierta', 'Banco de Iniciativas y Proyectos para el fortalecimiento de la Justicia propia de los pueblos indigenas de Colombia.', 'Programa de formación sobre mujer rural', 'Fortalecimiento institucional y comunitario para el acceso a la justicia con enfoque étnico', 'Fortalecimiento de competencias para gestores de justicia local y actores del sistema.', 'Comunidad Virtual de Vías Regionales', 'Servicios de asistencia técnica, para el fortalecimiento de capacidades organizativas de los prestadores y las comunidades.', 'Diagnóstico energético y plan de acción en eficiencia energética a entidades públicas y regionales con medidas de baja inversión', 'OPA: Asistencia técnica sobre Población Sorda', 'Proyecto Tipo Mejoramiento de vías terciarias - vías de tercer orden', 'Portal INNOVAMOS', 'Plataforma CIEN', 'SIEL', 'Índice Departamental de Innovación para Colombia (IDIC)', 'Aproximación metodológica a la implementación de las fuentes de financiación para sistemas de transporte', 'Análisis del papel del servicio de transporte público colectivo en relación con el concepto de equidad en las ciudades', 'Lineamientos básicos - Planes De Movilidad Sostenible conectividad, accesibilidad y desplazamiento presentes en los territorios', 'Aproximación metodológica para la implementación del Derecho Real Accesorio de Superficie', 'Mapainversiones', 'Metodología de Articulación para la Competitividad ArCo', 'Información estadística de la temática de Sociedad', 'Programa de Educación Financiera Positiva', 'POSITIVA EDUCA - Plan Nacional de Educación en Seguridad y Salud en el Trabajo', 'Clarificación de la vigencia legal de los títulos de origen colonial o repúblicano de los resguardos indígenas', 'Sistema de Información del Servicio Público de Empleo', 'Laboratorio de Co-Creación para la Innovación INC', 'Observatorio Nacional de Logística, Transporte, Minas y Energía', 'Gratuidad en la matrícula en las Instituciones de Educación Superior Públicas', 'Educación continua', 'Biblioteca', 'Museos', 'Sello Editorial', 'Atención al vigilado a través de inteligencia artificial utilizando un CHATBOT', 'Plataforma de Integración de Datos Sectoriales - INTEGRAME', 'Convocatoria Pública para Comisiones Mixtas de Cooperación', 'Mecanismo Tripartito GIZ/Unión Europea/APC - Colombia', 'Proyecto: Manejo integrado de los recursos hídricos de las cuencas binacionales Mira, Mataje y Carchi-Guáitara, Colombia – Ecuador', 'Espacios de fortalecimiento del acceso a la justicia con enfoque diferencial - Socialización del protocolo de la Kriss Rromaní', 'Herramientas digitales y virtuales para la internacionalización', 'Buscador de Oportunidades Herramienta virtual para identificar oportunidades de inversión en Colombia - Invest in Colombia', 'ASISTENCIA TECNICA', 'Capacitación a personas y empresas colombianas de Bienes y servicios - Programa de Formación Exportadora de bienes y servicios', 'Observatorio Nacional de Discapacidad e Inclusión social y productiva', 'Sistema de Información Geográfica de Finagro -GeoAgro', 'Territorios Clúster', 'Extensionismo Tecnológico SENA', 'Aula Virtual ANLA -Plataforma de Pedagogía Online', 'Red de Marcos de Referencia Agroeconómicos', 'Fortalecimiento Del Proceso De Resocialización En Los Establecimientos de Reclusión a Nivel Nacional', 'Sistema de seguimiento presupuestal - SEPRE', 'Fábricas de Productividad y Sostenibilidad', 'Campus Virtual', 'Producto Especial de garantía para Mujeres', 'Garantía para Bonos Ordinarios en el Mercado de Valores Local', 'Convocatoria del Fondo para el Desarrollo Cinematográfico 2024', 'Calidad para la Reindustrialización - Asistencia técnica en calidad para mipymes (Extensionismo) - Formación en calidad para mipymes', 'Fortalecimiento a la prestación del servicio público de extensión Agropecuaria', 'Proyecto tipo \"Construcción terminal fluvial\"', 'Modernización integral de las capacidades tecnológicas del INPEC a nivel nacional', 'Héroes Fest', 'Ruta ALDEA', 'Levantamiento de la información ambiental y el seguimiento al estado de los recursos naturales que constituyen el patrimonio ambiental del país.', 'Certificado de Inversión Audiovisual - CINA 2024', 'Contraprestación Fondo Fílmico Colombia 2024', 'Admisibilidad sanitaria y fitosanitaria de los productos agropecuarios', 'Calidad para la Reindustrialización - Certificación', 'Materiales de Referencia Certificados', 'Crédito educativo a través de la administración de recursos de terceros', 'Plan de Educación Financiera', 'Aldea Escala 4.0', 'Silverexpo. Feria de entretenimiento y bienestar para Personas Mayores', 'Programa Beps', 'Calibración y Medición Metrológica', 'Transferencia de conocimiento en temas relacionados con métodos de resolución de conflictos.', 'Capacitaciones en Metrología', 'Ensayos de Aptitud', 'Asistencia Técnica Metrológica', 'Informe de eventos en salud pública', 'Prevención del reclutamiento forzado, uso, utilización y violencia sexual en contra de niños, niñas y adolescentes', 'Publicación de información de interés en salud', 'Información geográfica para el Sistema de Administración del Territorio a Nivel Nacional', 'Proyecto Implementación Programa de Acciones Estratégicas para Asegurar la Gestión Integrada y Sostenible de Recurso Hídrico Transfronterizo Amazonas', 'CONECTA DIGITAL', 'innovaSFC', 'Emprendetón', 'Tu Negocio En Linea', 'PROGRAMA DE PROYECTOS PRODUCTIVOS - URT', 'Algoritmo para el análisis de la información reportada', 'VISOR GEOGRÁFICO DE INFRAESTRUCTURA NO CONCESIONADA MARÍTIMA Y FLUVIAL', 'Licencia remunerada a atletas y personal de apoyo a atletas', 'Programa ECAS', 'PotencIA - Ecosistemas de Innovación Digital', 'Talento Tech', 'Metodología de Identificación y Medición de Brechas de Capital Humano (IMBCH)', 'IMPLEMENTACIÓN Y MASIFICACIÓN DE NUEVOS DOCUMENTOS ELECTRÓNICOS DEL SISTEMA DE FACTURACIÓN NACIONAL', 'Proyecto: Gestión\\u202fintegral de la cuenca del río Atrato para la rehabilitación, restauración, remediación y gobernanza ambiental. Fase II', 'SENATIC', 'Ventanilla Única Empresarial -  VUE', 'Oportunidades  para Emprender', 'FortaleSER', 'EnCadena', 'Mujeres Más Productivas 2023- Fase 4 (establecimientos comerciales)', 'Proyecto: GEF Manejo integrado de la Cuenca del Río Putumayo-Içá', 'Programa Nacional de Concertación Cultural', 'Sistemas Inteligentes de Transporte Colombia (ITS)', 'SiNITT(Sistema Inteligente Nacional para la Infraestructura, el Tránsito y el Transporte', 'Peajes electronicos', 'Implementación de actividades de investigación y desarrollo, innovación y capacitación para la producción de información ambiental', 'FORTALECIMIENTO DE LA GESTIÓN Y APROPIACIÓN DEL CONOCIMIENTO TÉCNICO DE  LOS PROCESOS PRODUCTIVOS AGROPECUARIOS Y RURALES, EN LOS  PRODUCTORES Y LAS A', 'Programa de Modernización de Vehiculos de Carga', 'Fortalecimiento de acciones para la gestión integral del agua como base del ordenamiento territorial sostenible en La Mojana. Fase II', 'RETORNO PRODUCTIVO', 'Programa de Fortalecimiento Productivo y Comercial a Pueblos Étnicos', 'Comercializadoras Territoriales', 'Talentos Colombia', 'Fibras naturales para el sector moda', 'Convocatoria para el registro de proyectos que accederán a los beneficios tributarios por inversión en proyectos de ciencia, tecnología e innovación', 'Sistema para la Transformación de la Conflictividad Socioecológica', 'Pequeño Productor', 'Economía popular comunitaria', 'Colombia Programa', 'Fondo de Fomento Agropecuario', 'Jover Rural', 'Índice Municipal de Riesgo de Desastres Ajustado por Capacidades', 'Caja de Herramientas para intervenciones resilientes', 'Línea Especial de Microcrédito Inclusión Financiera Economía Popular para el Sector Agropecuario – LEM EP', 'Curso virtual sobre crecimiento verde', 'Curso Finanzas del Clima', 'Índice Territorial de Crecimiento Verde (ITCV)', 'Sistema MRV de Financiamiento Climático', 'Servicio de modelamiento para la conservación de la biodiversidad 2025', 'Colecciones biológicas 2025', 'Servicio de monitoreo de la biodiversidad y los Servicio ecosistémicos 2025', 'Corredor de financiamiento climático', 'Fomento a Proyectos e Iniciativas Productivas en Pequeña y Mediana Acuicultura, Acuicultura de Subsistencia, Pesca Artesanal y Actividades Conexas', 'Mujer Rural', 'Servicio de información\\xa0para la gestión del conocimiento\\xa0ambiental\\xa02025', 'Estudios técnicos para la gestión de la información y el conocimiento ambiental 2025', 'Servicio de protección del conocimiento tradicional 2025', 'Arrendamientos comerciales de activos', 'Depósito provisional popular', 'Gerencia popular', 'Arrendamiento sociales de activos', 'Comodato', 'Destinación provisional de activos para el fomento de las economías populares', 'Destinación definitiva de activos para el fomento de las economías populares', 'CONVOCATORIA 948: CONVOCATORIA ORQUÍDEAS: MUJERES EN LA CIENCIA 2024', 'Estructuración y ejecución de proyectos  para reducir la vulnerabilidad a los efectos del cambio climático.', 'Ella Exporta a África', 'Mujer Autónoma', 'Proyectos de Educación con enfoque de género', 'Créditos con enfoque de género', 'Fortalecimiento Grupos de Ahorro y Crédito Local', 'Seguros paramétricos climáticos - Mujer Protegida', 'Observatorio de Justicia Transicional de Colombia', 'Mejoramiento de Acceso a la Justicia Local y Rural a Nivel Nacional', 'Estrategia de Asesoría integral a las entidades públicas del orden nacional y territorial', 'Fortalecimiento de Comisarías de Familia', 'Traslado de Personas Condenadas - Repatriación', 'Sistema Interinstitucional de Información de Justicia Transicional - SIIJT', 'Red justas', 'Juegos y Eventos Mindeporte', 'Convocatoria de investigaciones en temas de espectro', 'Ciber Paz – Sensibilizaciones', 'Ciber Paz – Formaciones', 'CIBERPAZ EXPRESIÓN – LEGADO DE GABO', 'Apoyo a la preparación y participación de atletas', 'EnCadena, mejores proveedores', 'Servicio de Distribución de Productos Especializados para personas con discapacidad visual', 'Producir material impreso en tinta macrotipo, Sistema Braille y en alto relieve, como apoyo a los procesos de atención y acceso a la información.', 'Estrategia de Turismo para un Cultura de Paz', 'CIBERPAZ INCLUSIÓN SOCIAL - CONVERTIC', 'Convocatorias de Tesis y Pasantias', 'Programa Deportes +', 'CIBERPAZ INCLUSIÓN SOCIAL - CENTRO DE RELEVO', 'Escuela de Talentos', 'Red Nacional de Conocimiento para la Transición Energética Justa - RedTEJ', 'SOLARIS: Transformando Experiencias Ciudadanas', 'Becas en el Exterior para estudiantes y profesionales colombianos 2024-2', 'Mujeres en la Industria del Mantenimiento Automotriz', 'Beneficio de Estímulo Económico de Sometimiento del proceso de Atención Diferencial', 'Programa Glorias del Deporte', 'CIBER PAZ INCLUSIÓN SOCIAL – SMART FILMS (SMART TIC INCLUYENTE Y REDVOLUCIONARIAS TIC)', 'Minicadenas locales', 'Centros de Reindustralización ZASCA', 'Líneas Especiales de Crédito 2024', 'Participación en espacios de articulación en territorio para  la formalización minera de pequeña escala.', 'Espacios de diálogo con mineros, autoridades locales y demás grupos interesados en territorio nacional para el fortalecimiento de la mineria artesanal', 'Sistema de Información de Combustibles - SICOM', 'Programa Apoyo al Atleta Excelencia', 'Programa Incentivo a medallas', 'Fondo de Fomento para las Mujeres Rurales FOMMUR', 'Estrategia Mujer Emprende', 'CAPACITACION EN ADMINISTRACIÓN DEPORTIVA', 'Convocatoria Misión Soberanía Sanitaria y Bienestar Social - Territorios Garantes de la Salud', 'Justamente - Aprendiendo sobre justicia y restauración', 'Convocatoria para el registro de propuestas que accederán a los beneficios tributarios de Ingresos No Constitutivos de renta y/o Ganancia Ocasional', 'Convocatoria para el registro de propuestas que accederán a la exención del IVA', 'Cátedra nacional, justicia transicional de la JEP aportes para la paz', 'FORTALECIMIENTO EN LA APLICACIÓN DE LAS TÉCNICAS NUCLEARES, RADIACTIVAS, ISOTÓPICAS Y GEOCRONOLÓGICAS EN EL TERRITORIO NACIONAL', 'Fortalecimiento del conocimiento geocientífico a escalas menores de 1:100.000 en el territorio colombiano', 'Investigación sobre amenazas y riesgos geológicos para Colombia', 'FOMENTO DE ORGANIZACIONES DE ASOCATIVIDAD SOLIDARIA', 'AMPLIACIÓN DE LA INFORMACIÓN GEOCIENTÍFICA EN CUENCAS SEDIMENTARIAS DE LOS RECURSOS ENERGÉTICOS NECESARIOS PARA LA TRANSICIÓN ENERGÉTICA', 'AMPLIACIÓN DEL CONOCIMIENTO DE LOS RECURSOS MINERALES, SU POTENCIAL E INTERACCIÓN CON EL MEDIO AMBIENTE Y LA SALUD HUMANA EN EL TERRITORIO COLOMBIANO', 'Fortalecimiento de la capacidad de acceso del sector minero energetico a los productos y servicios del Banco de Informacion Petrolera - BIP Nacional', 'Modernización De Los Servicios De Museo Geológico E Investigaciones Asociadas A Nivel Nacional', 'Línea de crédito Creo Economía Popular 2023', 'FORTALECIMIENTO DE LA INVESTIGACIÓN Y CARACTERIZACIÓN GEOCIENTÍFICA CON ENFOQUE EN EL APROVECHAMIENTO RESPONSABLE DEL SUELO, SUBSUELO Y AGUA', 'Asistencias técnicas realizadas', 'formación y desarrollo de competencias laborales de los aspirantes y servidores públicos del INPEC y otras entidades  en el campo penitenciario', 'Emprende con Ciencia', 'Convocatoria Sácale Jugo a Tu Patente año 2024', 'Asistencia Técnica en Derecho de Autor y Derechos Conexos', 'Registro Nacional del Derecho de Autor', 'Asuntos Jurisdiccionales', 'Prueba Emprende NS', 'Centro de Conciliación y Arbitraje \"Fernando Hinestrosa\"', 'Expedición de registros sanitarios y tramites asociados', 'Delimitación R.Indígenas fines político-administrativos especiales', 'Servicio de ampliación y saneamiento de las tierras de las comunidades negras, afrocolombianas, raizales y palenqueras', 'Servicio de protección y seguridad jurídica de las tierras y los territorios ocupados o poseídos ancestral y/o tradicionalmente por las comunidades ne', 'Proyecto Piloto: Promoción de mecanismos de cooperación multimunicipal para la gestión y protección de aguas subterráneas. Putumayo', 'Observatorio de Política Criminal', 'Red de Observatorios Territoriales de Seguridad Vial (ROT)', 'Asignación ambiental del 1% y 2o % del mayor recaudo', 'Estrategia Articular + Prevenir = Futuro Seguro', 'Beneficio de Capital Semilla para miembros activos y retirados de la Fuerza Pública', 'Implementación de la Conciliación en Equidad a través del MICE (Marco para la Implementación de la Conciliación en Equidad).', 'Fortalecimiento de la conciliación en equidad', 'Programa Centros de Apoyo a la Tecnología y la Innovación - CATI', 'MISION TRANSMISION', 'Jornadas móviles de casas de Justicia y capacitación a servidores públicos', 'METAREP', 'Eficiencia energética en la pequeña y mediana minería.', 'PLATAFORMA COMERCIALIZACION EN LINEA', 'Jornadas Móviles gratuitas de Conciliación en Derecho', 'Asistencia técnica para la resolución de conflictos comunitarios de los pueblos negros, afrocolombianos, raizales y palanqueros - NARP.', 'Asistencias técnicas en materia de promoción del acceso a la justicia', 'Servicio de educación informal para el acceso a la justicia', 'Proyecto. Fortalecimiento de capacidades en la democratización de la información hidrometeorológica en la ecorregión de La  Mojana', 'Escuela Virtual de Seguridad Vial', 'Premio al Buen Diseño', 'Proyectos Integrales de Desarrollo Agropecuario y Rural (PIDAR)', 'CIRCULOS SOLIDARIOS', 'Servicio de información \"Conexión Justicia\"', 'Servicio de información: \"LegalApp\"', 'Programa de Justicia Juvenil Restaurativa-PJJR', 'Programa Casa Libertad', 'Trámites de solicitud de licenciamiento para cultivo de plantas de cannabis psicoactivo y no psicoactivo y semillas para siembra y grano', 'De la UPME al TERRITORIO', 'Convocatoria Fullbright (2024-2025)', 'Formación para estudios de maestría y doctorado en el exterior Minciencias COLFUTURO', 'Convocatoria orquídeas: Mujeres en la ciencia', 'Trámites de solicitud de expedición del Certificado de Carencia de Informes por Tráfico de Estupefacientes – CCITE ordinario y autorizaciones extraord', 'Sistema de Alertas Tempranas SAT', 'Observatorio de Drogas de Colombia', 'SEGUIMIENTO A LA IMPLEMENTACIÓN DE LA RUTA DE ATENCIÓN INTEGRAL A VICTIMAS Y PROTOCOLO PAS', 'Sandbox Regulatorio de Comunicaciones', 'Promoción de empresas en reactivación económica', 'CÁTEDRA UBPD-UNAL \"La desaparición y búsqueda de personas en el contexto y en razón del conflicto armado en Colombia\" (2024-I)', 'Acompañamiento para la territorialización de la Política de Drogas', 'Industria Penitenciaria En colombia', 'Crédito educativo a traves de la administración de recursos de terceros', 'SISTEMA DE INFORMACIÓN MINERO COLOMBIANO', 'Fortalecimiento institucional y comunitario para el acceso a la justicia con enfoque de género y para las personas con discapacidad', 'Normativa de carácter general y abstracto de alcance nacional (constituciones, actos legislativos, leyes y decretos) incorporadas al SUIN-Juriscol, co', 'creditos condonables para colombianos', 'REGISTRO DE PROPUESTAS QUE ACCEDERÁN A LOS BENEFICIOS TRIBUTARIOS POR VINCULACIÓN DE PERSONAL CON TÍTULO DE DOCTORADO EN LAS EMPRESAS', 'Plan Nacional de Recreacion', 'Creditos lineas de credito ICETEX', 'Talleres de educación financiera', 'FORTALECIMIENTO DE LA GESTIÓN Y APROPIACIÓN DEL CONOCIMIENTO TÉCNICO DE LOS PROCESOS PRODUCTIVOS AGROPECUARIOS Y RURALES', 'Becas en el exterior para estudiantes y profesionales Colombianos 2025-1', 'Ventanilla Unica de Inversión (VUI)', 'Programa de Formación Especializada para la Economía Campesina (FEEC)', 'ORIENTACIONES TÉCNICAS PARA LA ELABORACIÓN DE PLANES LOCALES DE SEGURIDAD VIAL', 'IMPLEMENTACIÓN DE ESTRATEGIAS DE FORTALECIMIENTO Y APOYO COMERCIAL PARA ORGANIZACIONES RURALES A NIVEL NACIONAL', 'Infraestructura de Datos Sectorial \"INTÉGRAME\"', 'Convocatoria Mision Soberanía Sanitaria y Bienestar Social - Territorios Garantes de la Salud', 'PROGRAMA DE ASOCIATIVIDAD SOLIDARIA - PASO', 'PLATAFORMA OBSERVA', 'Distritos Mineros Especiales para la Diversificación Productiva', 'Adecuación de tierras', 'Fortalecimiento Estratégico a Emprendimientos de Víctimas', 'Convocatoria para la asignación de recursos de cofinanciación a proyectos orientados a la prevención y atención Integral al consumo de Sustancias Psic', 'Educación Financiera', 'Jornadas de Formalización Turística', 'Estrategía de Turismo Responsable', 'Estrategia de Alimentos de Alto Valor Nutricional', 'MI MERCADO POPULAR']\n"
     ]
    }
   ],
   "source": [
    "# creating a list with all the movie names given in the dataset\n",
    "\n",
    "list_of_all_titles = data_arco['Nombre del Instrumento'].tolist()\n",
    "print(list_of_all_titles)"
   ]
  },
  {
   "cell_type": "code",
   "execution_count": 14,
   "metadata": {},
   "outputs": [],
   "source": [
    "# getting the movie name from the user\n",
    "instrument_name = input(' Introducir el nombre del instrumento : ')\n",
    "#instrument_name = 'Información estadística de la temática económica'\n"
   ]
  },
  {
   "cell_type": "code",
   "execution_count": 15,
   "metadata": {},
   "outputs": [
    {
     "name": "stdout",
     "output_type": "stream",
     "text": [
      "['Programa de Formación Continua Especializada (PFCE)', 'Programa de Formación Especializada para la Economía Campesina (FEEC)']\n"
     ]
    }
   ],
   "source": [
    "# finding the close match for the instrument name given by the user\n",
    "find_close_match = difflib.get_close_matches(instrument_name, list_of_all_titles)\n",
    "print(find_close_match)"
   ]
  },
  {
   "cell_type": "code",
   "execution_count": 16,
   "metadata": {},
   "outputs": [],
   "source": [
    "from difflib import SequenceMatcher\n",
    "\n",
    "def calculate_similarity(a, b):\n",
    "    return SequenceMatcher(None, a, b).ratio()\n",
    "\n",
    "# Ordenar los instrumentos según similitud con el nombre escogido\n",
    "instrumentos_similares = sorted(\n",
    "    list_of_all_titles,\n",
    "    key=lambda x: calculate_similarity(instrument_name, x),\n",
    "    reverse=True\n",
    ")[:10]\n"
   ]
  },
  {
   "cell_type": "code",
   "execution_count": 17,
   "metadata": {},
   "outputs": [
    {
     "name": "stdout",
     "output_type": "stream",
     "text": [
      "['Programa de Formación Continua Especializada (PFCE)', 'Programa de Formación Especializada para la Economía Campesina (FEEC)', 'Programa de formación sobre mujer rural', 'Programa Nacional de Concertación Cultural', 'Programa de Fortalecimiento Productivo y Comercial a Pueblos Étnicos', 'Servicio de información \"Conexión Justicia\"', 'Programa de Educación Financiera Positiva', 'Programa Incentivo a medallas', 'Publicación de información de interés en salud', 'Programa de Modernización de Vehiculos de Carga']\n"
     ]
    }
   ],
   "source": [
    "print(instrumentos_similares)"
   ]
  },
  {
   "cell_type": "markdown",
   "metadata": {},
   "source": [
    "### Análisis a partir de descripciones y features"
   ]
  },
  {
   "cell_type": "code",
   "execution_count": 20,
   "metadata": {},
   "outputs": [],
   "source": [
    "# Fill missing values with empty strings\n",
    "data_arco['Descripción'] = data_arco['Descripción'].fillna('')\n",
    "\n",
    "# Convert text to lowercase\n",
    "data_arco['Descripción'] = data_arco['Descripción'].str.lower()\n",
    "\n",
    "# Vectorize the descriptions\n",
    "vectorizer_desc = TfidfVectorizer()\n",
    "description_vectors = vectorizer_desc.fit_transform(data_arco['Descripción'])"
   ]
  },
  {
   "cell_type": "code",
   "execution_count": 22,
   "metadata": {},
   "outputs": [],
   "source": [
    "# Selected features\n",
    "selected_features = ['Emprendedores', 'Microempresa', 'Pequeña Empresa', 'Mediana Empresa', 'Gobierno ', 'Academia', 'Personas naturales']\n",
    "\n",
    "# Fill missing values with empty strings\n",
    "for feature in selected_features:\n",
    "    data_arco[feature] = data_arco[feature].fillna('')\n",
    "\n",
    "# combining all the 5 selected features - Con todos los tipos de usuarios\n",
    "combined_features = data_arco['Emprendedores'] + ' ' + data_arco['Microempresa'] + ' ' + data_arco['Pequeña Empresa'] + ' ' + data_arco['Mediana Empresa'] + ' ' + data_arco['Gobierno '] + ' ' + data_arco['Academia'] + ' ' + data_arco['Personas naturales'] \n",
    "\n",
    "# Vectorize the combined features\n",
    "vectorizer_features = TfidfVectorizer()\n",
    "feature_vectors = vectorizer_features.fit_transform(combined_features)"
   ]
  },
  {
   "cell_type": "code",
   "execution_count": 23,
   "metadata": {},
   "outputs": [],
   "source": [
    "from sklearn.metrics.pairwise import cosine_similarity\n",
    "\n",
    "# Description similarity matrix\n",
    "description_similarity = cosine_similarity(description_vectors, description_vectors)\n",
    "\n",
    "# Features similarity matrix\n",
    "features_similarity = cosine_similarity(feature_vectors, feature_vectors)"
   ]
  },
  {
   "cell_type": "code",
   "execution_count": 24,
   "metadata": {},
   "outputs": [],
   "source": [
    "# Define weights\n",
    "weight_desc = 0.7\n",
    "weight_features = 0.3\n",
    "\n",
    "# Ensure both matrices are in the range [0, 1]\n",
    "# If necessary, normalize the matrices\n",
    "# For cosine similarity, values are already between -1 and 1, but we can adjust them to [0, 1]\n",
    "description_similarity = (description_similarity + 1) / 2\n",
    "features_similarity = (features_similarity + 1) / 2\n",
    "\n",
    "# Combine the similarity matrices\n",
    "combined_sim = (weight_desc * description_similarity) + (weight_features * features_similarity)"
   ]
  },
  {
   "cell_type": "code",
   "execution_count": 26,
   "metadata": {},
   "outputs": [],
   "source": [
    "from difflib import SequenceMatcher\n",
    "\n",
    "def find_closest_name(query, names):\n",
    "    max_ratio = 0\n",
    "    closest_name = \"\"\n",
    "    for name in names:\n",
    "        ratio = SequenceMatcher(None, query, name).ratio()\n",
    "        if ratio > max_ratio:\n",
    "            max_ratio = ratio\n",
    "            closest_name = name\n",
    "    return closest_name\n",
    "\n",
    "def recommend_instruments(input_name, data_arco, combined_sim, top_n=5):\n",
    "    # Find the closest instrument name\n",
    "    closest_name = find_closest_name(input_name, data_arco['Nombre del Instrumento'])\n",
    "    # Get the index of the selected instrument\n",
    "    selected_index = data_arco[data_arco['Nombre del Instrumento'] == closest_name].index[0]\n",
    "    # Get similarity scores\n",
    "    sim_scores = list(enumerate(combined_sim[selected_index]))\n",
    "    # Sort the scores\n",
    "    sim_scores = sorted(sim_scores, key=lambda x: x[1], reverse=True)\n",
    "    # Exclude the selected instrument\n",
    "    sim_scores = [x for x in sim_scores if x[0] != selected_index]\n",
    "    # Get top N indices\n",
    "    top_indices = [i[0] for i in sim_scores[:top_n]]\n",
    "    # Return recommended instruments\n",
    "    return data_arco.iloc[top_indices][['Código', 'Nombre del Instrumento', 'Sector', 'Entidad']]"
   ]
  },
  {
   "cell_type": "code",
   "execution_count": 28,
   "metadata": {},
   "outputs": [
    {
     "name": "stdout",
     "output_type": "stream",
     "text": [
      "    Código                             Nombre del Instrumento    Sector  \\\n",
      "9     3419  CELEBRACIÓN DEL DÍA DEL CAMPESINO DEL MUNICIPI...       NaN   \n",
      "3     3321                                          CEmprende  Comercio   \n",
      "4     3403  VERSIÓN 184 DE LA FERIA GANADERA, MERCADO GANA...       NaN   \n",
      "7     3415    feria internacional de cafe cacao y agroturismo       NaN   \n",
      "10    3428  Convocatoria Concertación Proyectos y Estimulo...       NaN   \n",
      "5     3407  FERIA EQUINA GRADO B EN SU VERSIÓN 185, MERCAD...       NaN   \n",
      "11    3760                                       Convocatoria       NaN   \n",
      "12    3762  Gestión de la Información Estadística y Cartog...       NaN   \n",
      "2     3308                                       Expovivienda       NaN   \n",
      "8     3416  CONVOCATORIA PARA EL SECTOR TURISMO DEL DEPART...       NaN   \n",
      "1     3304                 Cursos virtuales de Emprendimiento       NaN   \n",
      "6     3410  Sistema de Información Turístico y Cultural de...       NaN   \n",
      "\n",
      "                                 Entidad  \n",
      "9   Alcaldía Municipal de La Plata Huila  \n",
      "3                      INNPULSA COLOMBIA  \n",
      "4   Alcaldía Municipal de La Plata Huila  \n",
      "7                   Gobernación de Huila  \n",
      "10                  Gobernación de Huila  \n",
      "5   Alcaldía Municipal de La Plata Huila  \n",
      "11                  Gobernación de Huila  \n",
      "12                  Gobernación de Huila  \n",
      "2                          Camacol Huila  \n",
      "8                   Gobernación de Huila  \n",
      "1             Politécnico Grancolombiano  \n",
      "6                   Gobernación de Huila  \n"
     ]
    }
   ],
   "source": [
    "# Example usage\n",
    "recommendations = recommend_instruments(\"Fábricas de Productividad y Sostenibilidad - Huila\", data_arco, combined_sim, top_n=20)\n",
    "print(recommendations)"
   ]
  },
  {
   "cell_type": "code",
   "execution_count": 29,
   "metadata": {},
   "outputs": [],
   "source": [
    "# Directorio DNP\n",
    "recommendations.to_excel('C:/Users/supegui/Documents/Metodología ArCo/Python/Excel/recomendaciones_arco_huila.xlsx', index=False)\n",
    "\n",
    "# Directorio remoto\n",
    "#recommendations.to_excel('C:/Backup - Archivos de trabajo/DNP/Automatización ArCo/Excel/recomendaciones.xlsx', index=False)"
   ]
  }
 ],
 "metadata": {
  "kernelspec": {
   "display_name": "Python 3 (ipykernel)",
   "language": "python",
   "name": "python3"
  },
  "language_info": {
   "codemirror_mode": {
    "name": "ipython",
    "version": 3
   },
   "file_extension": ".py",
   "mimetype": "text/x-python",
   "name": "python",
   "nbconvert_exporter": "python",
   "pygments_lexer": "ipython3",
   "version": "3.12.1"
  }
 },
 "nbformat": 4,
 "nbformat_minor": 2
}

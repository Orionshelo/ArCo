{
 "cells": [
  {
   "cell_type": "markdown",
   "metadata": {},
   "source": [
    "## Análisis para Generar Rutas"
   ]
  },
  {
   "cell_type": "code",
   "execution_count": 16,
   "metadata": {},
   "outputs": [],
   "source": [
    "import pandas as pd\n",
    "from sklearn.metrics.pairwise import cosine_similarity\n",
    "#import numpy as np\n",
    "import difflib\n",
    "from sklearn.feature_extraction.text import TfidfVectorizer\n",
    "\n",
    "\n",
    "###### ArCo ARMADO DE LA BASE#######\n",
    "import os\n",
    "from typing import List\n",
    "from datetime import datetime\n",
    "\n",
    "# Establecer el directorio de trabajo - DNP\n",
    "#os.chdir(\"C:/Users/supegui/Documents/Metodología ArCo/Python/Excel\")\n",
    "\n",
    "# Establecer el directorio de trabajo - Remoto\n",
    "os.chdir(\"C:/Backup - Archivos de trabajo/DNP/Automatización ArCo/Excel\")\n",
    "\n",
    "\n",
    "# Saca la lista de archivos del directorio de trabajo\n",
    "#os.listdir()\n",
    "# Obtener la fecha actual\n",
    "fecha_actual = datetime.now().strftime(\"%Y %m %d\")\n",
    "#print(fecha_actual)\n",
    "\n",
    "# Construir el nombre del archivo basado en la fecha actual\n",
    "#nombre_archivo = f\"{fecha_actual} Informe ArCo.xlsx\"\n",
    "\n",
    "# Construir el nombre del archivo cuando la fecha no es la actual. Aquí solo se modifica la fecha. \n",
    "nombre_archivo = \"2024 11 01 - Base Original.xlsx\"\n",
    "\n",
    "data_arco = pd.read_excel(nombre_archivo)"
   ]
  },
  {
   "cell_type": "code",
   "execution_count": 17,
   "metadata": {},
   "outputs": [
    {
     "data": {
      "text/html": [
       "<div>\n",
       "<style scoped>\n",
       "    .dataframe tbody tr th:only-of-type {\n",
       "        vertical-align: middle;\n",
       "    }\n",
       "\n",
       "    .dataframe tbody tr th {\n",
       "        vertical-align: top;\n",
       "    }\n",
       "\n",
       "    .dataframe thead th {\n",
       "        text-align: right;\n",
       "    }\n",
       "</style>\n",
       "<table border=\"1\" class=\"dataframe\">\n",
       "  <thead>\n",
       "    <tr style=\"text-align: right;\">\n",
       "      <th></th>\n",
       "      <th>Código</th>\n",
       "      <th>Sector</th>\n",
       "      <th>Entidad</th>\n",
       "      <th>Nombre del Instrumento</th>\n",
       "      <th>Descripcion</th>\n",
       "      <th>Página Web</th>\n",
       "      <th>Antigüedad</th>\n",
       "      <th>Iteración</th>\n",
       "      <th>Emprendedores</th>\n",
       "      <th>Mipymes</th>\n",
       "      <th>...</th>\n",
       "      <th>1. Señale cuál o cuáles de las siguientes brechas</th>\n",
       "      <th>2. ¿En el diseño del instrumento se analizó el posible impacto diferenciado?</th>\n",
       "      <th>3. ¿El instrumento incorpora un enfoque interseccional?</th>\n",
       "      <th>Recursos fuente PGN</th>\n",
       "      <th>Recursos fuente SGR</th>\n",
       "      <th>Recursos fuente Cooperacion</th>\n",
       "      <th>Recursos fuente Esfuerzo Fiscal</th>\n",
       "      <th>Recursos fuente Parafiscales</th>\n",
       "      <th>Recursos fuente Otro</th>\n",
       "      <th>Estado</th>\n",
       "    </tr>\n",
       "  </thead>\n",
       "  <tbody>\n",
       "    <tr>\n",
       "      <th>0</th>\n",
       "      <td>1794</td>\n",
       "      <td>Hacienda</td>\n",
       "      <td>ADMINISTRADORA COLOMBIANA DE PENSIONES - COLPE...</td>\n",
       "      <td>Plan de Educación Financiera</td>\n",
       "      <td>A partir del modelo pedagógico de la entidad p...</td>\n",
       "      <td>https://www.colpensiones.gov.co/educacion/</td>\n",
       "      <td>5.0</td>\n",
       "      <td>Segunda iteración 2023 - Mes de reporte: Marzo...</td>\n",
       "      <td>No</td>\n",
       "      <td>No</td>\n",
       "      <td>...</td>\n",
       "      <td>No</td>\n",
       "      <td>No</td>\n",
       "      <td>No</td>\n",
       "      <td>0</td>\n",
       "      <td>0</td>\n",
       "      <td>0</td>\n",
       "      <td>0</td>\n",
       "      <td>0</td>\n",
       "      <td>0</td>\n",
       "      <td>Desactualizado</td>\n",
       "    </tr>\n",
       "    <tr>\n",
       "      <th>1</th>\n",
       "      <td>1800</td>\n",
       "      <td>Hacienda</td>\n",
       "      <td>ADMINISTRADORA COLOMBIANA DE PENSIONES - COLPE...</td>\n",
       "      <td>Programa Beps</td>\n",
       "      <td>Los requisitos para vincularse a Hoy y Mañana ...</td>\n",
       "      <td>https://www.colpensiones.gov.co/beps/</td>\n",
       "      <td>9.0</td>\n",
       "      <td>Segunda iteración 2023 - Mes de reporte: Marzo...</td>\n",
       "      <td>No</td>\n",
       "      <td>No</td>\n",
       "      <td>...</td>\n",
       "      <td>No</td>\n",
       "      <td>No</td>\n",
       "      <td>No</td>\n",
       "      <td>0</td>\n",
       "      <td>0</td>\n",
       "      <td>0</td>\n",
       "      <td>0</td>\n",
       "      <td>0</td>\n",
       "      <td>0</td>\n",
       "      <td>Desactualizado</td>\n",
       "    </tr>\n",
       "    <tr>\n",
       "      <th>2</th>\n",
       "      <td>1797</td>\n",
       "      <td>Hacienda</td>\n",
       "      <td>ADMINISTRADORA COLOMBIANA DE PENSIONES - COLPE...</td>\n",
       "      <td>Silverexpo. Feria de entretenimiento y bienest...</td>\n",
       "      <td>La feria Silverexpo se realiza en alianza con ...</td>\n",
       "      <td>www.colpensiones.gov.co</td>\n",
       "      <td>4.0</td>\n",
       "      <td>Segunda iteración 2023 - Mes de reporte: Marzo...</td>\n",
       "      <td>No</td>\n",
       "      <td>No</td>\n",
       "      <td>...</td>\n",
       "      <td>No</td>\n",
       "      <td>No</td>\n",
       "      <td>No</td>\n",
       "      <td>0</td>\n",
       "      <td>0</td>\n",
       "      <td>0</td>\n",
       "      <td>0</td>\n",
       "      <td>0</td>\n",
       "      <td>0</td>\n",
       "      <td>Desactualizado</td>\n",
       "    </tr>\n",
       "    <tr>\n",
       "      <th>3</th>\n",
       "      <td>3689</td>\n",
       "      <td>Agropecuario</td>\n",
       "      <td>AGENCIA DE DESARROLLO RURAL - ADR</td>\n",
       "      <td>Adecuación de tierras</td>\n",
       "      <td>La adecuación de tierras es el servicio públi...</td>\n",
       "      <td>https://www.adr.gov.co/atencion-y-servicios-a-...</td>\n",
       "      <td>8.0</td>\n",
       "      <td>Primera iteración 2025 – Mes de reporte: Septi...</td>\n",
       "      <td>No</td>\n",
       "      <td>No</td>\n",
       "      <td>...</td>\n",
       "      <td>Si</td>\n",
       "      <td>No</td>\n",
       "      <td>Si</td>\n",
       "      <td>116422783387</td>\n",
       "      <td>0</td>\n",
       "      <td>0</td>\n",
       "      <td>0</td>\n",
       "      <td>0</td>\n",
       "      <td>0</td>\n",
       "      <td>Actualizado</td>\n",
       "    </tr>\n",
       "    <tr>\n",
       "      <th>4</th>\n",
       "      <td>1734</td>\n",
       "      <td>Agropecuario</td>\n",
       "      <td>AGENCIA DE DESARROLLO RURAL - ADR</td>\n",
       "      <td>Fortalecimiento a la prestación del servicio p...</td>\n",
       "      <td>MEJORAR LA TRANSFERENCIA Y APROPIACIÓN DEL CO...</td>\n",
       "      <td>https://www.adr.gov.co/atencion-y-servicios-a-...</td>\n",
       "      <td>4.0</td>\n",
       "      <td>Primera iteración 2024 - Mes de reporte: Septi...</td>\n",
       "      <td>No</td>\n",
       "      <td>No</td>\n",
       "      <td>...</td>\n",
       "      <td>No</td>\n",
       "      <td>No</td>\n",
       "      <td>No</td>\n",
       "      <td>122305692809</td>\n",
       "      <td>0</td>\n",
       "      <td>0</td>\n",
       "      <td>0</td>\n",
       "      <td>0</td>\n",
       "      <td>0</td>\n",
       "      <td>Desactualizado</td>\n",
       "    </tr>\n",
       "  </tbody>\n",
       "</table>\n",
       "<p>5 rows × 71 columns</p>\n",
       "</div>"
      ],
      "text/plain": [
       "   Código        Sector                                            Entidad  \\\n",
       "0    1794     Hacienda   ADMINISTRADORA COLOMBIANA DE PENSIONES - COLPE...   \n",
       "1    1800     Hacienda   ADMINISTRADORA COLOMBIANA DE PENSIONES - COLPE...   \n",
       "2    1797     Hacienda   ADMINISTRADORA COLOMBIANA DE PENSIONES - COLPE...   \n",
       "3    3689  Agropecuario                  AGENCIA DE DESARROLLO RURAL - ADR   \n",
       "4    1734  Agropecuario                  AGENCIA DE DESARROLLO RURAL - ADR   \n",
       "\n",
       "                              Nombre del Instrumento  \\\n",
       "0                       Plan de Educación Financiera   \n",
       "1                                      Programa Beps   \n",
       "2  Silverexpo. Feria de entretenimiento y bienest...   \n",
       "3                              Adecuación de tierras   \n",
       "4  Fortalecimiento a la prestación del servicio p...   \n",
       "\n",
       "                                         Descripcion  \\\n",
       "0  A partir del modelo pedagógico de la entidad p...   \n",
       "1  Los requisitos para vincularse a Hoy y Mañana ...   \n",
       "2  La feria Silverexpo se realiza en alianza con ...   \n",
       "3   La adecuación de tierras es el servicio públi...   \n",
       "4   MEJORAR LA TRANSFERENCIA Y APROPIACIÓN DEL CO...   \n",
       "\n",
       "                                          Página Web  Antigüedad  \\\n",
       "0         https://www.colpensiones.gov.co/educacion/         5.0   \n",
       "1              https://www.colpensiones.gov.co/beps/         9.0   \n",
       "2                            www.colpensiones.gov.co         4.0   \n",
       "3  https://www.adr.gov.co/atencion-y-servicios-a-...         8.0   \n",
       "4  https://www.adr.gov.co/atencion-y-servicios-a-...         4.0   \n",
       "\n",
       "                                           Iteración Emprendedores Mipymes  \\\n",
       "0  Segunda iteración 2023 - Mes de reporte: Marzo...            No      No   \n",
       "1  Segunda iteración 2023 - Mes de reporte: Marzo...            No      No   \n",
       "2  Segunda iteración 2023 - Mes de reporte: Marzo...            No      No   \n",
       "3  Primera iteración 2025 – Mes de reporte: Septi...            No      No   \n",
       "4  Primera iteración 2024 - Mes de reporte: Septi...            No      No   \n",
       "\n",
       "   ... 1. Señale cuál o cuáles de las siguientes brechas  \\\n",
       "0  ...                                                No   \n",
       "1  ...                                                No   \n",
       "2  ...                                                No   \n",
       "3  ...                                                Si   \n",
       "4  ...                                                No   \n",
       "\n",
       "  2. ¿En el diseño del instrumento se analizó el posible impacto diferenciado?  \\\n",
       "0                                                 No                             \n",
       "1                                                 No                             \n",
       "2                                                 No                             \n",
       "3                                                 No                             \n",
       "4                                                 No                             \n",
       "\n",
       "  3. ¿El instrumento incorpora un enfoque interseccional? Recursos fuente PGN  \\\n",
       "0                                                 No                        0   \n",
       "1                                                 No                        0   \n",
       "2                                                 No                        0   \n",
       "3                                                 Si             116422783387   \n",
       "4                                                 No             122305692809   \n",
       "\n",
       "  Recursos fuente SGR Recursos fuente Cooperacion  \\\n",
       "0                   0                           0   \n",
       "1                   0                           0   \n",
       "2                   0                           0   \n",
       "3                   0                           0   \n",
       "4                   0                           0   \n",
       "\n",
       "  Recursos fuente Esfuerzo Fiscal Recursos fuente Parafiscales  \\\n",
       "0                               0                            0   \n",
       "1                               0                            0   \n",
       "2                               0                            0   \n",
       "3                               0                            0   \n",
       "4                               0                            0   \n",
       "\n",
       "  Recursos fuente Otro          Estado  \n",
       "0                    0  Desactualizado  \n",
       "1                    0  Desactualizado  \n",
       "2                    0  Desactualizado  \n",
       "3                    0     Actualizado  \n",
       "4                    0  Desactualizado  \n",
       "\n",
       "[5 rows x 71 columns]"
      ]
     },
     "execution_count": 17,
     "metadata": {},
     "output_type": "execute_result"
    }
   ],
   "source": [
    "data_arco.head()"
   ]
  },
  {
   "cell_type": "code",
   "execution_count": 18,
   "metadata": {},
   "outputs": [
    {
     "name": "stdout",
     "output_type": "stream",
     "text": [
      "<class 'pandas.core.frame.DataFrame'>\n",
      "RangeIndex: 419 entries, 0 to 418\n",
      "Data columns (total 71 columns):\n",
      " #   Column                                                                        Non-Null Count  Dtype         \n",
      "---  ------                                                                        --------------  -----         \n",
      " 0   Código                                                                        419 non-null    int64         \n",
      " 1   Sector                                                                        418 non-null    object        \n",
      " 2   Entidad                                                                       419 non-null    object        \n",
      " 3   Nombre del Instrumento                                                        419 non-null    object        \n",
      " 4   Descripcion                                                                   419 non-null    object        \n",
      " 5   Página Web                                                                    419 non-null    object        \n",
      " 6   Antigüedad                                                                    418 non-null    float64       \n",
      " 7   Iteración                                                                     419 non-null    object        \n",
      " 8   Emprendedores                                                                 419 non-null    object        \n",
      " 9   Mipymes                                                                       419 non-null    object        \n",
      " 10  Grandes empresas                                                              419 non-null    object        \n",
      " 11  Gobierno                                                                      419 non-null    object        \n",
      " 12  Academia                                                                      419 non-null    object        \n",
      " 13  Entidades de soporte                                                          419 non-null    object        \n",
      " 14  Personas naturales                                                            419 non-null    object        \n",
      " 15  Formación de Talento Humano                                                   419 non-null    object        \n",
      " 16  Tipo de Sistemas de Información                                               419 non-null    object        \n",
      " 17  Asistencia técnica y Consultoría                                              419 non-null    object        \n",
      " 18  Tipo de Redes de Colaboración                                                 419 non-null    object        \n",
      " 19  Apoyo Financiero                                                              419 non-null    object        \n",
      " 20  Incentivos Tributarios                                                        419 non-null    object        \n",
      " 21  Eventos                                                                       419 non-null    object        \n",
      " 22  Compra Pública                                                                419 non-null    object        \n",
      " 23  Bonos o Vouchers                                                              419 non-null    object        \n",
      " 24  Premios y Reconocimientos                                                     419 non-null    object        \n",
      " 25  Instrumentos Regulatorios                                                     419 non-null    object        \n",
      " 26  Tipo de instrumento                                                           419 non-null    object        \n",
      " 27  Alcance                                                                       419 non-null    object        \n",
      " 28  Convocatoria                                                                  419 non-null    object        \n",
      " 29  Canal de Acceso                                                               419 non-null    object        \n",
      " 30  Temporalidad                                                                  419 non-null    object        \n",
      " 31  Ejecución                                                                     419 non-null    object        \n",
      " 32  ¿El instrumento cuenta con enfoque de género?                                 419 non-null    object        \n",
      " 33  Fecha de Apertura                                                             409 non-null    object        \n",
      " 34  Fecha de Cierre                                                               411 non-null    datetime64[ns]\n",
      " 35  Cobertura                                                                     419 non-null    object        \n",
      " 36  Departamentos                                                                 11 non-null     object        \n",
      " 37  Municipios                                                                    6 non-null      object        \n",
      " 38  Innovación                                                                    419 non-null    object        \n",
      " 39  Emprendimiento                                                                419 non-null    object        \n",
      " 40  Economía Popular                                                              419 non-null    object        \n",
      " 41  Transferencia de Conocimiento y Tecnología                                    419 non-null    object        \n",
      " 42  Investigación                                                                 419 non-null    object        \n",
      " 43  Formación de Capital Humano                                                   419 non-null    object        \n",
      " 44  Propiedad intelectual                                                         419 non-null    object        \n",
      " 45  Calidad                                                                       419 non-null    object        \n",
      " 46  Clúster o encadenamientos                                                     419 non-null    object        \n",
      " 47  Financiación                                                                  419 non-null    object        \n",
      " 48  Comercialización                                                              419 non-null    object        \n",
      " 49  Formalización                                                                 419 non-null    object        \n",
      " 50  Crecimiento Sostenible                                                        419 non-null    object        \n",
      " 51  Inclusión Financiera                                                          419 non-null    object        \n",
      " 52  Comercio Electrónico                                                          419 non-null    object        \n",
      " 53  Educación económica y financiera                                              419 non-null    object        \n",
      " 54  Competencias Digitales                                                        419 non-null    object        \n",
      " 55  X -Si el instrumento es de propiedad intelectual                              419 non-null    object        \n",
      " 56  ¿Qué tipos de derechos de propiedad intelectual contempla?                    419 non-null    object        \n",
      " 57  X -Si el instrumento es de emprendimiento por favor marque aquí!              419 non-null    object        \n",
      " 58  ¿Hacia qué etapa del emprendimiento le apunta el instrumento?                 419 non-null    object        \n",
      " 59  ¿Qué busca mejorar/consolidar en los emprendimientos?                         419 non-null    object        \n",
      " 60  X - Si el instrumento cuenta con Enfoque de Género por favor marque aquí!_y   419 non-null    object        \n",
      " 61  1. Señale cuál o cuáles de las siguientes brechas                             419 non-null    object        \n",
      " 62  2. ¿En el diseño del instrumento se analizó el posible impacto diferenciado?  419 non-null    object        \n",
      " 63  3. ¿El instrumento incorpora un enfoque interseccional?                       419 non-null    object        \n",
      " 64  Recursos fuente PGN                                                           419 non-null    int64         \n",
      " 65  Recursos fuente SGR                                                           419 non-null    int64         \n",
      " 66  Recursos fuente Cooperacion                                                   419 non-null    int64         \n",
      " 67  Recursos fuente Esfuerzo Fiscal                                               419 non-null    int64         \n",
      " 68  Recursos fuente Parafiscales                                                  419 non-null    int64         \n",
      " 69  Recursos fuente Otro                                                          419 non-null    int64         \n",
      " 70  Estado                                                                        419 non-null    object        \n",
      "dtypes: datetime64[ns](1), float64(1), int64(7), object(62)\n",
      "memory usage: 232.5+ KB\n"
     ]
    }
   ],
   "source": [
    "# Get data information\n",
    "data_arco.info()"
   ]
  },
  {
   "cell_type": "code",
   "execution_count": 19,
   "metadata": {},
   "outputs": [
    {
     "name": "stdout",
     "output_type": "stream",
     "text": [
      "['Emprendedores', 'Mipymes', 'Grandes empresas', 'Gobierno ', 'Academia', 'Entidades de soporte', 'Personas naturales']\n"
     ]
    },
    {
     "data": {
      "text/plain": [
       "\"\\n# Selecting the relevant features for recommendation\\nselected_features = [\\n                 #'Emprendedores',\\n                 'Mipymes',\\n                 'Grandes empresas',\\n                 #'Gobierno ',\\n                 #'Academia',\\n                 #'Entidades de soporte',\\n                 #'Personas naturales'\\n                 ]\\nprint(selected_features)\\n\""
      ]
     },
     "execution_count": 19,
     "metadata": {},
     "output_type": "execute_result"
    }
   ],
   "source": [
    "# Selecting the relevant features for recommendation - Usuarios completos\n",
    "selected_features = ['Emprendedores',\n",
    "                 'Mipymes',\n",
    "                 'Grandes empresas',\n",
    "                 'Gobierno ',\n",
    "                 'Academia',\n",
    "                 'Entidades de soporte',\n",
    "                 'Personas naturales']\n",
    "print(selected_features)\n",
    "\n",
    "\"\"\"\n",
    "# Selecting the relevant features for recommendation\n",
    "selected_features = [\n",
    "                 #'Emprendedores',\n",
    "                 'Mipymes',\n",
    "                 'Grandes empresas',\n",
    "                 #'Gobierno ',\n",
    "                 #'Academia',\n",
    "                 #'Entidades de soporte',\n",
    "                 #'Personas naturales'\n",
    "                 ]\n",
    "print(selected_features)\n",
    "\"\"\""
   ]
  },
  {
   "cell_type": "code",
   "execution_count": 20,
   "metadata": {},
   "outputs": [],
   "source": [
    "# Replacing the null valuess with null string\n",
    "for feature in selected_features:\n",
    "    data_arco[feature] = data_arco[feature].fillna('')"
   ]
  },
  {
   "cell_type": "code",
   "execution_count": 21,
   "metadata": {},
   "outputs": [
    {
     "data": {
      "text/plain": [
       "\"\\n# combining all the 5 selected features - Con los usuarios que presentan mayor correlación\\ncombined_features = data_arco['Mipymes'] + ' ' + data_arco['Grandes empresas'] \\ncombined_features\\n\""
      ]
     },
     "execution_count": 21,
     "metadata": {},
     "output_type": "execute_result"
    }
   ],
   "source": [
    "# combining all the 5 selected features - Con todos los tipos de usuarios\n",
    "combined_features = data_arco['Emprendedores'] + ' ' + data_arco['Mipymes'] + ' ' + data_arco['Grandes empresas'] + ' ' + data_arco['Gobierno '] + ' ' + data_arco['Academia'] + ' ' + data_arco['Entidades de soporte']+ ' ' + data_arco['Personas naturales']\n",
    "combined_features\n",
    "\n",
    "\"\"\"\n",
    "# combining all the 5 selected features - Con los usuarios que presentan mayor correlación\n",
    "combined_features = data_arco['Mipymes'] + ' ' + data_arco['Grandes empresas'] \n",
    "combined_features\n",
    "\"\"\""
   ]
  },
  {
   "cell_type": "markdown",
   "metadata": {},
   "source": [
    "## Construyendo el sistema de recomendación"
   ]
  },
  {
   "cell_type": "code",
   "execution_count": 22,
   "metadata": {},
   "outputs": [],
   "source": [
    "# converting the text data to feature vectors\n",
    "vectorizer = TfidfVectorizer()\n",
    "\n",
    "feature_vectors = vectorizer.fit_transform(combined_features)"
   ]
  },
  {
   "cell_type": "code",
   "execution_count": 23,
   "metadata": {},
   "outputs": [
    {
     "name": "stdout",
     "output_type": "stream",
     "text": [
      "  (0, 0)\t1.0\n",
      "  (1, 0)\t1.0\n",
      "  (2, 0)\t1.0\n",
      "  (3, 1)\t0.1621281858740218\n",
      "  (3, 0)\t0.9867697053239923\n",
      "  (4, 1)\t0.1621281858740218\n",
      "  (4, 0)\t0.9867697053239923\n",
      "  (5, 1)\t0.5945097901233671\n",
      "  (5, 0)\t0.8040883716653723\n",
      "  (6, 1)\t0.1621281858740218\n",
      "  (6, 0)\t0.9867697053239923\n",
      "  (7, 1)\t0.3668347714227148\n",
      "  (7, 0)\t0.9302861121586437\n",
      "  (8, 1)\t0.3668347714227148\n",
      "  (8, 0)\t0.9302861121586437\n",
      "  (9, 1)\t0.5945097901233671\n",
      "  (9, 0)\t0.8040883716653723\n",
      "  (10, 1)\t0.3668347714227148\n",
      "  (10, 0)\t0.9302861121586437\n",
      "  (11, 1)\t0.5945097901233671\n",
      "  (11, 0)\t0.8040883716653723\n",
      "  (12, 1)\t0.3668347714227148\n",
      "  (12, 0)\t0.9302861121586437\n",
      "  (13, 1)\t0.3668347714227148\n",
      "  (13, 0)\t0.9302861121586437\n",
      "  :\t:\n",
      "  (405, 1)\t0.1621281858740218\n",
      "  (405, 0)\t0.9867697053239923\n",
      "  (406, 1)\t0.1621281858740218\n",
      "  (406, 0)\t0.9867697053239923\n",
      "  (407, 1)\t1.0\n",
      "  (408, 0)\t1.0\n",
      "  (409, 1)\t0.3668347714227148\n",
      "  (409, 0)\t0.9302861121586437\n",
      "  (410, 1)\t0.795857526821466\n",
      "  (410, 0)\t0.6054839362044375\n",
      "  (411, 1)\t1.0\n",
      "  (412, 1)\t0.9266257884890856\n",
      "  (412, 0)\t0.37598490409453983\n",
      "  (413, 1)\t0.795857526821466\n",
      "  (413, 0)\t0.6054839362044375\n",
      "  (414, 1)\t0.795857526821466\n",
      "  (414, 0)\t0.6054839362044375\n",
      "  (415, 1)\t0.9266257884890856\n",
      "  (415, 0)\t0.37598490409453983\n",
      "  (416, 1)\t0.795857526821466\n",
      "  (416, 0)\t0.6054839362044375\n",
      "  (417, 1)\t0.795857526821466\n",
      "  (417, 0)\t0.6054839362044375\n",
      "  (418, 1)\t0.1621281858740218\n",
      "  (418, 0)\t0.9867697053239923\n"
     ]
    }
   ],
   "source": [
    "print(feature_vectors)"
   ]
  },
  {
   "cell_type": "code",
   "execution_count": 24,
   "metadata": {},
   "outputs": [],
   "source": [
    "# getting the similarity scores using cosine similarity\n",
    "similarity = cosine_similarity(feature_vectors, feature_vectors)"
   ]
  },
  {
   "cell_type": "code",
   "execution_count": 25,
   "metadata": {},
   "outputs": [
    {
     "name": "stdout",
     "output_type": "stream",
     "text": [
      "[[1.         1.         1.         ... 0.60548394 0.60548394 0.98676971]\n",
      " [1.         1.         1.         ... 0.60548394 0.60548394 0.98676971]\n",
      " [1.         1.         1.         ... 0.60548394 0.60548394 0.98676971]\n",
      " ...\n",
      " [0.60548394 0.60548394 0.60548394 ... 1.         1.         0.72650414]\n",
      " [0.60548394 0.60548394 0.60548394 ... 1.         1.         0.72650414]\n",
      " [0.98676971 0.98676971 0.98676971 ... 0.72650414 0.72650414 1.        ]]\n"
     ]
    }
   ],
   "source": [
    "print(similarity)"
   ]
  },
  {
   "cell_type": "code",
   "execution_count": 26,
   "metadata": {},
   "outputs": [
    {
     "name": "stdout",
     "output_type": "stream",
     "text": [
      "['Plan de Educación Financiera', 'Programa Beps', 'Silverexpo. Feria de entretenimiento y bienestar para Personas Mayores', 'Adecuación de tierras', 'Fortalecimiento a la prestación del servicio público de extensión Agropecuaria', 'FORTALECIMIENTO DE LA GESTIÓN Y APROPIACIÓN DEL CONOCIMIENTO TÉCNICO DE  LOS PROCESOS PRODUCTIVOS AGROPECUARIOS Y RURALES, EN LOS  PRODUCTORES Y LAS A', 'FORTALECIMIENTO DE LA GESTIÓN Y APROPIACIÓN DEL CONOCIMIENTO TÉCNICO DE LOS PROCESOS PRODUCTIVOS AGROPECUARIOS Y RURALES', 'IMPLEMENTACIÓN DE ESTRATEGIAS DE FORTALECIMIENTO Y APOYO COMERCIAL PARA ORGANIZACIONES RURALES A NIVEL NACIONAL', 'Proyectos Integrales de Desarrollo Agropecuario y Rural (PIDAR)', 'Obras por Impuestos', 'Asistencias técnicas realizadas', 'Escuela Virtual de Seguridad Vial', 'ORIENTACIONES TÉCNICAS PARA LA ELABORACIÓN DE PLANES LOCALES DE SEGURIDAD VIAL', 'Red de Observatorios Territoriales de Seguridad Vial (ROT)', 'SEGUIMIENTO A LA IMPLEMENTACIÓN DE LA RUTA DE ATENCIÓN INTEGRAL A VICTIMAS Y PROTOCOLO PAS', 'Clarificación de la vigencia legal de los títulos de origen colonial o repúblicano de los resguardos indígenas', 'Delimitación R.Indígenas fines político-administrativos especiales', 'Servicio apoyo financiero iniciativas comunitarias CI y CN', 'Servicio de acompañamiento para la elaboración de planes de desarrollo sostenible', 'Servicio de adjudicación de baldíos', 'Servicio de adjudicación de bienes fiscales patrimoniales', 'Servicio de administración de tierras de la Nación', 'Servicio de administración sobre limitaciones a la propiedad', 'Servicio de adquisición de tierras y/o mejoras Comunidades Indígenas y Negras', 'Servicio de ampliación R. Indígenas', 'Servicio de ampliación y saneamiento de las tierras de las comunidades negras, afrocolombianas, raizales y palenqueras', 'Servicio de apoyo financiero para la adquisición de tierras', 'Servicio de asistencia jurídica y técnica para adelantar los procedimientos especiales agrarios', 'Servicio de caracterización de los territorios ocupados o poseídos ancestralmente Comunidades Indígenas', 'Servicio de delimitación del territorio Comunidades Indígenas y Negras', 'Servicio de formalización de la propiedad privada rural.', 'Servicio de protección y seguridad jurídica de las tierras y los territorios ocupados o poseídos ancestral y/o tradicionalmente por las comunidades ne', 'Servicio de saneamiento de resguardos Indígenas', 'Servicio de Titulación colectiva Comunidades Negras- Constitución Resguardos Indígenas', 'Convocatoria de investigaciones en temas de espectro', 'Beneficio de Capital Semilla para miembros activos y retirados de la Fuerza Pública', 'Beneficio de Estímulo Económico de Sometimiento del proceso de Atención Diferencial', 'Beneficios de Inserción Económica del proceso de Reintegración', 'Guía de Atención en Habitabilidad y Vivienda para Personas en Reincorporación', 'Información del proceso de Reintegración y Reincorporación', 'Personas en reincorporación que acceden a la oferta social en Educación', 'Personas en reintegración que acceden a la oferta social en Educación', 'Proyectos productivos colectivos e individuales del proceso de Reincorporación', 'Convocatoria Pública para Comisiones Mixtas de Cooperación', 'Mecanismo Tripartito GIZ/Unión Europea/APC - Colombia', 'Fomento a Proyectos e Iniciativas Productivas en Pequeña y Mediana Acuicultura, Acuicultura de Subsistencia, Pesca Artesanal y Actividades Conexas', 'Aula Virtual ANLA -Plataforma de Pedagogía Online', 'Centro de Monitoreo del Estado de Recursos Naturales - ANLA', 'METAREP', 'Sistema para la Transformación de la Conflictividad Socioecológica', 'Economía popular comunitaria', 'Jover Rural', 'Mujer Rural', 'Pequeño Productor', 'CONECTA DIGITAL', 'Línea de crédito Creo Economía Popular 2023', 'Calidad para la Reindustrialización - Asistencia técnica en calidad para mipymes (Extensionismo) - Formación en calidad para mipymes', 'Calidad para la Reindustrialización - Certificación', 'EnCadena, mejores proveedores', 'Fábricas de Productividad y Sostenibilidad', 'Territorios Clúster', 'Aula Virtual CRC', 'Sandbox Regulatorio de Comunicaciones', 'Mantenimiento del Canal Navegable del Río Grande de la Magdalena', 'Biblioteca Agropecuaria de Colombia - BAC', 'Linkata', 'Plataforma Siembra', 'SERVICIOS Y PRODUCTOS DE LABORATORIOS', 'Implementación de actividades de investigación y desarrollo, innovación y capacitación para la producción de información ambiental', 'Estrategia de Asesoría integral a las entidades públicas del orden nacional y territorial', 'PLATAFORMA OBSERVA', 'Censo Económico', 'Cuenta Satélite de Cultura y Economía Creativa', 'Encuesta de Micronegocios', 'Geoportal DANE', 'Información estadística de la temática de Sociedad', 'Información estadística de la temática económica', 'Sistema Estadístico Nacional-SEN', 'Análisis del papel del servicio de transporte público colectivo en relación con el concepto de equidad en las ciudades', 'Aproximación metodológica a la implementación de las fuentes de financiación para sistemas de transporte', 'Aproximación metodológica para la implementación del Derecho Real Accesorio de Superficie', 'Categorías de ruralidad', 'Comunidad Virtual de Vías Regionales', 'Diagnóstico energético y plan de acción en eficiencia energética a entidades públicas y regionales con medidas de baja inversión', 'Índice Departamental de Innovación para Colombia (IDIC)', 'Lineamientos básicos - Planes De Movilidad Sostenible conectividad, accesibilidad y desplazamiento presentes en los territorios', 'Mapainversiones', 'Metodología de Articulación para la Competitividad ArCo', 'Observatorio del Sistema de Ciudades', 'Observatorio Nacional de Logística, Transporte, Minas y Energía', 'Plan Maestro Fluvial', 'Plataforma CIEN', 'Portal INNOVAMOS', 'Proyecto tipo \"Construcción terminal fluvial\"', 'Proyecto Tipo Mejoramiento de vías terciarias - vías de tercer orden', 'Caja de Herramientas para intervenciones resilientes', 'Corredor de financiamiento climático', 'Curso Finanzas del Clima', 'Curso virtual sobre crecimiento verde', 'Índice Municipal de Riesgo de Desastres Ajustado por Capacidades', 'Índice Territorial de Crecimiento Verde (ITCV)', 'Prueba Emprende NS', 'Sistema MRV de Financiamiento Climático', 'IMPLEMENTACIÓN Y MASIFICACIÓN DE NUEVOS DOCUMENTOS ELECTRÓNICOS DEL SISTEMA DE FACTURACIÓN NACIONAL', 'Asistencia Técnica en Derecho de Autor y Derechos Conexos', 'Asuntos Jurisdiccionales', 'Campus Virtual', 'Centro de Conciliación y Arbitraje \"Fernando Hinestrosa\"', 'Registro Nacional del Derecho de Autor', 'Educación Financiera - Finagro Educa 2.0', 'Estrategia ASG FINAGRO', 'Línea Especial de Microcrédito Inclusión Financiera Economía Popular para el Sector Agropecuario – LEM EP', 'Líneas Especiales de Crédito 2024', 'Red de Marcos de Referencia Agroeconómicos', 'Sistema de Información Geográfica de Finagro -GeoAgro', 'Estructuración y ejecución de proyectos  para reducir la vulnerabilidad a los efectos del cambio climático.', 'Créditos con enfoque de género', 'Ella Exporta a África', 'Estrategia Mujer Emprende', 'Fondo de Fomento para las Mujeres Rurales FOMMUR', 'Fortalecimiento Grupos de Ahorro y Crédito Local', 'Mujer Autónoma', 'Mujeres en la Industria del Mantenimiento Automotriz', 'Proyectos de Educación con enfoque de género', 'Seguros paramétricos climáticos - Mujer Protegida', 'Garantía para Bonos Ordinarios en el Mercado de Valores Local', 'Producto Especial de garantía para Mujeres', 'Valor de créditos garantizados', 'Red Turística de Pueblos Patrimonio', 'Tarjeta Joven Colombia', 'Educación Financiera', 'Talleres de educación financiera', 'Becas en el Exterior para estudiantes y profesionales colombianos 2024-2', 'Becas en el exterior para estudiantes y profesionales Colombianos 2025-1', 'Crédito educativo a traves de la administración de recursos de terceros', 'Crédito educativo a través de la administración de recursos de terceros', 'creditos condonables para colombianos', 'Creditos lineas de credito ICETEX', 'Aldea Escala 4.0', 'Centros de Reindustralización ZASCA', 'CIRCULOS SOLIDARIOS', 'Comercializadoras Territoriales', 'Emprendetón', 'EnCadena', 'Fibras naturales para el sector moda', 'FortaleSER', 'Héroes Fest', 'MegaiNN Innovación Abierta', 'Minicadenas locales', 'Mujeres Más Productivas 2023- Fase 4 (establecimientos comerciales)', 'Núcleo E capítulo Fondo Mujer Emprende', 'Oportunidades  para Emprender', 'Premio al Buen Diseño', 'Programa de Fortalecimiento Productivo y Comercial a Pueblos Étnicos', 'Programa ECAS', 'Ruta ALDEA', 'Ventanilla Única Empresarial -  VUE', 'Colecciones biológicas 2025', 'Estudios técnicos para la gestión de la información y el conocimiento ambiental 2025', 'Servicio de información\\xa0para la gestión del conocimiento\\xa0ambiental\\xa02025', 'Servicio de modelamiento para la conservación de la biodiversidad 2025', 'Servicio de monitoreo de la biodiversidad y los Servicio ecosistémicos 2025', 'Servicio de protección del conocimiento tradicional 2025', 'Biblioteca', 'Educación continua', 'Educación formal', 'Museos', 'Sello Editorial', 'Admisibilidad sanitaria y fitosanitaria de los productos agropecuarios', 'SERVICIO DE ANALISIS Y DIAGNOSTICO SANITARIO FITOSANITARIO E INOCUIDAD', 'Servicio de control a la movilización de animales', 'Servicio de registro a laboratorios externos', 'Sistema de información sanitaria para importación y exportación de productos agrícolas y pecuarios - SISPAP', 'Estrategia de Alimentos de Alto Valor Nutricional', 'Acreditación de laboratorios del sector ambiental en Colombia', 'Levantamiento de la información ambiental y el seguimiento al estado de los recursos naturales que constituyen el patrimonio ambiental del país.', 'Convocatorias de Tesis y Pasantias', 'Curso OTGA (Ocean Teacher Academy Global)', 'Cursos REDCAM (Red de Vigilancia para la Conservación y Protección de las Aguas Marinas y Costeras de Colombia)', 'Sistema de Información Ambiental Marina  - SIAM', 'Servicios de asistencia técnica, para el fortalecimiento de capacidades organizativas de los prestadores y las comunidades.', 'Información geográfica para el Sistema de Administración del Territorio a Nivel Nacional', 'BioModelos', 'BioTablero', 'Colecciones Biológicas del Instituto Humboldt', 'Sistema de Información sobre Biodiversidad de Colombia - SiB Colombia', 'Laboratorio de Co-Creación para la Innovación INC', 'Asistencia Técnica Metrológica', 'Calibración y Medición Metrológica', 'Capacitaciones en Metrología', 'Ensayos de Aptitud', 'Materiales de Referencia Certificados', 'Informe de eventos en salud pública', 'PLATAFORMA COMERCIALIZACION EN LINEA', 'Publicación de información de interés en salud', 'ASISTENCIA TECNICA', 'Auditorias y Certificaciones', 'CAPACITACION', 'Expedición de registros sanitarios y tramites asociados', 'Producir material impreso en tinta macrotipo, Sistema Braille y en alto relieve, como apoyo a los procesos de atención y acceso a la información.', 'Servicio de Distribución de Productos Especializados para personas con discapacidad visual', 'OPA: Asistencia técnica sobre Población Sorda', 'formación y desarrollo de competencias laborales de los aspirantes y servidores públicos del INPEC y otras entidades  en el campo penitenciario', 'Fortalecimiento Del Proceso De Resocialización En Los Establecimientos de Reclusión a Nivel Nacional', 'Industria Penitenciaria En colombia', 'Modernización integral de las capacidades tecnológicas del INPEC a nivel nacional', 'Cátedra nacional, justicia transicional de la JEP aportes para la paz', 'Justamente - Aprendiendo sobre justicia y restauración', 'CE-FORTALECIMIENTO COOPERATIVO Y ASOCIATIVO DE LA ACFC, AUMENTO DE LA PRODUCTIVIDAD NACIONAL, TRANSFORMACIÓN PRODUCTIVA Y AGROINDUSTRIALIZACIÓN PARA', 'Estudios técnicos sobre la situación de las mujeres rurales en Colombia', 'Fondo de Fomento Agropecuario', 'Formulación de lineamientos de política pública e instrumentos que beneficien a las mujeres rurales', 'Asignación ambiental del 1% y 2o % del mayor recaudo', 'Fortalecimiento de acciones para la gestión integral del agua como base del ordenamiento territorial sostenible en La Mojana. Fase II', 'Política Hídrica Distrito Buenaventura', 'Proyecto Implementación Programa de Acciones Estratégicas para Asegurar la Gestión Integrada y Sostenible de Recurso Hídrico Transfronterizo Amazonas', 'Proyecto Piloto: Promoción de mecanismos de cooperación multimunicipal para la gestión y protección de aguas subterráneas. Putumayo', 'Proyecto. Fortalecimiento de capacidades en la democratización de la información hidrometeorológica en la ecorregión de La  Mojana', 'Proyecto: GEF Manejo integrado de la Cuenca del Río Putumayo-Içá', 'Proyecto: Gestión\\u202fintegral de la cuenca del río Atrato para la rehabilitación, restauración, remediación y gobernanza ambiental. Fase II', 'Proyecto: Manejo integrado de los recursos hídricos de las cuencas binacionales Mira, Mataje y Carchi-Guáitara, Colombia – Ecuador', 'Beneficios Tributarios por la Vinculación de Doctores a las empresas', 'CONVOCATORIA 948: CONVOCATORIA ORQUÍDEAS: MUJERES EN LA CIENCIA 2024', 'Convocatoria Fullbright (2024-2025)', 'Convocatoria Mision Soberanía Sanitaria y Bienestar Social - Territorios Garantes de la Salud', 'Convocatoria Misión Soberanía Sanitaria y Bienestar Social - Territorios Garantes de la Salud', 'Convocatoria orquídeas: Mujeres en la ciencia', 'Convocatoria para el registro de propuestas que accederán a la exención del IVA', 'Convocatoria para el registro de propuestas que accederán a los beneficios tributarios de Ingresos No Constitutivos de renta y/o Ganancia Ocasional', 'Convocatoria para el registro de proyectos que accederán a los beneficios tributarios por inversión en proyectos de ciencia, tecnología e innovación', 'Convocatoria Sácale Jugo a Tu Patente año 2024', 'Emprende con Ciencia', 'Formación para estudios de maestría y doctorado en el exterior Minciencias COLFUTURO', 'REGISTRO DE PROPUESTAS QUE ACCEDERÁN A LOS BENEFICIOS TRIBUTARIOS POR VINCULACIÓN DE PERSONAL CON TÍTULO DE DOCTORADO EN LAS EMPRESAS', 'Asesorías en la formulación de proyectos de infraestructura turística para las regiones', 'Asistencia Técnica en Calidad para MiPymes', 'Calidad Turística', 'Cofinanciación en Calidad para la Internacionalización', 'Colegio Amigos del Turismo - CAT', 'Estrategia de Turismo para un Cultura de Paz', 'Estrategía de Turismo Responsable', 'Gestión de destinos turísticos', 'Jornadas de Formalización Turística', 'Promoción de Encadenamientos Productivos a través del Desarrollo de Proveedores', 'Proyectos Turísticos Especiales - PTE', 'Ventanilla Única de Comercio Exterior VUCE', 'Ventanilla Unica de Inversión (VUI)', 'Diplomado de Gobernanza y Gestión Cultural', 'Formación en gestión cultural y áreas artísticas', 'Programa Nacional de Concertación Cultural', 'Programa Nacional de Escuelas Taller', 'Programa Nacional de Estímulos', 'Apoyo a la preparación y participación de atletas', 'ASISTENCIA TÉCNICA EN LA FORMULACIÓN Y ESTRUCTURACIÓN DE PROYECTOS DE INFRAESTRUCTURA DEPORTIVA Y RECREATIVA', 'CAPACITACION EN ADMINISTRACIÓN DEPORTIVA', 'Escuela de Talentos', 'Hábitos y Estilos de Vida Saludable', 'Jornada Deportiva Escolar Complementaria', 'Juegos Intercolegiados Nacionales', 'Juegos y Eventos de Deporte Social Comunitario', 'Juegos y Eventos Mindeporte', 'Licencia remunerada a atletas y personal de apoyo a atletas', 'Plan Nacional de Recreacion', 'Programa Apoyo al Atleta Excelencia', 'Programa Deportes +', 'Programa Glorias del Deporte', 'Programa Incentivo a medallas', 'Talentos Colombia', 'Gratuidad en la matrícula en las Instituciones de Educación Superior Públicas', 'Sistema Integrado de Información Financiera - SIIF', 'Acompañamiento para la territorialización de la Política de Drogas', 'Asistencia técnica para la resolución de conflictos comunitarios de los pueblos negros, afrocolombianos, raizales y palanqueros - NARP.', 'Asistencias técnicas en materia de promoción del acceso a la justicia', 'Banco de Iniciativas y Proyectos para el fortalecimiento de la Justicia propia de los pueblos indigenas de Colombia.', 'Boletín jurídico Ventana al Derecho', 'Campaña de Sensibilización y Concientización Ciudadana en materia de Política Criminal', 'Diplomado en Método de Resolución de Conflictos', 'Documentos de política pública en materia criminal y penitenciaria', 'Espacios de fortalecimiento del acceso a la justicia con enfoque diferencial - Socialización del protocolo de la Kriss Rromaní', 'Estrategia Articular + Prevenir = Futuro Seguro', 'Fortalecimiento de capacidades en consumo de Sustancias Psicoactivas -SPA', 'Fortalecimiento de Comisarías de Familia', 'Fortalecimiento de competencias para gestores de justicia local y actores del sistema.', 'Fortalecimiento de la conciliación en equidad', 'Fortalecimiento institucional y comunitario para el acceso a la justicia con enfoque de género y para las personas con discapacidad', 'Fortalecimiento institucional y comunitario para el acceso a la justicia con enfoque étnico', 'Herramienta para la valoración del riesgo y las necesidades de las personas en conflicto con la ley', 'Implementación de la Conciliación en Equidad a través del MICE (Marco para la Implementación de la Conciliación en Equidad)', 'Implementación de la Conciliación en Equidad a través del MICE (Marco para la Implementación de la Conciliación en Equidad).', 'Inspección, Control y Vigilancia a Centros de Conciliación, arbitraje y amigable.', 'Jornadas móviles de casas de Justicia y capacitación a servidores públicos', 'Jornadas Móviles gratuitas de Conciliación en Derecho', 'Justicia en territorio para la paz total', 'Mejoramiento de Acceso a la Justicia Local y Rural a Nivel Nacional', 'Normativa de carácter general y abstracto de alcance nacional (constituciones, actos legislativos, leyes y decretos) incorporadas al SUIN-Juriscol, co', 'Observatorio de Drogas de Colombia', 'Observatorio de Justicia Transicional de Colombia', 'Observatorio de Política Criminal', 'Políticas públicas en materia de simplificación, depuración y armonización del ordenamiento jurídico', 'Prevención del reclutamiento forzado, uso, utilización y violencia sexual en contra de niños, niñas y adolescentes', 'Programa Casa Libertad', 'Programa de formación sobre mujer rural', 'Programa de Justicia Juvenil Restaurativa-PJJR', 'Programa de justicia juvenil terapéutica', 'Red justas', 'Servicio de educación informal para el acceso a la justicia', 'Servicio de información \"Conexión Justicia\"', 'Servicio de información: \"LegalApp\"', 'Sistema de Alertas Tempranas SAT', 'Sistema Interinstitucional de Información de Justicia Transicional - SIIJT', 'Trámites de solicitud de expedición del Certificado de Carencia de Informes por Tráfico de Estupefacientes – CCITE ordinario y autorizaciones extraord', 'Trámites de solicitud de licenciamiento para cultivo de plantas de cannabis psicoactivo y no psicoactivo y semillas para siembra y grano', 'Transferencia de conocimiento en temas relacionados con métodos de resolución de conflictos.', 'Traslado de Personas Condenadas - Repatriación', 'Distritos Mineros Especiales para la Diversificación Productiva', 'Eficiencia energética en la pequeña y mediana minería.', 'Espacios de diálogo con mineros, autoridades locales y demás grupos interesados en territorio nacional para el fortalecimiento de la mineria artesanal', 'Infraestructura de Datos Sectorial \"INTÉGRAME\"', 'Participación en espacios de articulación en territorio para  la formalización minera de pequeña escala.', 'Plataforma de Integración de Datos Sectoriales - INTEGRAME', 'Red Nacional de Conocimiento para la Transición Energética Justa - RedTEJ', 'Sistema de Información de Combustibles - SICOM', 'SOLARIS: Transformando Experiencias Ciudadanas', 'RETORNO PRODUCTIVO', 'Convocatoria para la asignación de recursos de cofinanciación a proyectos orientados a la prevención y atención Integral al consumo de Sustancias Psic', 'Ciber Paz – Formaciones', 'Ciber Paz – Sensibilizaciones', 'CIBER PAZ INCLUSIÓN SOCIAL – SMART FILMS (SMART TIC INCLUYENTE Y REDVOLUCIONARIAS TIC)', 'CIBERPAZ EXPRESIÓN – LEGADO DE GABO', 'CIBERPAZ INCLUSIÓN SOCIAL - CENTRO DE RELEVO', 'CIBERPAZ INCLUSIÓN SOCIAL - CONVERTIC', 'Colombia Programa', 'PotencIA - Ecosistemas de Innovación Digital', 'SENATIC', 'Talento Tech', 'Tu Negocio En Linea', 'Asesoría y capacitación:Plan Vial; inventario vial; categorización vial; presentación proyectos al SGR, FSSG, OxI; movilidad urbana sost, segur y salu', 'Peajes electronicos', 'Programa de Modernización de Vehiculos de Carga', 'Registro Unico Nacional de Transito', 'SiNITT(Sistema Inteligente Nacional para la Infraestructura, el Tránsito y el Transporte', 'Sistemas Inteligentes de Transporte (ITS)', 'Sistemas Inteligentes de Transporte Colombia (ITS)', 'Generación de ingresos para Sujetos de Reparación Colectiva - víctimas del conflicto armado', 'Generación de ingresos Rural, Urbano y Semiurbano', 'Metodología de Identificación y Medición de Brechas de Capital Humano (IMBCH)', 'Infraestructura ecoturística construida', 'Infraestructura ecoturística mejorada', 'Servicio de ecoturismo en las áreas protegidas', 'POSITIVA EDUCA - Plan Nacional de Educación en Seguridad y Salud en el Trabajo', 'Programa de Educación Financiera Positiva', 'Observatorio Nacional de Discapacidad e Inclusión social y productiva', 'Buscador de Oportunidades Herramienta virtual para identificar oportunidades de inversión en Colombia - Invest in Colombia', 'Adecuación y asesoría para empresas colombianas del sector turismo', 'Capacitación a personas y empresas colombianas de Bienes y servicios - Programa de Formación Exportadora de bienes y servicios', 'Capacitación a personas y empresas colombianas del sector turismo - Programa de Formación Exportadora de Turismo', 'Colombia Investment Summit  - Macrorrueda Inversión Extranjera Directa', 'Fábricas de Internacionalización', 'Herramienta virtual para conocer la oferta turística colombiana - Colombia.Travel', 'Herramientas digitales y virtuales para la internacionalización', 'Kit de Servicios para inversionistas extranjeros nuevos e instalados.', 'ProColombia Pitch Session para fondos de capital extranjeros en busca de proyectos colombianos listos para recibir inversión extranjera directa.', 'Promoción de las exportaciones y actividades comerciales para la generación de oportunidades y negocios', 'Promoción del turismo internacional y actividades comerciales para la generación de oportunidades', 'Certificado de Inversión Audiovisual - CINA 2024', 'Contraprestación Fondo Fílmico Colombia 2024', 'Convocatoria del Fondo para el Desarrollo Cinematográfico 2024', 'AMPLIACIÓN DE LA INFORMACIÓN GEOCIENTÍFICA EN CUENCAS SEDIMENTARIAS DE LOS RECURSOS ENERGÉTICOS NECESARIOS PARA LA TRANSICIÓN ENERGÉTICA', 'AMPLIACIÓN DEL CONOCIMIENTO DE LOS RECURSOS MINERALES, SU POTENCIAL E INTERACCIÓN CON EL MEDIO AMBIENTE Y LA SALUD HUMANA EN EL TERRITORIO COLOMBIANO', 'Fortalecimiento de la capacidad de acceso del sector minero energetico a los productos y servicios del Banco de Informacion Petrolera - BIP Nacional', 'FORTALECIMIENTO DE LA INVESTIGACIÓN Y CARACTERIZACIÓN GEOCIENTÍFICA CON ENFOQUE EN EL APROVECHAMIENTO RESPONSABLE DEL SUELO, SUBSUELO Y AGUA', 'Fortalecimiento del conocimiento geocientífico a escalas menores de 1:100.000 en el territorio colombiano', 'FORTALECIMIENTO EN LA APLICACIÓN DE LAS TÉCNICAS NUCLEARES, RADIACTIVAS, ISOTÓPICAS Y GEOCRONOLÓGICAS EN EL TERRITORIO NACIONAL', 'Investigación sobre amenazas y riesgos geológicos para Colombia', 'Modernización De Los Servicios De Museo Geológico E Investigaciones Asociadas A Nivel Nacional', 'Emprendimiento- SENA', 'Extensionismo Tecnológico SENA', 'Fomento de Innovación y Desarrollo Tecnológico en las Empresas', 'Fondo Emprender', 'Programa de Formación Continua Especializada (PFCE)', 'Programa de Formación Especializada para la Economía Campesina (FEEC)', 'Red Tecnoparque Colombia', 'Servicios Tecnológicos', 'Arrendamiento sociales de activos', 'Arrendamientos comerciales de activos', 'Comercialización de activos', 'Comodato', 'Depósito provisional popular', 'Destinación definitiva de activos para el fomento de las economías populares', 'Destinación provisional de activos para el fomento de las economías populares', 'Gerencia popular', 'Programa Centros de Apoyo a la Tecnología y la Innovación - CATI', 'Algoritmo para el análisis de la información reportada', 'Sistema de seguimiento presupuestal - SEPRE', 'VISOR GEOGRÁFICO DE INFRAESTRUCTURA NO CONCESIONADA MARÍTIMA Y FLUVIAL', 'Promoción de empresas en reactivación económica', 'innovaSFC', 'Supervisión y Educación Financiera', 'Atención al vigilado a través de inteligencia artificial utilizando un CHATBOT', 'Fortalecimiento de Políticas, Metodologías e Instrumentos de IVC en el Sector Salud', 'Orientación técnica en el manejo y aplicación de herramientas e instrumentos de inspección y vigilancia.', 'Orientación y atención al usuario de salud de manera presencial en el Territorio Nacional', 'Promoción de los derechos y deberes en salud, y de la participación ciudadana en control social.', 'MI MERCADO POPULAR', 'Comunidad Jurídica del Conocimiento', 'eKOGUI', 'PROGRAMA DE PROYECTOS PRODUCTIVOS - URT', 'SECTOR AEREO INNOVADOR', 'FOMENTO DE ORGANIZACIONES DE ASOCATIVIDAD SOLIDARIA', 'PROGRAMA DE ASOCIATIVIDAD SOLIDARIA - PASO', 'Sistema de Información del Servicio Público de Empleo', 'CÁTEDRA UBPD-UNAL \"La desaparición y búsqueda de personas en el contexto y en razón del conflicto armado en Colombia\" (2024-I)', 'Programa de Entrenamiento Multidimensional - PEM / Capacitación para el Sistema Nacional ALA/CFT', 'Sistema de Reporte en Línea - SIREL', 'De la UPME al TERRITORIO', 'MISION TRANSMISION', 'SISTEMA DE INFORMACIÓN MINERO COLOMBIANO', 'SIEL', 'Fortalecimiento Estratégico a Emprendimientos de Víctimas']\n"
     ]
    }
   ],
   "source": [
    "# creating a list with all the movie names given in the dataset\n",
    "\n",
    "list_of_all_titles = data_arco['Nombre del Instrumento'].tolist()\n",
    "print(list_of_all_titles)"
   ]
  },
  {
   "cell_type": "code",
   "execution_count": 49,
   "metadata": {},
   "outputs": [],
   "source": [
    "# getting the movie name from the user\n",
    "instrument_name = input(' Introducir el nombre del instrumento : ')\n",
    "#instrument_name = 'Información estadística de la temática económica'\n"
   ]
  },
  {
   "cell_type": "code",
   "execution_count": 50,
   "metadata": {},
   "outputs": [
    {
     "name": "stdout",
     "output_type": "stream",
     "text": [
      "['Emprendetón', 'Fondo Emprender']\n"
     ]
    }
   ],
   "source": [
    "# finding the close match for the instrument name given by the user\n",
    "find_close_match = difflib.get_close_matches(instrument_name, list_of_all_titles)\n",
    "print(find_close_match)"
   ]
  },
  {
   "cell_type": "code",
   "execution_count": 51,
   "metadata": {},
   "outputs": [],
   "source": [
    "from difflib import SequenceMatcher\n",
    "\n",
    "def calculate_similarity(a, b):\n",
    "    return SequenceMatcher(None, a, b).ratio()\n",
    "\n",
    "# Ordenar los instrumentos según similitud con el nombre escogido\n",
    "instrumentos_similares = sorted(\n",
    "    list_of_all_titles,\n",
    "    key=lambda x: calculate_similarity(instrument_name, x),\n",
    "    reverse=True\n",
    ")[:5]\n"
   ]
  },
  {
   "cell_type": "code",
   "execution_count": 52,
   "metadata": {},
   "outputs": [
    {
     "name": "stdout",
     "output_type": "stream",
     "text": [
      "['Emprendetón', 'Fondo Emprender', 'Emprende con Ciencia', 'Emprendimiento- SENA', 'Prueba Emprende NS']\n"
     ]
    }
   ],
   "source": [
    "print(instrumentos_similares)"
   ]
  }
 ],
 "metadata": {
  "kernelspec": {
   "display_name": "base",
   "language": "python",
   "name": "python3"
  },
  "language_info": {
   "codemirror_mode": {
    "name": "ipython",
    "version": 3
   },
   "file_extension": ".py",
   "mimetype": "text/x-python",
   "name": "python",
   "nbconvert_exporter": "python",
   "pygments_lexer": "ipython3",
   "version": "3.11.4"
  }
 },
 "nbformat": 4,
 "nbformat_minor": 2
}

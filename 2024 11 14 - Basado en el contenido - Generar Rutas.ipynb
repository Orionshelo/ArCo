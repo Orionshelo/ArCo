{
 "cells": [
  {
   "cell_type": "markdown",
   "metadata": {},
   "source": [
    "## Análisis para Generar Rutas"
   ]
  },
  {
   "cell_type": "markdown",
   "metadata": {},
   "source": [
    "### Preprocesamiento"
   ]
  },
  {
   "cell_type": "code",
   "execution_count": 3,
   "metadata": {},
   "outputs": [],
   "source": [
    "import pandas as pd\n",
    "from sklearn.metrics.pairwise import cosine_similarity\n",
    "#import numpy as np\n",
    "import difflib\n",
    "from sklearn.feature_extraction.text import TfidfVectorizer\n",
    "\n",
    "\n",
    "###### ArCo ARMADO DE LA BASE#######\n",
    "import os\n",
    "from typing import List\n",
    "from datetime import datetime\n",
    "\n",
    "# Establecer el directorio de trabajo - DNP\n",
    "os.chdir(\"C:/Users/supegui/Documents/Metodología ArCo/Python/Excel\")\n",
    "\n",
    "# Establecer el directorio de trabajo - Remoto\n",
    "#os.chdir(\"C:/Backup - Archivos de trabajo/DNP/Automatización ArCo/Excel\")\n",
    "\n",
    "\n",
    "# Saca la lista de archivos del directorio de trabajo\n",
    "#os.listdir()\n",
    "# Obtener la fecha actual\n",
    "fecha_actual = datetime.now().strftime(\"%Y %m %d\")\n",
    "#print(fecha_actual)\n",
    "\n",
    "# Construir el nombre del archivo basado en la fecha actual\n",
    "#nombre_archivo = f\"{fecha_actual} Informe ArCo.xlsx\"\n",
    "\n",
    "# Construir el nombre del archivo cuando la fecha no es la actual. Aquí solo se modifica la fecha. ArCo Nal\n",
    "#nombre_archivo = \"2024 11 01 - Base Original Desc Completa.xlsx\"\n",
    "\n",
    "# Construir el nombre del archivo cuando la fecha no es la actual. Aquí solo se modifica la fecha. ArCo Regional\n",
    "nombre_archivo = \"2024 11 07 - Base ArCo Regional Original.xlsx\"\n",
    "\n",
    "data_arco = pd.read_excel(nombre_archivo)"
   ]
  },
  {
   "cell_type": "code",
   "execution_count": 4,
   "metadata": {},
   "outputs": [
    {
     "data": {
      "text/html": [
       "<div>\n",
       "<style scoped>\n",
       "    .dataframe tbody tr th:only-of-type {\n",
       "        vertical-align: middle;\n",
       "    }\n",
       "\n",
       "    .dataframe tbody tr th {\n",
       "        vertical-align: top;\n",
       "    }\n",
       "\n",
       "    .dataframe thead th {\n",
       "        text-align: right;\n",
       "    }\n",
       "</style>\n",
       "<table border=\"1\" class=\"dataframe\">\n",
       "  <thead>\n",
       "    <tr style=\"text-align: right;\">\n",
       "      <th></th>\n",
       "      <th>Código</th>\n",
       "      <th>Sector</th>\n",
       "      <th>Entidad</th>\n",
       "      <th>Nombre del Instrumento</th>\n",
       "      <th>Descripción</th>\n",
       "      <th>Página Web</th>\n",
       "      <th>Años Existencia_x</th>\n",
       "      <th>Iteración</th>\n",
       "      <th>Emprendedores</th>\n",
       "      <th>Microempresa</th>\n",
       "      <th>...</th>\n",
       "      <th>Educación económica y financiera</th>\n",
       "      <th>Competencias Digitales</th>\n",
       "      <th>Si el instrumento es de propiedad intelectual por favor marque aquí!</th>\n",
       "      <th>¿Qué tipos de derechos de propiedad intelectual contempla?</th>\n",
       "      <th>Recursos fuente PGN</th>\n",
       "      <th>Recursos fuente SGR</th>\n",
       "      <th>Recursos fuente Cooperacion</th>\n",
       "      <th>Recursos fuente Esfuerzo Fiscal</th>\n",
       "      <th>Recursos fuente Parafiscales</th>\n",
       "      <th>Recursos fuente Otro</th>\n",
       "    </tr>\n",
       "  </thead>\n",
       "  <tbody>\n",
       "    <tr>\n",
       "      <th>0</th>\n",
       "      <td>3261</td>\n",
       "      <td>Comercio</td>\n",
       "      <td>COLOMBIA PRODUCTIVA</td>\n",
       "      <td>Fábricas de Productividad y Sostenibilidad - H...</td>\n",
       "      <td>Fábricas de Productividad y Sostenibilidad es ...</td>\n",
       "      <td>https://www.fabricasdeproductividadysostenibil...</td>\n",
       "      <td>5</td>\n",
       "      <td>NaN</td>\n",
       "      <td>No</td>\n",
       "      <td>Si</td>\n",
       "      <td>...</td>\n",
       "      <td>No</td>\n",
       "      <td>No</td>\n",
       "      <td>NaN</td>\n",
       "      <td>No</td>\n",
       "      <td>0</td>\n",
       "      <td>0</td>\n",
       "      <td>0</td>\n",
       "      <td>0</td>\n",
       "      <td>0</td>\n",
       "      <td>0</td>\n",
       "    </tr>\n",
       "    <tr>\n",
       "      <th>1</th>\n",
       "      <td>3304</td>\n",
       "      <td>NaN</td>\n",
       "      <td>Politécnico Grancolombiano</td>\n",
       "      <td>Cursos virtuales de Emprendimiento</td>\n",
       "      <td>El Politécnico Grancolombiano, institución líd...</td>\n",
       "      <td>https://www.poli.edu.co/noticias/cursos-moocs-...</td>\n",
       "      <td>3</td>\n",
       "      <td>NaN</td>\n",
       "      <td>Si</td>\n",
       "      <td>No</td>\n",
       "      <td>...</td>\n",
       "      <td>Si</td>\n",
       "      <td>Si</td>\n",
       "      <td>NaN</td>\n",
       "      <td>No</td>\n",
       "      <td>0</td>\n",
       "      <td>0</td>\n",
       "      <td>0</td>\n",
       "      <td>0</td>\n",
       "      <td>0</td>\n",
       "      <td>0</td>\n",
       "    </tr>\n",
       "    <tr>\n",
       "      <th>2</th>\n",
       "      <td>3308</td>\n",
       "      <td>NaN</td>\n",
       "      <td>Camacol Huila</td>\n",
       "      <td>Expovivienda</td>\n",
       "      <td>Es la mejor feria de la construcción de Vivien...</td>\n",
       "      <td>https://www.camacolhuila.com/eventos/ferias/</td>\n",
       "      <td>10</td>\n",
       "      <td>NaN</td>\n",
       "      <td>Si</td>\n",
       "      <td>No</td>\n",
       "      <td>...</td>\n",
       "      <td>No</td>\n",
       "      <td>No</td>\n",
       "      <td>NaN</td>\n",
       "      <td>No</td>\n",
       "      <td>0</td>\n",
       "      <td>0</td>\n",
       "      <td>0</td>\n",
       "      <td>0</td>\n",
       "      <td>0</td>\n",
       "      <td>0</td>\n",
       "    </tr>\n",
       "    <tr>\n",
       "      <th>3</th>\n",
       "      <td>3321</td>\n",
       "      <td>Comercio</td>\n",
       "      <td>INNPULSA COLOMBIA</td>\n",
       "      <td>CEmprende</td>\n",
       "      <td>Conforme a la visión de cambio del Gobierno Na...</td>\n",
       "      <td>https://www.innpulsacolombia.com/cemprende/</td>\n",
       "      <td>3</td>\n",
       "      <td>NaN</td>\n",
       "      <td>No</td>\n",
       "      <td>Si</td>\n",
       "      <td>...</td>\n",
       "      <td>No</td>\n",
       "      <td>No</td>\n",
       "      <td>NaN</td>\n",
       "      <td>No</td>\n",
       "      <td>0</td>\n",
       "      <td>0</td>\n",
       "      <td>0</td>\n",
       "      <td>0</td>\n",
       "      <td>0</td>\n",
       "      <td>0</td>\n",
       "    </tr>\n",
       "    <tr>\n",
       "      <th>4</th>\n",
       "      <td>3403</td>\n",
       "      <td>NaN</td>\n",
       "      <td>Alcaldía Municipal de La Plata Huila</td>\n",
       "      <td>VERSIÓN 184 DE LA FERIA GANADERA, MERCADO GANA...</td>\n",
       "      <td>Realizar de la VERSIÓN 184 DE LA FERIA GANADER...</td>\n",
       "      <td>http://www.laplata-huila.gov.co/</td>\n",
       "      <td>50</td>\n",
       "      <td>Primera Iteración 2023 Regional - Junio 2023</td>\n",
       "      <td>No</td>\n",
       "      <td>Si</td>\n",
       "      <td>...</td>\n",
       "      <td>No</td>\n",
       "      <td>No</td>\n",
       "      <td>NaN</td>\n",
       "      <td>No</td>\n",
       "      <td>0</td>\n",
       "      <td>0</td>\n",
       "      <td>200000000</td>\n",
       "      <td>0</td>\n",
       "      <td>0</td>\n",
       "      <td>0</td>\n",
       "    </tr>\n",
       "  </tbody>\n",
       "</table>\n",
       "<p>5 rows × 63 columns</p>\n",
       "</div>"
      ],
      "text/plain": [
       "   Código    Sector                               Entidad  \\\n",
       "0    3261  Comercio                   COLOMBIA PRODUCTIVA   \n",
       "1    3304       NaN            Politécnico Grancolombiano   \n",
       "2    3308       NaN                         Camacol Huila   \n",
       "3    3321  Comercio                     INNPULSA COLOMBIA   \n",
       "4    3403       NaN  Alcaldía Municipal de La Plata Huila   \n",
       "\n",
       "                              Nombre del Instrumento  \\\n",
       "0  Fábricas de Productividad y Sostenibilidad - H...   \n",
       "1                 Cursos virtuales de Emprendimiento   \n",
       "2                                       Expovivienda   \n",
       "3                                          CEmprende   \n",
       "4  VERSIÓN 184 DE LA FERIA GANADERA, MERCADO GANA...   \n",
       "\n",
       "                                         Descripción  \\\n",
       "0  Fábricas de Productividad y Sostenibilidad es ...   \n",
       "1  El Politécnico Grancolombiano, institución líd...   \n",
       "2  Es la mejor feria de la construcción de Vivien...   \n",
       "3  Conforme a la visión de cambio del Gobierno Na...   \n",
       "4  Realizar de la VERSIÓN 184 DE LA FERIA GANADER...   \n",
       "\n",
       "                                          Página Web  Años Existencia_x  \\\n",
       "0  https://www.fabricasdeproductividadysostenibil...                  5   \n",
       "1  https://www.poli.edu.co/noticias/cursos-moocs-...                  3   \n",
       "2       https://www.camacolhuila.com/eventos/ferias/                 10   \n",
       "3        https://www.innpulsacolombia.com/cemprende/                  3   \n",
       "4                   http://www.laplata-huila.gov.co/                 50   \n",
       "\n",
       "                                      Iteración Emprendedores Microempresa  \\\n",
       "0                                           NaN            No           Si   \n",
       "1                                           NaN            Si           No   \n",
       "2                                           NaN            Si           No   \n",
       "3                                           NaN            No           Si   \n",
       "4  Primera Iteración 2023 Regional - Junio 2023            No           Si   \n",
       "\n",
       "   ... Educación económica y financiera Competencias Digitales  \\\n",
       "0  ...                               No                     No   \n",
       "1  ...                               Si                     Si   \n",
       "2  ...                               No                     No   \n",
       "3  ...                               No                     No   \n",
       "4  ...                               No                     No   \n",
       "\n",
       "  Si el instrumento es de propiedad intelectual por favor marque aquí!  \\\n",
       "0                                                NaN                     \n",
       "1                                                NaN                     \n",
       "2                                                NaN                     \n",
       "3                                                NaN                     \n",
       "4                                                NaN                     \n",
       "\n",
       "  ¿Qué tipos de derechos de propiedad intelectual contempla?  \\\n",
       "0                                                 No           \n",
       "1                                                 No           \n",
       "2                                                 No           \n",
       "3                                                 No           \n",
       "4                                                 No           \n",
       "\n",
       "  Recursos fuente PGN Recursos fuente SGR Recursos fuente Cooperacion  \\\n",
       "0                   0                   0                           0   \n",
       "1                   0                   0                           0   \n",
       "2                   0                   0                           0   \n",
       "3                   0                   0                           0   \n",
       "4                   0                   0                   200000000   \n",
       "\n",
       "  Recursos fuente Esfuerzo Fiscal Recursos fuente Parafiscales  \\\n",
       "0                               0                            0   \n",
       "1                               0                            0   \n",
       "2                               0                            0   \n",
       "3                               0                            0   \n",
       "4                               0                            0   \n",
       "\n",
       "  Recursos fuente Otro  \n",
       "0                    0  \n",
       "1                    0  \n",
       "2                    0  \n",
       "3                    0  \n",
       "4                    0  \n",
       "\n",
       "[5 rows x 63 columns]"
      ]
     },
     "execution_count": 4,
     "metadata": {},
     "output_type": "execute_result"
    }
   ],
   "source": [
    "data_arco.head()"
   ]
  },
  {
   "cell_type": "code",
   "execution_count": 5,
   "metadata": {},
   "outputs": [
    {
     "name": "stdout",
     "output_type": "stream",
     "text": [
      "<class 'pandas.core.frame.DataFrame'>\n",
      "RangeIndex: 13 entries, 0 to 12\n",
      "Data columns (total 63 columns):\n",
      " #   Column                                                                Non-Null Count  Dtype  \n",
      "---  ------                                                                --------------  -----  \n",
      " 0   Código                                                                13 non-null     int64  \n",
      " 1   Sector                                                                2 non-null      object \n",
      " 2   Entidad                                                               13 non-null     object \n",
      " 3   Nombre del Instrumento                                                13 non-null     object \n",
      " 4   Descripción                                                           13 non-null     object \n",
      " 5   Página Web                                                            13 non-null     object \n",
      " 6   Años Existencia_x                                                     13 non-null     int64  \n",
      " 7   Iteración                                                             9 non-null      object \n",
      " 8   Emprendedores                                                         13 non-null     object \n",
      " 9   Microempresa                                                          13 non-null     object \n",
      " 10  Pequeña Empresa                                                       13 non-null     object \n",
      " 11  Mediana Empresa                                                       13 non-null     object \n",
      " 12  Gobierno                                                              13 non-null     object \n",
      " 13  Academia                                                              13 non-null     object \n",
      " 14  Personas naturales                                                    13 non-null     object \n",
      " 15  Formación de Talento Humano                                           13 non-null     object \n",
      " 16  Tipo de Sistemas de Información                                       13 non-null     object \n",
      " 17  Asistencia técnica y Consultoría                                      13 non-null     object \n",
      " 18  Tipo de Redes de Colaboración                                         13 non-null     object \n",
      " 19  Apoyo Financiero                                                      13 non-null     object \n",
      " 20  Incentivos Tributarios                                                13 non-null     object \n",
      " 21  Eventos                                                               13 non-null     object \n",
      " 22  Compra Pública                                                        13 non-null     object \n",
      " 23  Bonos o Vouchers                                                      13 non-null     object \n",
      " 24  Premios y Reconocimientos                                             13 non-null     object \n",
      " 25  Instrumentos Regulatorios                                             13 non-null     object \n",
      " 26  Tipo de instrumento                                                   13 non-null     object \n",
      " 27  Alcance                                                               13 non-null     object \n",
      " 28  Convocatoria                                                          13 non-null     object \n",
      " 29  Canal de Acceso                                                       13 non-null     object \n",
      " 30  Temporalidad                                                          13 non-null     object \n",
      " 31  Ejecución_x                                                           13 non-null     object \n",
      " 32  ¿El instrumento cuenta con enfoque de género?                         13 non-null     object \n",
      " 33  Fecha de Apertura                                                     8 non-null      object \n",
      " 34  Fecha de Cierre                                                       10 non-null     object \n",
      " 35  Cobertura                                                             13 non-null     object \n",
      " 36  Departamentos                                                         2 non-null      object \n",
      " 37  Municipios                                                            1 non-null      object \n",
      " 38  Innovación                                                            13 non-null     object \n",
      " 39  Emprendimiento                                                        13 non-null     object \n",
      " 40  Economía Popular                                                      13 non-null     object \n",
      " 41  Transferencia de Conocimiento y Tecnología                            13 non-null     object \n",
      " 42  Investigación                                                         13 non-null     object \n",
      " 43  Formación de Capital Humano                                           13 non-null     object \n",
      " 44  Propiedad intelectual                                                 13 non-null     object \n",
      " 45  Calidad                                                               13 non-null     object \n",
      " 46  Clúster o encadenamientos                                             13 non-null     object \n",
      " 47  Financiación                                                          13 non-null     object \n",
      " 48  Comercialización                                                      13 non-null     object \n",
      " 49  Formalización                                                         13 non-null     object \n",
      " 50  Crecimiento Sostenible                                                13 non-null     object \n",
      " 51  Inclusión Financiera                                                  13 non-null     object \n",
      " 52  Comercio Electrónico                                                  13 non-null     object \n",
      " 53  Educación económica y financiera                                      13 non-null     object \n",
      " 54  Competencias Digitales                                                13 non-null     object \n",
      " 55  Si el instrumento es de propiedad intelectual por favor marque aquí!  0 non-null      float64\n",
      " 56  ¿Qué tipos de derechos de propiedad intelectual contempla?            13 non-null     object \n",
      " 57  Recursos fuente PGN                                                   13 non-null     int64  \n",
      " 58  Recursos fuente SGR                                                   13 non-null     int64  \n",
      " 59  Recursos fuente Cooperacion                                           13 non-null     int64  \n",
      " 60  Recursos fuente Esfuerzo Fiscal                                       13 non-null     int64  \n",
      " 61  Recursos fuente Parafiscales                                          13 non-null     int64  \n",
      " 62  Recursos fuente Otro                                                  13 non-null     int64  \n",
      "dtypes: float64(1), int64(8), object(54)\n",
      "memory usage: 6.5+ KB\n"
     ]
    }
   ],
   "source": [
    "# Get data information\n",
    "data_arco.info()"
   ]
  },
  {
   "cell_type": "code",
   "execution_count": 33,
   "metadata": {},
   "outputs": [
    {
     "name": "stdout",
     "output_type": "stream",
     "text": [
      "['Emprendedores', 'Microempresa', 'Pequeña Empresa', 'Mediana Empresa', 'Gobierno ', 'Academia', 'Personas naturales']\n"
     ]
    },
    {
     "data": {
      "text/plain": [
       "\"\\n# Selecting the relevant features for recommendation\\nselected_features = [\\n                 #'Emprendedores',\\n                 'Mipymes',\\n                 'Grandes empresas',\\n                 #'Gobierno ',\\n                 #'Academia',\\n                 #'Entidades de soporte',\\n                 #'Personas naturales'\\n                 ]\\nprint(selected_features)\\n\""
      ]
     },
     "execution_count": 33,
     "metadata": {},
     "output_type": "execute_result"
    }
   ],
   "source": [
    "# Selecting the relevant features for recommendation - Usuarios completos\n",
    "selected_features = ['Emprendedores',\n",
    "                 'Microempresa',\n",
    "                 'Pequeña Empresa',\n",
    "                 'Mediana Empresa',   \n",
    "                 #'Mipymes',\n",
    "                 #'Grandes empresas',\n",
    "                 'Gobierno ',\n",
    "                 'Academia',\n",
    "                 #'Entidades de soporte',\n",
    "                 'Personas naturales',\n",
    "                 ]\n",
    "\n",
    "print(selected_features)\n",
    "\n",
    "\"\"\"\n",
    "# Selecting the relevant features for recommendation\n",
    "selected_features = [\n",
    "                 #'Emprendedores',\n",
    "                 'Mipymes',\n",
    "                 'Grandes empresas',\n",
    "                 #'Gobierno ',\n",
    "                 #'Academia',\n",
    "                 #'Entidades de soporte',\n",
    "                 #'Personas naturales'\n",
    "                 ]\n",
    "print(selected_features)\n",
    "\"\"\""
   ]
  },
  {
   "cell_type": "code",
   "execution_count": 34,
   "metadata": {},
   "outputs": [],
   "source": [
    "# Replacing the null valuess with null string\n",
    "for feature in selected_features:\n",
    "    data_arco[feature] = data_arco[feature].fillna('')"
   ]
  },
  {
   "cell_type": "code",
   "execution_count": 35,
   "metadata": {},
   "outputs": [
    {
     "data": {
      "text/plain": [
       "0     No Si Si Si Si Si No\n",
       "1     Si No No No No No Si\n",
       "2     Si No No No No No Si\n",
       "3     No Si Si Si Si Si Si\n",
       "4     No Si Si Si Si Si Si\n",
       "5     No Si Si Si Si Si Si\n",
       "6     Si No No No No No Si\n",
       "7     Si Si Si Si Si Si Si\n",
       "8     No No No No No No Si\n",
       "9     No Si Si Si Si Si Si\n",
       "10    Si No No No Si No Si\n",
       "11    No Si Si Si Si Si No\n",
       "12    Si Si Si Si Si Si Si\n",
       "dtype: object"
      ]
     },
     "execution_count": 35,
     "metadata": {},
     "output_type": "execute_result"
    }
   ],
   "source": [
    "# combining all the 5 selected features - Con todos los tipos de usuarios\n",
    "combined_features = data_arco['Emprendedores'] + ' ' + data_arco['Microempresa'] + ' ' + data_arco['Pequeña Empresa'] + ' ' + data_arco['Mediana Empresa'] + ' ' + data_arco['Gobierno '] + ' ' + data_arco['Academia'] + ' ' + data_arco['Personas naturales'] \n",
    "\n",
    "combined_features\n",
    "\n"
   ]
  },
  {
   "cell_type": "markdown",
   "metadata": {},
   "source": [
    "### Construyendo el sistema de recomendación con el nombre del instrumento"
   ]
  },
  {
   "cell_type": "code",
   "execution_count": 36,
   "metadata": {},
   "outputs": [],
   "source": [
    "# converting the text data to feature vectors\n",
    "vectorizer = TfidfVectorizer()\n",
    "\n",
    "feature_vectors = vectorizer.fit_transform(combined_features)"
   ]
  },
  {
   "cell_type": "code",
   "execution_count": 37,
   "metadata": {},
   "outputs": [
    {
     "name": "stdout",
     "output_type": "stream",
     "text": [
      "  (np.int32(0), np.int32(0))\t0.4191493477680171\n",
      "  (np.int32(0), np.int32(1))\t0.907917300344941\n",
      "  (np.int32(1), np.int32(0))\t0.944862941904726\n",
      "  (np.int32(1), np.int32(1))\t0.3274660608599715\n",
      "  (np.int32(2), np.int32(0))\t0.944862941904726\n",
      "  (np.int32(2), np.int32(1))\t0.3274660608599715\n",
      "  (np.int32(3), np.int32(0))\t0.18889545655167372\n",
      "  (np.int32(3), np.int32(1))\t0.9819972028952703\n",
      "  (np.int32(4), np.int32(0))\t0.18889545655167372\n",
      "  (np.int32(4), np.int32(1))\t0.9819972028952703\n",
      "  (np.int32(5), np.int32(0))\t0.18889545655167372\n",
      "  (np.int32(5), np.int32(1))\t0.9819972028952703\n",
      "  (np.int32(6), np.int32(0))\t0.944862941904726\n",
      "  (np.int32(6), np.int32(1))\t0.3274660608599715\n",
      "  (np.int32(7), np.int32(1))\t1.0\n",
      "  (np.int32(8), np.int32(0))\t0.9897336933595042\n",
      "  (np.int32(8), np.int32(1))\t0.14292381267288798\n",
      "  (np.int32(9), np.int32(0))\t0.18889545655167372\n",
      "  (np.int32(9), np.int32(1))\t0.9819972028952703\n",
      "  (np.int32(10), np.int32(0))\t0.8385093221282828\n",
      "  (np.int32(10), np.int32(1))\t0.5448872513685448\n",
      "  (np.int32(11), np.int32(0))\t0.4191493477680171\n",
      "  (np.int32(11), np.int32(1))\t0.907917300344941\n",
      "  (np.int32(12), np.int32(1))\t1.0\n"
     ]
    }
   ],
   "source": [
    "print(feature_vectors)"
   ]
  },
  {
   "cell_type": "code",
   "execution_count": 38,
   "metadata": {},
   "outputs": [],
   "source": [
    "# getting the similarity scores using cosine similarity\n",
    "similarity = cosine_similarity(feature_vectors, feature_vectors)"
   ]
  },
  {
   "cell_type": "code",
   "execution_count": 15,
   "metadata": {},
   "outputs": [
    {
     "name": "stdout",
     "output_type": "stream",
     "text": [
      "[[1.         0.92446432 0.92446432 0.9305387  0.9305387  0.9305387\n",
      "  0.92446432 0.79254622 0.76377229 0.9305387  0.92446432 1.\n",
      "  0.79254622]\n",
      " [0.92446432 1.         1.         0.72063173 0.72063173 0.72063173\n",
      "  1.         0.50017862 0.95218367 0.72063173 1.         0.92446432\n",
      "  0.50017862]\n",
      " [0.92446432 1.         1.         0.72063173 0.72063173 0.72063173\n",
      "  1.         0.50017862 0.95218367 0.72063173 1.         0.92446432\n",
      "  0.50017862]\n",
      " [0.9305387  0.72063173 0.72063173 1.         1.         1.\n",
      "  0.72063173 0.96080411 0.47434693 1.         0.72063173 0.9305387\n",
      "  0.96080411]\n",
      " [0.9305387  0.72063173 0.72063173 1.         1.         1.\n",
      "  0.72063173 0.96080411 0.47434693 1.         0.72063173 0.9305387\n",
      "  0.96080411]\n",
      " [0.9305387  0.72063173 0.72063173 1.         1.         1.\n",
      "  0.72063173 0.96080411 0.47434693 1.         0.72063173 0.9305387\n",
      "  0.96080411]\n",
      " [0.92446432 1.         1.         0.72063173 0.72063173 0.72063173\n",
      "  1.         0.50017862 0.95218367 0.72063173 1.         0.92446432\n",
      "  0.50017862]\n",
      " [0.79254622 0.50017862 0.50017862 0.96080411 0.96080411 0.96080411\n",
      "  0.50017862 1.         0.21169998 0.96080411 0.50017862 0.79254622\n",
      "  1.        ]\n",
      " [0.76377229 0.95218367 0.95218367 0.47434693 0.47434693 0.47434693\n",
      "  0.95218367 0.21169998 1.         0.47434693 0.95218367 0.76377229\n",
      "  0.21169998]\n",
      " [0.9305387  0.72063173 0.72063173 1.         1.         1.\n",
      "  0.72063173 0.96080411 0.47434693 1.         0.72063173 0.9305387\n",
      "  0.96080411]\n",
      " [0.92446432 1.         1.         0.72063173 0.72063173 0.72063173\n",
      "  1.         0.50017862 0.95218367 0.72063173 1.         0.92446432\n",
      "  0.50017862]\n",
      " [1.         0.92446432 0.92446432 0.9305387  0.9305387  0.9305387\n",
      "  0.92446432 0.79254622 0.76377229 0.9305387  0.92446432 1.\n",
      "  0.79254622]\n",
      " [0.79254622 0.50017862 0.50017862 0.96080411 0.96080411 0.96080411\n",
      "  0.50017862 1.         0.21169998 0.96080411 0.50017862 0.79254622\n",
      "  1.        ]]\n"
     ]
    }
   ],
   "source": [
    "print(similarity)"
   ]
  },
  {
   "cell_type": "code",
   "execution_count": 44,
   "metadata": {},
   "outputs": [
    {
     "name": "stdout",
     "output_type": "stream",
     "text": [
      "['Fábricas de Productividad y Sostenibilidad - Huila', 'Cursos virtuales de Emprendimiento', 'Expovivienda', 'CEmprende', 'VERSIÓN 184 DE LA FERIA GANADERA, MERCADO GANADERO, MUESTRA GANADERA, CONCURSO DE LA VACA LECHERA, MUESTRA AGRO EMPRESARIAL, DE TURISMO Y MERCADO CAMP', 'FERIA EQUINA GRADO B EN SU VERSIÓN 185, MERCADO GANADERO, MUESTRA AGRO EMPRESARIAL, COMERCIAL DE TURISMO, MERCADO CAMPESINO EN EL MUNIC', 'Sistema de Información Turístico y Cultural de Huila', 'feria internacional de cafe cacao y agroturismo', 'CONVOCATORIA PARA EL SECTOR TURISMO DEL DEPARTAMENTO DEL HUILA.', 'CELEBRACIÓN DEL DÍA DEL CAMPESINO DEL MUNICIPIO DE LA PLATA HUILA', 'Convocatoria Concertación Proyectos y Estimulos Para Gestores Culturales Huilenses', 'Convocatoria', 'Gestión de la Información Estadística y Cartográfica \"Sistema de Información Regional SIR-SIGDEGHU\"']\n"
     ]
    }
   ],
   "source": [
    "# creating a list with all the movie names given in the dataset\n",
    "\n",
    "list_of_all_titles = data_arco['Nombre del Instrumento'].tolist()\n",
    "print(list_of_all_titles)"
   ]
  },
  {
   "cell_type": "code",
   "execution_count": 57,
   "metadata": {},
   "outputs": [],
   "source": [
    "# getting the movie name from the user\n",
    "instrument_name = input(' Introducir el nombre del instrumento : ')\n",
    "#instrument_name = 'Información estadística de la temática económica'\n"
   ]
  },
  {
   "cell_type": "code",
   "execution_count": 58,
   "metadata": {},
   "outputs": [
    {
     "name": "stdout",
     "output_type": "stream",
     "text": [
      "['CEmprende']\n"
     ]
    }
   ],
   "source": [
    "# finding the close match for the instrument name given by the user\n",
    "find_close_match = difflib.get_close_matches(instrument_name, list_of_all_titles)\n",
    "print(find_close_match)"
   ]
  },
  {
   "cell_type": "code",
   "execution_count": 59,
   "metadata": {},
   "outputs": [],
   "source": [
    "from difflib import SequenceMatcher\n",
    "\n",
    "def calculate_similarity(a, b):\n",
    "    return SequenceMatcher(None, a, b).ratio()\n",
    "\n",
    "# Ordenar los instrumentos según similitud con el nombre escogido\n",
    "instrumentos_similares = sorted(\n",
    "    list_of_all_titles,\n",
    "    key=lambda x: calculate_similarity(instrument_name, x),\n",
    "    reverse=True\n",
    ")[:10]\n"
   ]
  },
  {
   "cell_type": "code",
   "execution_count": 60,
   "metadata": {},
   "outputs": [
    {
     "name": "stdout",
     "output_type": "stream",
     "text": [
      "['CEmprende', 'Expovivienda', 'Cursos virtuales de Emprendimiento', 'Convocatoria', 'feria internacional de cafe cacao y agroturismo', 'Convocatoria Concertación Proyectos y Estimulos Para Gestores Culturales Huilenses', 'Fábricas de Productividad y Sostenibilidad - Huila', 'Sistema de Información Turístico y Cultural de Huila', 'Gestión de la Información Estadística y Cartográfica \"Sistema de Información Regional SIR-SIGDEGHU\"', 'CONVOCATORIA PARA EL SECTOR TURISMO DEL DEPARTAMENTO DEL HUILA.']\n"
     ]
    }
   ],
   "source": [
    "print(instrumentos_similares)"
   ]
  },
  {
   "cell_type": "markdown",
   "metadata": {},
   "source": [
    "### Análisis a partir de descripciones y features"
   ]
  },
  {
   "cell_type": "code",
   "execution_count": 16,
   "metadata": {},
   "outputs": [],
   "source": [
    "# Fill missing values with empty strings\n",
    "data_arco['Descripción'] = data_arco['Descripción'].fillna('')\n",
    "\n",
    "# Optionally, convert text to lowercase\n",
    "data_arco['Descripción'] = data_arco['Descripción'].str.lower()"
   ]
  },
  {
   "cell_type": "code",
   "execution_count": 18,
   "metadata": {},
   "outputs": [],
   "source": [
    "# Fill missing values with empty strings\n",
    "data_arco['Descripción'] = data_arco['Descripción'].fillna('')\n",
    "\n",
    "# Convert text to lowercase\n",
    "data_arco['Descripción'] = data_arco['Descripción'].str.lower()\n",
    "\n",
    "# Vectorize the descriptions\n",
    "vectorizer_desc = TfidfVectorizer()\n",
    "description_vectors = vectorizer_desc.fit_transform(data_arco['Descripción'])"
   ]
  },
  {
   "cell_type": "code",
   "execution_count": 22,
   "metadata": {},
   "outputs": [],
   "source": [
    "# Selected features\n",
    "selected_features = ['Emprendedores', 'Microempresa', 'Pequeña Empresa', 'Mediana Empresa', 'Gobierno ', 'Academia', 'Personas naturales']\n",
    "\n",
    "# Fill missing values with empty strings\n",
    "for feature in selected_features:\n",
    "    data_arco[feature] = data_arco[feature].fillna('')\n",
    "\n",
    "# combining all the 5 selected features - Con todos los tipos de usuarios\n",
    "combined_features = data_arco['Emprendedores'] + ' ' + data_arco['Microempresa'] + ' ' + data_arco['Pequeña Empresa'] + ' ' + data_arco['Mediana Empresa'] + ' ' + data_arco['Gobierno '] + ' ' + data_arco['Academia'] + ' ' + data_arco['Personas naturales'] \n",
    "\n",
    "# Vectorize the combined features\n",
    "vectorizer_features = TfidfVectorizer()\n",
    "feature_vectors = vectorizer_features.fit_transform(combined_features)"
   ]
  },
  {
   "cell_type": "code",
   "execution_count": 23,
   "metadata": {},
   "outputs": [],
   "source": [
    "from sklearn.metrics.pairwise import cosine_similarity\n",
    "\n",
    "# Description similarity matrix\n",
    "description_similarity = cosine_similarity(description_vectors, description_vectors)\n",
    "\n",
    "# Features similarity matrix\n",
    "features_similarity = cosine_similarity(feature_vectors, feature_vectors)"
   ]
  },
  {
   "cell_type": "code",
   "execution_count": 24,
   "metadata": {},
   "outputs": [],
   "source": [
    "# Define weights\n",
    "weight_desc = 0.7\n",
    "weight_features = 0.3\n",
    "\n",
    "# Ensure both matrices are in the range [0, 1]\n",
    "# If necessary, normalize the matrices\n",
    "# For cosine similarity, values are already between -1 and 1, but we can adjust them to [0, 1]\n",
    "description_similarity = (description_similarity + 1) / 2\n",
    "features_similarity = (features_similarity + 1) / 2\n",
    "\n",
    "# Combine the similarity matrices\n",
    "combined_sim = (weight_desc * description_similarity) + (weight_features * features_similarity)"
   ]
  },
  {
   "cell_type": "code",
   "execution_count": 26,
   "metadata": {},
   "outputs": [],
   "source": [
    "from difflib import SequenceMatcher\n",
    "\n",
    "def find_closest_name(query, names):\n",
    "    max_ratio = 0\n",
    "    closest_name = \"\"\n",
    "    for name in names:\n",
    "        ratio = SequenceMatcher(None, query, name).ratio()\n",
    "        if ratio > max_ratio:\n",
    "            max_ratio = ratio\n",
    "            closest_name = name\n",
    "    return closest_name\n",
    "\n",
    "def recommend_instruments(input_name, data_arco, combined_sim, top_n=5):\n",
    "    # Find the closest instrument name\n",
    "    closest_name = find_closest_name(input_name, data_arco['Nombre del Instrumento'])\n",
    "    # Get the index of the selected instrument\n",
    "    selected_index = data_arco[data_arco['Nombre del Instrumento'] == closest_name].index[0]\n",
    "    # Get similarity scores\n",
    "    sim_scores = list(enumerate(combined_sim[selected_index]))\n",
    "    # Sort the scores\n",
    "    sim_scores = sorted(sim_scores, key=lambda x: x[1], reverse=True)\n",
    "    # Exclude the selected instrument\n",
    "    sim_scores = [x for x in sim_scores if x[0] != selected_index]\n",
    "    # Get top N indices\n",
    "    top_indices = [i[0] for i in sim_scores[:top_n]]\n",
    "    # Return recommended instruments\n",
    "    return data_arco.iloc[top_indices][['Código', 'Nombre del Instrumento', 'Sector', 'Entidad']]"
   ]
  },
  {
   "cell_type": "code",
   "execution_count": 28,
   "metadata": {},
   "outputs": [
    {
     "name": "stdout",
     "output_type": "stream",
     "text": [
      "    Código                             Nombre del Instrumento    Sector  \\\n",
      "9     3419  CELEBRACIÓN DEL DÍA DEL CAMPESINO DEL MUNICIPI...       NaN   \n",
      "3     3321                                          CEmprende  Comercio   \n",
      "4     3403  VERSIÓN 184 DE LA FERIA GANADERA, MERCADO GANA...       NaN   \n",
      "7     3415    feria internacional de cafe cacao y agroturismo       NaN   \n",
      "10    3428  Convocatoria Concertación Proyectos y Estimulo...       NaN   \n",
      "5     3407  FERIA EQUINA GRADO B EN SU VERSIÓN 185, MERCAD...       NaN   \n",
      "11    3760                                       Convocatoria       NaN   \n",
      "12    3762  Gestión de la Información Estadística y Cartog...       NaN   \n",
      "2     3308                                       Expovivienda       NaN   \n",
      "8     3416  CONVOCATORIA PARA EL SECTOR TURISMO DEL DEPART...       NaN   \n",
      "1     3304                 Cursos virtuales de Emprendimiento       NaN   \n",
      "6     3410  Sistema de Información Turístico y Cultural de...       NaN   \n",
      "\n",
      "                                 Entidad  \n",
      "9   Alcaldía Municipal de La Plata Huila  \n",
      "3                      INNPULSA COLOMBIA  \n",
      "4   Alcaldía Municipal de La Plata Huila  \n",
      "7                   Gobernación de Huila  \n",
      "10                  Gobernación de Huila  \n",
      "5   Alcaldía Municipal de La Plata Huila  \n",
      "11                  Gobernación de Huila  \n",
      "12                  Gobernación de Huila  \n",
      "2                          Camacol Huila  \n",
      "8                   Gobernación de Huila  \n",
      "1             Politécnico Grancolombiano  \n",
      "6                   Gobernación de Huila  \n"
     ]
    }
   ],
   "source": [
    "# Example usage\n",
    "recommendations = recommend_instruments(\"Fábricas de Productividad y Sostenibilidad - Huila\", data_arco, combined_sim, top_n=20)\n",
    "print(recommendations)"
   ]
  },
  {
   "cell_type": "code",
   "execution_count": 29,
   "metadata": {},
   "outputs": [],
   "source": [
    "# Directorio DNP\n",
    "recommendations.to_excel('C:/Users/supegui/Documents/Metodología ArCo/Python/Excel/recomendaciones_arco_huila.xlsx', index=False)\n",
    "\n",
    "# Directorio remoto\n",
    "#recommendations.to_excel('C:/Backup - Archivos de trabajo/DNP/Automatización ArCo/Excel/recomendaciones.xlsx', index=False)"
   ]
  }
 ],
 "metadata": {
  "kernelspec": {
   "display_name": "surprise_env",
   "language": "python",
   "name": "python3"
  },
  "language_info": {
   "codemirror_mode": {
    "name": "ipython",
    "version": 3
   },
   "file_extension": ".py",
   "mimetype": "text/x-python",
   "name": "python",
   "nbconvert_exporter": "python",
   "pygments_lexer": "ipython3",
   "version": "3.9.20"
  }
 },
 "nbformat": 4,
 "nbformat_minor": 2
}

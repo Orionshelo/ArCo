{
 "cells": [
  {
   "cell_type": "code",
   "execution_count": 3,
   "metadata": {},
   "outputs": [],
   "source": [
    "import pandas as pd\n",
    "import numpy as np\n",
    "import os\n",
    "from datetime import datetime\n",
    "from sklearn.preprocessing import StandardScaler\n",
    "from sklearn.feature_extraction.text import TfidfVectorizer\n",
    "from sklearn.metrics.pairwise import cosine_similarity"
   ]
  },
  {
   "cell_type": "code",
   "execution_count": 15,
   "metadata": {},
   "outputs": [],
   "source": [
    "# 1. Configuración inicial y carga de datos\n",
    "os.chdir(\"C:/Backup - Archivos de trabajo/DNP/Automatización ArCo/Excel\")\n",
    "nombre_archivo = \"2024 10 25 - Base Original_PI.xlsx\"\n",
    "data = pd.read_excel(nombre_archivo)"
   ]
  },
  {
   "cell_type": "code",
   "execution_count": 16,
   "metadata": {},
   "outputs": [],
   "source": [
    "# 2. Eliminar duplicados basados en el nombre del instrumento\n",
    "data = data.drop_duplicates(subset='Nombre del Instrumento')"
   ]
  },
  {
   "cell_type": "code",
   "execution_count": 5,
   "metadata": {},
   "outputs": [],
   "source": [
    "descripcion = data['Descripción larga'].fillna('')"
   ]
  },
  {
   "cell_type": "code",
   "execution_count": 7,
   "metadata": {},
   "outputs": [],
   "source": [
    "# Convertir la columna 'Descripción larga' a texto\n",
    "data['Descripción larga'] = data['Descripción larga'].astype(str)"
   ]
  },
  {
   "cell_type": "code",
   "execution_count": 8,
   "metadata": {},
   "outputs": [
    {
     "data": {
      "text/html": [
       "<div>\n",
       "<style scoped>\n",
       "    .dataframe tbody tr th:only-of-type {\n",
       "        vertical-align: middle;\n",
       "    }\n",
       "\n",
       "    .dataframe tbody tr th {\n",
       "        vertical-align: top;\n",
       "    }\n",
       "\n",
       "    .dataframe thead th {\n",
       "        text-align: right;\n",
       "    }\n",
       "</style>\n",
       "<table border=\"1\" class=\"dataframe\">\n",
       "  <thead>\n",
       "    <tr style=\"text-align: right;\">\n",
       "      <th></th>\n",
       "      <th>Descripción larga</th>\n",
       "      <th>Palabras Clave</th>\n",
       "    </tr>\n",
       "  </thead>\n",
       "  <tbody>\n",
       "    <tr>\n",
       "      <th>0</th>\n",
       "      <td>A partir del modelo pedagógico de la entidad p...</td>\n",
       "      <td>[modelo, pedagógico, entidad, ciclo, vida, des...</td>\n",
       "    </tr>\n",
       "    <tr>\n",
       "      <th>1</th>\n",
       "      <td>Los requisitos para vincularse a Hoy y Mañana ...</td>\n",
       "      <td>[requisitos, vincularse, Mañana, BEPS, ciudada...</td>\n",
       "    </tr>\n",
       "    <tr>\n",
       "      <th>2</th>\n",
       "      <td>La feria Silverexpo se realiza en alianza con ...</td>\n",
       "      <td>[feria, Silverexpo, realiza, alianza, Corferia...</td>\n",
       "    </tr>\n",
       "    <tr>\n",
       "      <th>3</th>\n",
       "      <td>La adecuación de tierras es el servicio públic...</td>\n",
       "      <td>[adecuación, tierras, servicio, público, contr...</td>\n",
       "    </tr>\n",
       "    <tr>\n",
       "      <th>4</th>\n",
       "      <td>MEJORAR LA TRANSFERENCIA Y APROPIACIÓN DEL CON...</td>\n",
       "      <td>[MEJORAR, TRANSFERENCIA, APROPIACIÓN, CONOCIMI...</td>\n",
       "    </tr>\n",
       "  </tbody>\n",
       "</table>\n",
       "</div>"
      ],
      "text/plain": [
       "                                   Descripción larga  \\\n",
       "0  A partir del modelo pedagógico de la entidad p...   \n",
       "1  Los requisitos para vincularse a Hoy y Mañana ...   \n",
       "2  La feria Silverexpo se realiza en alianza con ...   \n",
       "3  La adecuación de tierras es el servicio públic...   \n",
       "4  MEJORAR LA TRANSFERENCIA Y APROPIACIÓN DEL CON...   \n",
       "\n",
       "                                      Palabras Clave  \n",
       "0  [modelo, pedagógico, entidad, ciclo, vida, des...  \n",
       "1  [requisitos, vincularse, Mañana, BEPS, ciudada...  \n",
       "2  [feria, Silverexpo, realiza, alianza, Corferia...  \n",
       "3  [adecuación, tierras, servicio, público, contr...  \n",
       "4  [MEJORAR, TRANSFERENCIA, APROPIACIÓN, CONOCIMI...  "
      ]
     },
     "execution_count": 8,
     "metadata": {},
     "output_type": "execute_result"
    }
   ],
   "source": [
    "import spacy\n",
    "\n",
    "# Cargar el modelo de lenguaje en español de spaCy\n",
    "nlp = spacy.load(\"es_core_news_sm\")\n",
    "\n",
    "# Función para extraer palabras clave\n",
    "def extract_keywords(text):\n",
    "    doc = nlp(text)\n",
    "    keywords = [token.text for token in doc if token.is_alpha and not token.is_stop]\n",
    "    return keywords\n",
    "\n",
    "# Aplicar la función a la columna 'Descripción larga'\n",
    "data['Palabras Clave'] = data['Descripción larga'].apply(extract_keywords)\n",
    "\n",
    "# Mostrar las primeras filas con las palabras clave extraídas\n",
    "data[['Descripción larga', 'Palabras Clave']].head()"
   ]
  },
  {
   "cell_type": "code",
   "execution_count": 11,
   "metadata": {},
   "outputs": [
    {
     "name": "stdout",
     "output_type": "stream",
     "text": [
      "Instrumento 1: Educación Financiera, Instrumento 2: Talleres de educación financiera, Similitud: 86.21%\n",
      "Instrumento 1: Becas en el Exterior para estudiantes y profesionales colombianos, Instrumento 2: Becas en el Exterior para estudiantes y profesionales colombianos 2024-2, Similitud: 97.42%\n",
      "Instrumento 1: Becas en el Exterior para estudiantes y profesionales colombianos 2024-2, Instrumento 2: Becas en el exterior para estudiantes y profesionales Colombianos 2025-1, Similitud: 80.22%\n",
      "Instrumento 1: Crédito educativo a traves de la administración de recursos de terceros, Instrumento 2: Crédito educativo a través de la administración de recursos de terceros, Similitud: 81.46%\n",
      "Instrumento 1: Colecciones biológicas 2025, Instrumento 2: Servicio de modelamiento para la conservación de la biodiversidad 2025, Similitud: 86.24%\n",
      "Instrumento 1: Beneficios Tributarios por la Vinculación de Doctores a las empresas, Instrumento 2: REGISTRO DE PROPUESTAS QUE ACCEDERÁN A LOS BENEFICIOS TRIBUTARIOS POR VINCULACIÓN DE PERSONAL CON TÍTULO DE DOCTORADO EN LAS EMPRESAS, Similitud: 85.39%\n",
      "Instrumento 1: CONVOCATORIA 948: CONVOCATORIA ORQUÍDEAS: MUJERES EN LA CIENCIA 2024, Instrumento 2: Convocatoria orquídeas: Mujeres en la ciencia, Similitud: 97.98%\n",
      "Instrumento 1: Convocatoria Mision Soberanía Sanitaria y Bienestar Social - Territorios Garantes de la Salud, Instrumento 2: Convocatoria Misión Soberanía Sanitaria y Bienestar Social - Territorios Garantes de la Salud, Similitud: 86.76%\n",
      "Instrumento 1: CAPACITACION EN ADMINISTRACIÓN DEPORTIVA, Instrumento 2: CAPACITACION EN ADMINSITRACIÓN DEPORTIVA, Similitud: 90.54%\n",
      "Instrumento 1: Plan Nacional de Recreación, Instrumento 2: PLAN NACIONAL DE RECREACION 2020-2026, Similitud: 91.02%\n",
      "Instrumento 1: Acompañamiento técnico para la resolución de conflictos comunitarios de los pueblos negros, afrocolombianos, raizales y palanqueros - NARP, Instrumento 2: Asistencia técnica para la resolución de conflictos comunitarios de los pueblos negros, afrocolombianos, raizales y palanqueros - NARP., Similitud: 87.66%\n",
      "Instrumento 1: Sistemas Inteligentes de Transporte (ITS), Instrumento 2: Sistemas Inteligentes de Transporte Colombia (ITS), Similitud: 96.07%\n"
     ]
    }
   ],
   "source": [
    "# Vectorizar las palabras clave usando TF-IDF\n",
    "vectorizer_keywords = TfidfVectorizer()\n",
    "tfidf_matrix_keywords = vectorizer_keywords.fit_transform(data['Palabras Clave'].apply(lambda x: ' '.join(x)))\n",
    "\n",
    "# Calcular la similitud de coseno entre las palabras clave\n",
    "keywords_sim = cosine_similarity(tfidf_matrix_keywords) * 100\n",
    "\n",
    "# Encontrar y etiquetar las parejas de instrumentos que se parecen\n",
    "similar_pairs = []\n",
    "for i in range(len(data)):\n",
    "    for j in range(i + 1, len(data)):\n",
    "        similarity = keywords_sim[i, j]\n",
    "        if similarity > 80:  # Considerar solo similitudes mayores a 0\n",
    "            similar_pairs.append((data.iloc[i]['Nombre del Instrumento'], data.iloc[j]['Nombre del Instrumento'], similarity))\n",
    "\n",
    "# Imprimir las parejas de instrumentos que se parecen\n",
    "for pair in similar_pairs:\n",
    "    print(f\"Instrumento 1: {pair[0]}, Instrumento 2: {pair[1]}, Similitud: {pair[2]:.2f}%\")"
   ]
  },
  {
   "cell_type": "code",
   "execution_count": 19,
   "metadata": {},
   "outputs": [],
   "source": [
    "# 3. Definir las columnas para cada categoría\n",
    "usuarios_cols = ['Emprendedores', 'Mipymes', 'Grandes empresas', 'Gobierno ', 'Academia', \n",
    "                'Entidades de soporte', 'Personas naturales']\n",
    "objetivo_cols = ['Innovación', 'Emprendimiento', 'Economía Popular', \n",
    "                'Transferencia de Conocimiento y Tecnología', 'Investigación', \n",
    "                'Formación de Capital Humano', 'Propiedad intelectual', 'Calidad', \n",
    "                'Clúster o encadenamientos', 'Financiación', 'Comercialización', \n",
    "                'Formalización', 'Crecimiento Sostenible', 'Inclusión Financiera', \n",
    "                'Comercio Electrónico', 'Educación económica y financiera', \n",
    "                'Competencias Digitales']\n",
    "apoyo_cols = ['Formación de Talento Humano', 'Tipo de Sistemas de Información', \n",
    "              'Asistencia técnica y Consultoría', 'Tipo de Redes de Colaboración', \n",
    "              'Apoyo Financiero', 'Incentivos Tributarios', 'Eventos', 'Compra Pública', \n",
    "              'Bonos o Vouchers', 'Premios y Reconocimientos', 'Instrumentos Regulatorios']\n",
    "\n"
   ]
  },
  {
   "cell_type": "code",
   "execution_count": 7,
   "metadata": {},
   "outputs": [
    {
     "ename": "KeyError",
     "evalue": "\"['Academia_', 'Personas Naturales'] not in index\"",
     "output_type": "error",
     "traceback": [
      "\u001b[1;31m---------------------------------------------------------------------------\u001b[0m",
      "\u001b[1;31mKeyError\u001b[0m                                  Traceback (most recent call last)",
      "Cell \u001b[1;32mIn[7], line 9\u001b[0m\n\u001b[0;32m      6\u001b[0m     binary_matrix \u001b[38;5;241m=\u001b[39m df[columns]\u001b[38;5;241m.\u001b[39mreplace({\u001b[38;5;124m\"\u001b[39m\u001b[38;5;124mSi\u001b[39m\u001b[38;5;124m\"\u001b[39m: \u001b[38;5;241m1\u001b[39m, \u001b[38;5;124m\"\u001b[39m\u001b[38;5;124mNo\u001b[39m\u001b[38;5;124m\"\u001b[39m: \u001b[38;5;241m0\u001b[39m})\u001b[38;5;241m.\u001b[39mfillna(\u001b[38;5;241m0\u001b[39m)\u001b[38;5;241m.\u001b[39mvalues\n\u001b[0;32m      7\u001b[0m     \u001b[38;5;28;01mreturn\u001b[39;00m scaler\u001b[38;5;241m.\u001b[39mfit_transform(binary_matrix)\n\u001b[1;32m----> 9\u001b[0m usuarios_matrix \u001b[38;5;241m=\u001b[39m \u001b[43mprepare_normalized_matrix\u001b[49m\u001b[43m(\u001b[49m\u001b[43mdata\u001b[49m\u001b[43m,\u001b[49m\u001b[43m \u001b[49m\u001b[43musuarios_cols\u001b[49m\u001b[43m)\u001b[49m\n\u001b[0;32m     10\u001b[0m objetivo_matrix \u001b[38;5;241m=\u001b[39m prepare_normalized_matrix(data, objetivo_cols)\n\u001b[0;32m     11\u001b[0m apoyo_matrix \u001b[38;5;241m=\u001b[39m prepare_normalized_matrix(data, apoyo_cols)\n",
      "Cell \u001b[1;32mIn[7], line 6\u001b[0m, in \u001b[0;36mprepare_normalized_matrix\u001b[1;34m(df, columns)\u001b[0m\n\u001b[0;32m      5\u001b[0m \u001b[38;5;28;01mdef\u001b[39;00m \u001b[38;5;21mprepare_normalized_matrix\u001b[39m(df, columns):\n\u001b[1;32m----> 6\u001b[0m     binary_matrix \u001b[38;5;241m=\u001b[39m \u001b[43mdf\u001b[49m\u001b[43m[\u001b[49m\u001b[43mcolumns\u001b[49m\u001b[43m]\u001b[49m\u001b[38;5;241m.\u001b[39mreplace({\u001b[38;5;124m\"\u001b[39m\u001b[38;5;124mSi\u001b[39m\u001b[38;5;124m\"\u001b[39m: \u001b[38;5;241m1\u001b[39m, \u001b[38;5;124m\"\u001b[39m\u001b[38;5;124mNo\u001b[39m\u001b[38;5;124m\"\u001b[39m: \u001b[38;5;241m0\u001b[39m})\u001b[38;5;241m.\u001b[39mfillna(\u001b[38;5;241m0\u001b[39m)\u001b[38;5;241m.\u001b[39mvalues\n\u001b[0;32m      7\u001b[0m     \u001b[38;5;28;01mreturn\u001b[39;00m scaler\u001b[38;5;241m.\u001b[39mfit_transform(binary_matrix)\n",
      "File \u001b[1;32mc:\\Users\\sebas\\anaconda3\\Lib\\site-packages\\pandas\\core\\frame.py:3899\u001b[0m, in \u001b[0;36mDataFrame.__getitem__\u001b[1;34m(self, key)\u001b[0m\n\u001b[0;32m   3897\u001b[0m     \u001b[38;5;28;01mif\u001b[39;00m is_iterator(key):\n\u001b[0;32m   3898\u001b[0m         key \u001b[38;5;241m=\u001b[39m \u001b[38;5;28mlist\u001b[39m(key)\n\u001b[1;32m-> 3899\u001b[0m     indexer \u001b[38;5;241m=\u001b[39m \u001b[38;5;28;43mself\u001b[39;49m\u001b[38;5;241;43m.\u001b[39;49m\u001b[43mcolumns\u001b[49m\u001b[38;5;241;43m.\u001b[39;49m\u001b[43m_get_indexer_strict\u001b[49m\u001b[43m(\u001b[49m\u001b[43mkey\u001b[49m\u001b[43m,\u001b[49m\u001b[43m \u001b[49m\u001b[38;5;124;43m\"\u001b[39;49m\u001b[38;5;124;43mcolumns\u001b[39;49m\u001b[38;5;124;43m\"\u001b[39;49m\u001b[43m)\u001b[49m[\u001b[38;5;241m1\u001b[39m]\n\u001b[0;32m   3901\u001b[0m \u001b[38;5;66;03m# take() does not accept boolean indexers\u001b[39;00m\n\u001b[0;32m   3902\u001b[0m \u001b[38;5;28;01mif\u001b[39;00m \u001b[38;5;28mgetattr\u001b[39m(indexer, \u001b[38;5;124m\"\u001b[39m\u001b[38;5;124mdtype\u001b[39m\u001b[38;5;124m\"\u001b[39m, \u001b[38;5;28;01mNone\u001b[39;00m) \u001b[38;5;241m==\u001b[39m \u001b[38;5;28mbool\u001b[39m:\n",
      "File \u001b[1;32mc:\\Users\\sebas\\anaconda3\\Lib\\site-packages\\pandas\\core\\indexes\\base.py:6114\u001b[0m, in \u001b[0;36mIndex._get_indexer_strict\u001b[1;34m(self, key, axis_name)\u001b[0m\n\u001b[0;32m   6111\u001b[0m \u001b[38;5;28;01melse\u001b[39;00m:\n\u001b[0;32m   6112\u001b[0m     keyarr, indexer, new_indexer \u001b[38;5;241m=\u001b[39m \u001b[38;5;28mself\u001b[39m\u001b[38;5;241m.\u001b[39m_reindex_non_unique(keyarr)\n\u001b[1;32m-> 6114\u001b[0m \u001b[38;5;28;43mself\u001b[39;49m\u001b[38;5;241;43m.\u001b[39;49m\u001b[43m_raise_if_missing\u001b[49m\u001b[43m(\u001b[49m\u001b[43mkeyarr\u001b[49m\u001b[43m,\u001b[49m\u001b[43m \u001b[49m\u001b[43mindexer\u001b[49m\u001b[43m,\u001b[49m\u001b[43m \u001b[49m\u001b[43maxis_name\u001b[49m\u001b[43m)\u001b[49m\n\u001b[0;32m   6116\u001b[0m keyarr \u001b[38;5;241m=\u001b[39m \u001b[38;5;28mself\u001b[39m\u001b[38;5;241m.\u001b[39mtake(indexer)\n\u001b[0;32m   6117\u001b[0m \u001b[38;5;28;01mif\u001b[39;00m \u001b[38;5;28misinstance\u001b[39m(key, Index):\n\u001b[0;32m   6118\u001b[0m     \u001b[38;5;66;03m# GH 42790 - Preserve name from an Index\u001b[39;00m\n",
      "File \u001b[1;32mc:\\Users\\sebas\\anaconda3\\Lib\\site-packages\\pandas\\core\\indexes\\base.py:6178\u001b[0m, in \u001b[0;36mIndex._raise_if_missing\u001b[1;34m(self, key, indexer, axis_name)\u001b[0m\n\u001b[0;32m   6175\u001b[0m     \u001b[38;5;28;01mraise\u001b[39;00m \u001b[38;5;167;01mKeyError\u001b[39;00m(\u001b[38;5;124mf\u001b[39m\u001b[38;5;124m\"\u001b[39m\u001b[38;5;124mNone of [\u001b[39m\u001b[38;5;132;01m{\u001b[39;00mkey\u001b[38;5;132;01m}\u001b[39;00m\u001b[38;5;124m] are in the [\u001b[39m\u001b[38;5;132;01m{\u001b[39;00maxis_name\u001b[38;5;132;01m}\u001b[39;00m\u001b[38;5;124m]\u001b[39m\u001b[38;5;124m\"\u001b[39m)\n\u001b[0;32m   6177\u001b[0m not_found \u001b[38;5;241m=\u001b[39m \u001b[38;5;28mlist\u001b[39m(ensure_index(key)[missing_mask\u001b[38;5;241m.\u001b[39mnonzero()[\u001b[38;5;241m0\u001b[39m]]\u001b[38;5;241m.\u001b[39munique())\n\u001b[1;32m-> 6178\u001b[0m \u001b[38;5;28;01mraise\u001b[39;00m \u001b[38;5;167;01mKeyError\u001b[39;00m(\u001b[38;5;124mf\u001b[39m\u001b[38;5;124m\"\u001b[39m\u001b[38;5;132;01m{\u001b[39;00mnot_found\u001b[38;5;132;01m}\u001b[39;00m\u001b[38;5;124m not in index\u001b[39m\u001b[38;5;124m\"\u001b[39m)\n",
      "\u001b[1;31mKeyError\u001b[0m: \"['Academia_', 'Personas Naturales'] not in index\""
     ]
    }
   ],
   "source": [
    "# 4. Preparar y normalizar matrices\n",
    "scaler = StandardScaler()\n",
    "\n",
    "# Preparar matrices binarias y normalizar\n",
    "def prepare_normalized_matrix(df, columns):\n",
    "    binary_matrix = df[columns].replace({\"Si\": 1, \"No\": 0}).fillna(0).values\n",
    "    return scaler.fit_transform(binary_matrix)\n",
    "\n",
    "usuarios_matrix = prepare_normalized_matrix(data, usuarios_cols)\n",
    "objetivo_matrix = prepare_normalized_matrix(data, objetivo_cols)\n",
    "apoyo_matrix = prepare_normalized_matrix(data, apoyo_cols)\n",
    "\n"
   ]
  },
  {
   "cell_type": "code",
   "execution_count": 18,
   "metadata": {},
   "outputs": [],
   "source": [
    "# 5. Calcular similitudes usando coseno\n",
    "usuarios_sim = cosine_similarity(usuarios_matrix) * 100\n",
    "objetivo_sim = cosine_similarity(objetivo_matrix) * 100\n",
    "apoyo_sim = cosine_similarity(apoyo_matrix) * 100"
   ]
  },
  {
   "cell_type": "code",
   "execution_count": 31,
   "metadata": {},
   "outputs": [],
   "source": [
    "# 7.1. Combinar análisis de similitud por coseno con hallazgos de Palabras Clave para todos los instrumentos\n",
    "combined_results = []\n",
    "\n",
    "# Iterar sobre todos los pares posibles de instrumentos\n",
    "for i in range(len(data)):\n",
    "    for j in range(i + 1, len(data)):  # Evitar repetir pares ya evaluados\n",
    "        instrumento1 = data['Nombre del Instrumento'].iloc[i]\n",
    "        instrumento2 = data['Nombre del Instrumento'].iloc[j]\n",
    "\n",
    "        # Obtener similitudes\n",
    "        similitudes = {\n",
    "            'USUARIOS': usuarios_sim[i, j],\n",
    "            'OBJETIVO': objetivo_sim[i, j],\n",
    "            'APOYO': apoyo_sim[i, j],\n",
    "            #'ENTIDAD': entidad_sim[i, j],\n",
    "            'TEXTO': keywords_sim[i, j]\n",
    "        }\n",
    "\n",
    "        # Determinar nivel de articulación según el diagrama\n",
    "        if all([similitudes['USUARIOS'] >= 80, similitudes['OBJETIVO'] >= 80, similitudes['APOYO'] >= 80]):\n",
    "            nivel_articulacion = \"Fusionar\"\n",
    "        elif all([similitudes['USUARIOS'] >= 80, similitudes['OBJETIVO'] >= 80, similitudes['APOYO'] < 80]):\n",
    "            nivel_articulacion = \"Definir roles\"\n",
    "        elif all([similitudes['USUARIOS'] >= 80, similitudes['OBJETIVO'] >= 80]) and similitudes['APOYO'] < 80:\n",
    "            nivel_articulacion = \"Empaquetar\"\n",
    "        elif similitudes['USUARIOS'] >= 80 and similitudes['OBJETIVO'] < 80 and similitudes['APOYO'] < 80:\n",
    "            nivel_articulacion = \"Generar rutas\"\n",
    "        else:\n",
    "            continue  # No cumple con los criterios, omitir\n",
    "\n",
    "        # Guardar resultados\n",
    "        combined_results.append({\n",
    "            'Instrumento1': instrumento1,\n",
    "            'Instrumento2': instrumento2,\n",
    "            'Similitud Palabras Clave': similitudes['TEXTO'],\n",
    "            'Similitud Usuarios': similitudes['USUARIOS'],\n",
    "            'Similitud Objetivo': similitudes['OBJETIVO'],\n",
    "            'Similitud Apoyo': similitudes['APOYO'],\n",
    "            #'Similitud Entidad': similitudes['ENTIDAD'],\n",
    "            'Nivel de Articulación': nivel_articulacion\n",
    "        })\n",
    "\n",
    "# Crear DataFrame con resultados combinados\n",
    "combined_results_df = pd.DataFrame(combined_results)\n",
    "combined_results_df.head()\n",
    "\n",
    "# Guardar los resultados en un archivo Excel\n",
    "combined_results_df.to_excel(\"C:/Backup - Archivos de trabajo/DNP/Automatización ArCo/Excel/Informes por sectores/Resultados/Resultados_Combinados_Todos.xlsx\", index=False)\n"
   ]
  },
  {
   "cell_type": "code",
   "execution_count": 30,
   "metadata": {},
   "outputs": [],
   "source": [
    "combined_results_df.to_excel(\"C:/Backup - Archivos de trabajo/DNP/Automatización ArCo/Excel/Informes por sectores/Resultados/Resultados_Combinados.xlsx\", index=False)"
   ]
  },
  {
   "cell_type": "code",
   "execution_count": 12,
   "metadata": {},
   "outputs": [],
   "source": [
    "# 3. Definir las columnas para cada categoría\n",
    "usuarios_cols = ['Emprendedores', 'Mipymes', 'Grandes empresas', 'Gobierno ', 'Academia', \n",
    "                'Entidades de soporte', 'Personas naturales']\n",
    "objetivo_cols = ['Innovación', 'Emprendimiento', 'Economía Popular', \n",
    "                'Transferencia de Conocimiento y Tecnología', 'Investigación', \n",
    "                'Formación de Capital Humano', 'Propiedad intelectual', 'Calidad', \n",
    "                'Clúster o encadenamientos', 'Financiación', 'Comercialización', \n",
    "                'Formalización', 'Crecimiento Sostenible', 'Inclusión Financiera', \n",
    "                'Comercio Electrónico', 'Educación económica y financiera', \n",
    "                'Competencias Digitales']\n",
    "apoyo_cols = ['Formación de Talento Humano', 'Tipo de Sistemas de Información', \n",
    "              'Asistencia técnica y Consultoría', 'Tipo de Redes de Colaboración', \n",
    "              'Apoyo Financiero', 'Incentivos Tributarios', 'Eventos', 'Compra Pública', \n",
    "              'Bonos o Vouchers', 'Premios y Reconocimientos', 'Instrumentos Regulatorios']"
   ]
  },
  {
   "cell_type": "code",
   "execution_count": 21,
   "metadata": {},
   "outputs": [],
   "source": [
    "# Criterios ArCo PI\n",
    "\n",
    "usuarios_cols = [\"Microempresa\", \"Pequeña Empresa\", 'Mediana Empresa', 'Gobierno ', 'Academia', 'Personas naturales']\n",
    "\n",
    "\n",
    "objetivo_cols = [\"Transferencia de Conocimiento y Tecnología\",\n",
    "    \"Propiedad intelectual\",\"Si el instrumento es de propiedad intelectual por favor marque aquí!_y\",\n",
    "    \"¿Qué tipos de derechos de propiedad intelectual contempla?\"]\n",
    "\n",
    "\n",
    "apoyo_cols = [\"Formación de Talento Humano\", \"Tipo de Sistemas de Información\",\n",
    "    \"Asistencia técnica y Consultoría\", \"Tipo de Redes de Colaboración\", \"Apoyo Financiero\",\n",
    "    \"Incentivos Tributarios\", \"Eventos\", \"Compra Pública\", \"Bonos o Vouchers\", \"Premios y Reconocimientos\",\n",
    "    \"Instrumentos Regulatorios\"]"
   ]
  },
  {
   "cell_type": "code",
   "execution_count": 22,
   "metadata": {},
   "outputs": [],
   "source": [
    "# 4. Preparar y normalizar matrices\n",
    "scaler = StandardScaler()\n",
    "\n",
    "# Preparar matrices binarias y normalizar\n",
    "def prepare_normalized_matrix(df, columns):\n",
    "    binary_matrix = df[columns].replace({\"Si\": 1, \"No\": 0}).fillna(0).values\n",
    "    return scaler.fit_transform(binary_matrix)\n",
    "\n",
    "usuarios_matrix = prepare_normalized_matrix(data, usuarios_cols)\n",
    "objetivo_matrix = prepare_normalized_matrix(data, objetivo_cols)\n",
    "apoyo_matrix = prepare_normalized_matrix(data, apoyo_cols)"
   ]
  },
  {
   "cell_type": "code",
   "execution_count": 23,
   "metadata": {},
   "outputs": [],
   "source": [
    "# 5. Calcular similitudes usando coseno\n",
    "usuarios_sim = cosine_similarity(usuarios_matrix) * 100\n",
    "objetivo_sim = cosine_similarity(objetivo_matrix) * 100\n",
    "apoyo_sim = cosine_similarity(apoyo_matrix) * 100\n"
   ]
  },
  {
   "cell_type": "code",
   "execution_count": 25,
   "metadata": {},
   "outputs": [],
   "source": [
    "# 6. Calcular similitud textual usando TF-IDF\n",
    "# Combinar descripción y criterios en un solo texto\n",
    "data['texto_combinado'] = data['Descripción'].fillna('') + ' ' + \\\n",
    "                         data[usuarios_cols + objetivo_cols + apoyo_cols].apply(\n",
    "                             lambda x: ' '.join([col for col, val in x.items() if val == 'Si']), \n",
    "                             axis=1\n",
    "                         )\n",
    "\n",
    "vectorizer = TfidfVectorizer(max_features=1000)\n",
    "tfidf_matrix = vectorizer.fit_transform(data['texto_combinado'])\n",
    "texto_sim = cosine_similarity(tfidf_matrix) * 100"
   ]
  },
  {
   "cell_type": "code",
   "execution_count": 26,
   "metadata": {},
   "outputs": [],
   "source": [
    "# 7. Crear matriz de similitud para entidades\n",
    "n = len(data)\n",
    "entidades = data['Entidad'].values\n",
    "entidad_sim = np.equal.outer(entidades, entidades).astype(float) * 100"
   ]
  },
  {
   "cell_type": "code",
   "execution_count": 27,
   "metadata": {},
   "outputs": [],
   "source": [
    "# 8. Definir umbral de similitud\n",
    "UMBRAL = 70"
   ]
  },
  {
   "cell_type": "code",
   "execution_count": 23,
   "metadata": {},
   "outputs": [],
   "source": [
    "# 9. Analizar cada instrumento y crear resultados\n",
    "results = []\n",
    "for i in range(n):\n",
    "    # Calcular similitud total promedio\n",
    "    total_sim = (usuarios_sim[i] + objetivo_sim[i] + apoyo_sim[i] + \n",
    "                entidad_sim[i] + texto_sim[i]) / 5\n",
    "    total_sim[i] = -1  # Excluir comparación consigo mismo\n",
    "    \n",
    "    # Encontrar el mejor match\n",
    "    best_match_idx = np.argmax(total_sim)\n",
    "    \n",
    "    # Obtener similitudes con el mejor match\n",
    "    similitudes = {\n",
    "        'USUARIOS': usuarios_sim[i, best_match_idx],\n",
    "        'OBJETIVO': objetivo_sim[i, best_match_idx],\n",
    "        'APOYO': apoyo_sim[i, best_match_idx],\n",
    "        'ENTIDAD': entidad_sim[i, best_match_idx],\n",
    "        'TEXTO': texto_sim[i, best_match_idx]\n",
    "    }\n",
    "    \n",
    "    # Determinar similitudes altas/bajas según el umbral\n",
    "    similar_usuarios = similitudes['USUARIOS'] >= UMBRAL\n",
    "    similar_objetivo = similitudes['OBJETIVO'] >= UMBRAL\n",
    "    similar_apoyo = similitudes['APOYO'] >= UMBRAL\n",
    "    similar_entidad = similitudes['ENTIDAD'] >= UMBRAL\n",
    "    \n",
    "    # Determinar nivel de articulación según el diagrama\n",
    "    if all([similar_usuarios, similar_objetivo, similar_apoyo, similar_entidad]):\n",
    "        nivel_articulacion = \"2. Fusionar\"\n",
    "    elif all([similar_usuarios, similar_objetivo, similar_apoyo]) and not similar_entidad:\n",
    "        nivel_articulacion = \"3. Definir roles\"\n",
    "    elif all([similar_usuarios, similar_objetivo]) and not similar_apoyo:\n",
    "        nivel_articulacion = \"4. Empaquetar\"\n",
    "    elif similar_usuarios and not similar_objetivo:\n",
    "        nivel_articulacion = \"5. Generar rutas\"\n",
    "    else:\n",
    "        nivel_articulacion = \"1. Renunciar\"\n",
    "    \n",
    "    # Guardar resultados\n",
    "    results.append({\n",
    "        'Instrumento1': data.iloc[i]['Nombre del Instrumento'],\n",
    "        'Descripción1': data.iloc[i]['Descripción'],\n",
    "        'Entidad1': data.iloc[i]['Entidad'],\n",
    "        'Instrumento2': data.iloc[best_match_idx]['Nombre del Instrumento'],\n",
    "        'Descripción2': data.iloc[best_match_idx]['Descripción'],\n",
    "        'Entidad2': data.iloc[best_match_idx]['Entidad'],\n",
    "        'Nivel de Articulación': nivel_articulacion,\n",
    "        'Similitud Total': total_sim[best_match_idx],\n",
    "        'Similitud Usuarios': similitudes['USUARIOS'],\n",
    "        'Similitud Objetivo': similitudes['OBJETIVO'],\n",
    "        'Similitud Apoyo': similitudes['APOYO'],\n",
    "        'Similitud Entidad': similitudes['ENTIDAD'],\n",
    "        'Similitud Texto': similitudes['TEXTO']\n",
    "    })"
   ]
  },
  {
   "cell_type": "code",
   "execution_count": 24,
   "metadata": {},
   "outputs": [
    {
     "name": "stdout",
     "output_type": "stream",
     "text": [
      "Análisis completado. Los resultados se han guardado en 'Analisis_Articulacion_Instrumentos_20241018.xlsx'.\n"
     ]
    }
   ],
   "source": [
    "# 10. Crear DataFrame con resultados y exportar\n",
    "results_df = pd.DataFrame(results)\n",
    "output_filename = f\"Analisis_Articulacion_Instrumentos_{datetime.now().strftime('%Y%m%d')}.xlsx\"\n",
    "results_df.to_excel(output_filename, index=False)\n",
    "\n",
    "print(f\"Análisis completado. Los resultados se han guardado en '{output_filename}'.\")"
   ]
  }
 ],
 "metadata": {
  "kernelspec": {
   "display_name": "base",
   "language": "python",
   "name": "python3"
  },
  "language_info": {
   "codemirror_mode": {
    "name": "ipython",
    "version": 3
   },
   "file_extension": ".py",
   "mimetype": "text/x-python",
   "name": "python",
   "nbconvert_exporter": "python",
   "pygments_lexer": "ipython3",
   "version": "3.11.4"
  }
 },
 "nbformat": 4,
 "nbformat_minor": 2
}
